{
 "cells": [
  {
   "cell_type": "markdown",
   "metadata": {},
   "source": [
    "# PCA dimensionality reduction (but not the feature selection)"
   ]
  },
  {
   "cell_type": "code",
   "execution_count": null,
   "metadata": {},
   "outputs": [],
   "source": [
    "import pandas as pd\n",
    "from sklearn import decomposition\n",
    "from sklearn.decomposition import PCA\n"
   ]
  },
  {
   "cell_type": "code",
   "execution_count": null,
   "metadata": {},
   "outputs": [],
   "source": [
    "cancer = pd.read_csv(r\"C:\\Users\\Khushi\\Desktop\\BreastCancer.csv\")\n",
    "cancer.dropna(inplace= True)"
   ]
  },
  {
   "cell_type": "code",
   "execution_count": 1,
   "metadata": {},
   "outputs": [
    {
     "ename": "NameError",
     "evalue": "name 'cancer' is not defined",
     "output_type": "error",
     "traceback": [
      "\u001b[1;31m---------------------------------------------------------------------------\u001b[0m",
      "\u001b[1;31mNameError\u001b[0m                                 Traceback (most recent call last)",
      "\u001b[1;32m<ipython-input-1-fabe92d54eb0>\u001b[0m in \u001b[0;36m<module>\u001b[1;34m\u001b[0m\n\u001b[1;32m----> 1\u001b[1;33m \u001b[0mcancer\u001b[0m\u001b[1;33m.\u001b[0m\u001b[0mhead\u001b[0m\u001b[1;33m(\u001b[0m\u001b[1;33m)\u001b[0m\u001b[1;33m\u001b[0m\u001b[1;33m\u001b[0m\u001b[0m\n\u001b[0m",
      "\u001b[1;31mNameError\u001b[0m: name 'cancer' is not defined"
     ]
    }
   ],
   "source": [
    "cancer.head()"
   ]
  },
  {
   "cell_type": "code",
   "execution_count": null,
   "metadata": {},
   "outputs": [],
   "source": [
    "cancer.h"
   ]
  },
  {
   "cell_type": "code",
   "execution_count": 8,
   "metadata": {},
   "outputs": [],
   "source": [
    "cancer_x = cancer.iloc[:, [2,3,4,5,6,7,8,9,10]]"
   ]
  },
  {
   "cell_type": "code",
   "execution_count": 9,
   "metadata": {},
   "outputs": [
    {
     "data": {
      "text/html": [
       "<div>\n",
       "<style scoped>\n",
       "    .dataframe tbody tr th:only-of-type {\n",
       "        vertical-align: middle;\n",
       "    }\n",
       "\n",
       "    .dataframe tbody tr th {\n",
       "        vertical-align: top;\n",
       "    }\n",
       "\n",
       "    .dataframe thead th {\n",
       "        text-align: right;\n",
       "    }\n",
       "</style>\n",
       "<table border=\"1\" class=\"dataframe\">\n",
       "  <thead>\n",
       "    <tr style=\"text-align: right;\">\n",
       "      <th></th>\n",
       "      <th>Cl.thickness</th>\n",
       "      <th>Cell.size</th>\n",
       "      <th>Cell.shape</th>\n",
       "      <th>Marg.adhesion</th>\n",
       "      <th>Epith.c.size</th>\n",
       "      <th>Bare.nuclei</th>\n",
       "      <th>Bl.cromatin</th>\n",
       "      <th>Normal.nucleoli</th>\n",
       "      <th>Mitoses</th>\n",
       "    </tr>\n",
       "  </thead>\n",
       "  <tbody>\n",
       "    <tr>\n",
       "      <th>0</th>\n",
       "      <td>5</td>\n",
       "      <td>1</td>\n",
       "      <td>1</td>\n",
       "      <td>1</td>\n",
       "      <td>2</td>\n",
       "      <td>1.0</td>\n",
       "      <td>3</td>\n",
       "      <td>1</td>\n",
       "      <td>1</td>\n",
       "    </tr>\n",
       "    <tr>\n",
       "      <th>1</th>\n",
       "      <td>5</td>\n",
       "      <td>4</td>\n",
       "      <td>4</td>\n",
       "      <td>5</td>\n",
       "      <td>7</td>\n",
       "      <td>10.0</td>\n",
       "      <td>3</td>\n",
       "      <td>2</td>\n",
       "      <td>1</td>\n",
       "    </tr>\n",
       "    <tr>\n",
       "      <th>2</th>\n",
       "      <td>3</td>\n",
       "      <td>1</td>\n",
       "      <td>1</td>\n",
       "      <td>1</td>\n",
       "      <td>2</td>\n",
       "      <td>2.0</td>\n",
       "      <td>3</td>\n",
       "      <td>1</td>\n",
       "      <td>1</td>\n",
       "    </tr>\n",
       "    <tr>\n",
       "      <th>3</th>\n",
       "      <td>6</td>\n",
       "      <td>8</td>\n",
       "      <td>8</td>\n",
       "      <td>1</td>\n",
       "      <td>3</td>\n",
       "      <td>4.0</td>\n",
       "      <td>3</td>\n",
       "      <td>7</td>\n",
       "      <td>1</td>\n",
       "    </tr>\n",
       "    <tr>\n",
       "      <th>4</th>\n",
       "      <td>4</td>\n",
       "      <td>1</td>\n",
       "      <td>1</td>\n",
       "      <td>3</td>\n",
       "      <td>2</td>\n",
       "      <td>1.0</td>\n",
       "      <td>3</td>\n",
       "      <td>1</td>\n",
       "      <td>1</td>\n",
       "    </tr>\n",
       "  </tbody>\n",
       "</table>\n",
       "</div>"
      ],
      "text/plain": [
       "   Cl.thickness  Cell.size  Cell.shape  Marg.adhesion  Epith.c.size  \\\n",
       "0             5          1           1              1             2   \n",
       "1             5          4           4              5             7   \n",
       "2             3          1           1              1             2   \n",
       "3             6          8           8              1             3   \n",
       "4             4          1           1              3             2   \n",
       "\n",
       "   Bare.nuclei  Bl.cromatin  Normal.nucleoli  Mitoses  \n",
       "0          1.0            3                1        1  \n",
       "1         10.0            3                2        1  \n",
       "2          2.0            3                1        1  \n",
       "3          4.0            3                7        1  \n",
       "4          1.0            3                1        1  "
      ]
     },
     "execution_count": 9,
     "metadata": {},
     "output_type": "execute_result"
    }
   ],
   "source": [
    "cancer_x.head()"
   ]
  },
  {
   "cell_type": "code",
   "execution_count": 20,
   "metadata": {},
   "outputs": [],
   "source": [
    "cancer_y = cancer.iloc[:,11]"
   ]
  },
  {
   "cell_type": "code",
   "execution_count": 21,
   "metadata": {},
   "outputs": [
    {
     "data": {
      "text/plain": [
       "0    benign\n",
       "1    benign\n",
       "2    benign\n",
       "3    benign\n",
       "4    benign\n",
       "Name: Class, dtype: object"
      ]
     },
     "execution_count": 21,
     "metadata": {},
     "output_type": "execute_result"
    }
   ],
   "source": [
    "cancer_y.head()"
   ]
  },
  {
   "cell_type": "markdown",
   "metadata": {},
   "source": [
    "# Scale values"
   ]
  },
  {
   "cell_type": "code",
   "execution_count": 24,
   "metadata": {},
   "outputs": [],
   "source": [
    "## the data becomes unitless, so we scale\n",
    "from sklearn.preprocessing import StandardScaler"
   ]
  },
  {
   "cell_type": "code",
   "execution_count": 25,
   "metadata": {},
   "outputs": [
    {
     "data": {
      "text/plain": [
       "StandardScaler(copy=True, with_mean=True, with_std=True)"
      ]
     },
     "execution_count": 25,
     "metadata": {},
     "output_type": "execute_result"
    }
   ],
   "source": [
    "scaler = StandardScaler()\n",
    "scaler.fit(cancer_x)"
   ]
  },
  {
   "cell_type": "code",
   "execution_count": 26,
   "metadata": {},
   "outputs": [],
   "source": [
    "scaled_cancer_x = scaler.transform(cancer_x)"
   ]
  },
  {
   "cell_type": "code",
   "execution_count": 27,
   "metadata": {},
   "outputs": [
    {
     "data": {
      "text/plain": [
       "array([[ 0.19790469, -0.70221201, -0.74177362, ..., -0.18182716,\n",
       "        -0.61292736, -0.34839971],\n",
       "       [ 0.19790469,  0.27725185,  0.26278299, ..., -0.18182716,\n",
       "        -0.28510482, -0.34839971],\n",
       "       [-0.51164337, -0.70221201, -0.74177362, ..., -0.18182716,\n",
       "        -0.61292736, -0.34839971],\n",
       "       ...,\n",
       "       [ 0.19790469,  2.23617957,  2.2718962 , ...,  1.86073779,\n",
       "         2.33747554,  0.22916583],\n",
       "       [-0.15686934,  1.58320366,  0.93248739, ...,  2.67776377,\n",
       "         1.02618536, -0.34839971],\n",
       "       [-0.15686934,  1.58320366,  1.6021918 , ...,  2.67776377,\n",
       "         0.37054027, -0.34839971]])"
      ]
     },
     "execution_count": 27,
     "metadata": {},
     "output_type": "execute_result"
    }
   ],
   "source": [
    "scaled_cancer_x"
   ]
  },
  {
   "cell_type": "markdown",
   "metadata": {},
   "source": [
    "# BUILD PCA"
   ]
  },
  {
   "cell_type": "code",
   "execution_count": 28,
   "metadata": {},
   "outputs": [],
   "source": [
    "pca = decomposition.PCA()"
   ]
  },
  {
   "cell_type": "code",
   "execution_count": 29,
   "metadata": {},
   "outputs": [],
   "source": [
    "cancer_pca1 = pca.fit(scaled_cancer_x)"
   ]
  },
  {
   "cell_type": "code",
   "execution_count": 30,
   "metadata": {},
   "outputs": [],
   "source": [
    "x_pca1= pca.transform(scaled_cancer_x)"
   ]
  },
  {
   "cell_type": "code",
   "execution_count": 32,
   "metadata": {},
   "outputs": [
    {
     "data": {
      "text/plain": [
       "(683, 9)"
      ]
     },
     "execution_count": 32,
     "metadata": {},
     "output_type": "execute_result"
    }
   ],
   "source": [
    "x_pca1.shape"
   ]
  },
  {
   "cell_type": "code",
   "execution_count": 35,
   "metadata": {},
   "outputs": [
    {
     "data": {
      "text/plain": [
       "(683, 9)"
      ]
     },
     "execution_count": 35,
     "metadata": {},
     "output_type": "execute_result"
    }
   ],
   "source": [
    "cancer_x.shape"
   ]
  },
  {
   "cell_type": "code",
   "execution_count": 36,
   "metadata": {},
   "outputs": [
    {
     "data": {
      "text/plain": [
       "array([[-1.47017124, -0.10427315, -0.56568529, ...,  0.34940296,\n",
       "         0.42034379, -0.00569139],\n",
       "       [ 1.44204641, -0.57014143,  0.23660094, ..., -1.11589908,\n",
       "         0.3795772 ,  0.02342708],\n",
       "       [-1.59247769, -0.07611987,  0.0488577 , ...,  0.23274019,\n",
       "         0.20980017,  0.01337162],\n",
       "       ...,\n",
       "       [ 3.78926071, -0.14220878,  0.66214439, ...,  0.70411007,\n",
       "        -0.56962229, -0.06980149],\n",
       "       [ 2.24000695, -1.09128677,  1.03189011, ...,  1.72150472,\n",
       "        -0.1482979 ,  0.39438998],\n",
       "       [ 2.63246243, -1.18469814,  1.10489436, ...,  1.85928013,\n",
       "        -0.35829375, -0.09227611]])"
      ]
     },
     "execution_count": 36,
     "metadata": {},
     "output_type": "execute_result"
    }
   ],
   "source": [
    "x_pca1"
   ]
  },
  {
   "cell_type": "code",
   "execution_count": 39,
   "metadata": {},
   "outputs": [
    {
     "data": {
      "text/plain": [
       "array([0.65549993, 0.08621632, 0.05991692, 0.05106972, 0.04225287,\n",
       "       0.03354183, 0.03271141, 0.02897065, 0.00982036])"
      ]
     },
     "execution_count": 39,
     "metadata": {},
     "output_type": "execute_result"
    }
   ],
   "source": [
    "pca.explained_variance_ratio_   ## variance explained by each principal component"
   ]
  },
  {
   "cell_type": "code",
   "execution_count": 40,
   "metadata": {},
   "outputs": [],
   "source": [
    "## to build a model, convert it into data frame\n",
    "pca2 = pd.DataFrame(x_pca1)"
   ]
  },
  {
   "cell_type": "code",
   "execution_count": 43,
   "metadata": {},
   "outputs": [
    {
     "data": {
      "text/html": [
       "<div>\n",
       "<style scoped>\n",
       "    .dataframe tbody tr th:only-of-type {\n",
       "        vertical-align: middle;\n",
       "    }\n",
       "\n",
       "    .dataframe tbody tr th {\n",
       "        vertical-align: top;\n",
       "    }\n",
       "\n",
       "    .dataframe thead th {\n",
       "        text-align: right;\n",
       "    }\n",
       "</style>\n",
       "<table border=\"1\" class=\"dataframe\">\n",
       "  <thead>\n",
       "    <tr style=\"text-align: right;\">\n",
       "      <th></th>\n",
       "      <th>0</th>\n",
       "      <th>1</th>\n",
       "      <th>2</th>\n",
       "      <th>3</th>\n",
       "      <th>4</th>\n",
       "      <th>5</th>\n",
       "      <th>6</th>\n",
       "      <th>7</th>\n",
       "      <th>8</th>\n",
       "    </tr>\n",
       "  </thead>\n",
       "  <tbody>\n",
       "    <tr>\n",
       "      <th>0</th>\n",
       "      <td>-1.470171</td>\n",
       "      <td>-0.104273</td>\n",
       "      <td>-0.565685</td>\n",
       "      <td>-0.031959</td>\n",
       "      <td>-0.150998</td>\n",
       "      <td>0.060021</td>\n",
       "      <td>0.349403</td>\n",
       "      <td>0.420344</td>\n",
       "      <td>-0.005691</td>\n",
       "    </tr>\n",
       "    <tr>\n",
       "      <th>1</th>\n",
       "      <td>1.442046</td>\n",
       "      <td>-0.570141</td>\n",
       "      <td>0.236601</td>\n",
       "      <td>-0.478150</td>\n",
       "      <td>1.643085</td>\n",
       "      <td>-0.483035</td>\n",
       "      <td>-1.115899</td>\n",
       "      <td>0.379577</td>\n",
       "      <td>0.023427</td>\n",
       "    </tr>\n",
       "    <tr>\n",
       "      <th>2</th>\n",
       "      <td>-1.592478</td>\n",
       "      <td>-0.076120</td>\n",
       "      <td>0.048858</td>\n",
       "      <td>-0.092388</td>\n",
       "      <td>-0.059739</td>\n",
       "      <td>-0.279371</td>\n",
       "      <td>0.232740</td>\n",
       "      <td>0.209800</td>\n",
       "      <td>0.013372</td>\n",
       "    </tr>\n",
       "    <tr>\n",
       "      <th>3</th>\n",
       "      <td>1.479812</td>\n",
       "      <td>-0.528452</td>\n",
       "      <td>-0.603048</td>\n",
       "      <td>1.410827</td>\n",
       "      <td>-0.560737</td>\n",
       "      <td>0.063028</td>\n",
       "      <td>-0.211115</td>\n",
       "      <td>-1.607095</td>\n",
       "      <td>0.182777</td>\n",
       "    </tr>\n",
       "    <tr>\n",
       "      <th>4</th>\n",
       "      <td>-1.344862</td>\n",
       "      <td>-0.090719</td>\n",
       "      <td>0.029997</td>\n",
       "      <td>-0.338284</td>\n",
       "      <td>-0.108829</td>\n",
       "      <td>0.431370</td>\n",
       "      <td>0.259862</td>\n",
       "      <td>0.446655</td>\n",
       "      <td>-0.038820</td>\n",
       "    </tr>\n",
       "  </tbody>\n",
       "</table>\n",
       "</div>"
      ],
      "text/plain": [
       "          0         1         2         3         4         5         6  \\\n",
       "0 -1.470171 -0.104273 -0.565685 -0.031959 -0.150998  0.060021  0.349403   \n",
       "1  1.442046 -0.570141  0.236601 -0.478150  1.643085 -0.483035 -1.115899   \n",
       "2 -1.592478 -0.076120  0.048858 -0.092388 -0.059739 -0.279371  0.232740   \n",
       "3  1.479812 -0.528452 -0.603048  1.410827 -0.560737  0.063028 -0.211115   \n",
       "4 -1.344862 -0.090719  0.029997 -0.338284 -0.108829  0.431370  0.259862   \n",
       "\n",
       "          7         8  \n",
       "0  0.420344 -0.005691  \n",
       "1  0.379577  0.023427  \n",
       "2  0.209800  0.013372  \n",
       "3 -1.607095  0.182777  \n",
       "4  0.446655 -0.038820  "
      ]
     },
     "execution_count": 43,
     "metadata": {},
     "output_type": "execute_result"
    }
   ],
   "source": [
    "pca2.head()"
   ]
  },
  {
   "cell_type": "code",
   "execution_count": 46,
   "metadata": {},
   "outputs": [],
   "source": [
    "## rename columns\n",
    "pca2.rename(columns = {pca2.columns[0] : \"PC1\",pca2.columns[1] : \"PC2\",\n",
    "                      pca2.columns[2] : \"PC3\",\n",
    "                      pca2.columns[3] : \"PC4\",\n",
    "                      pca2.columns[4] : \"PC5\",\n",
    "                      pca2.columns[5] : \"PC6\",\n",
    "                      pca2.columns[6] : \"PC7\",\n",
    "                      pca2.columns[7] : \"PC8\",\n",
    "                      pca2.columns[8] : \"PC9\"}, inplace= True)"
   ]
  },
  {
   "cell_type": "code",
   "execution_count": 47,
   "metadata": {},
   "outputs": [
    {
     "data": {
      "text/html": [
       "<div>\n",
       "<style scoped>\n",
       "    .dataframe tbody tr th:only-of-type {\n",
       "        vertical-align: middle;\n",
       "    }\n",
       "\n",
       "    .dataframe tbody tr th {\n",
       "        vertical-align: top;\n",
       "    }\n",
       "\n",
       "    .dataframe thead th {\n",
       "        text-align: right;\n",
       "    }\n",
       "</style>\n",
       "<table border=\"1\" class=\"dataframe\">\n",
       "  <thead>\n",
       "    <tr style=\"text-align: right;\">\n",
       "      <th></th>\n",
       "      <th>PC1</th>\n",
       "      <th>PC2</th>\n",
       "      <th>PC3</th>\n",
       "      <th>PC4</th>\n",
       "      <th>PC5</th>\n",
       "      <th>PC6</th>\n",
       "      <th>PC7</th>\n",
       "      <th>PC8</th>\n",
       "      <th>PC9</th>\n",
       "    </tr>\n",
       "  </thead>\n",
       "  <tbody>\n",
       "    <tr>\n",
       "      <th>0</th>\n",
       "      <td>-1.470171</td>\n",
       "      <td>-0.104273</td>\n",
       "      <td>-0.565685</td>\n",
       "      <td>-0.031959</td>\n",
       "      <td>-0.150998</td>\n",
       "      <td>0.060021</td>\n",
       "      <td>0.349403</td>\n",
       "      <td>0.420344</td>\n",
       "      <td>-0.005691</td>\n",
       "    </tr>\n",
       "    <tr>\n",
       "      <th>1</th>\n",
       "      <td>1.442046</td>\n",
       "      <td>-0.570141</td>\n",
       "      <td>0.236601</td>\n",
       "      <td>-0.478150</td>\n",
       "      <td>1.643085</td>\n",
       "      <td>-0.483035</td>\n",
       "      <td>-1.115899</td>\n",
       "      <td>0.379577</td>\n",
       "      <td>0.023427</td>\n",
       "    </tr>\n",
       "    <tr>\n",
       "      <th>2</th>\n",
       "      <td>-1.592478</td>\n",
       "      <td>-0.076120</td>\n",
       "      <td>0.048858</td>\n",
       "      <td>-0.092388</td>\n",
       "      <td>-0.059739</td>\n",
       "      <td>-0.279371</td>\n",
       "      <td>0.232740</td>\n",
       "      <td>0.209800</td>\n",
       "      <td>0.013372</td>\n",
       "    </tr>\n",
       "    <tr>\n",
       "      <th>3</th>\n",
       "      <td>1.479812</td>\n",
       "      <td>-0.528452</td>\n",
       "      <td>-0.603048</td>\n",
       "      <td>1.410827</td>\n",
       "      <td>-0.560737</td>\n",
       "      <td>0.063028</td>\n",
       "      <td>-0.211115</td>\n",
       "      <td>-1.607095</td>\n",
       "      <td>0.182777</td>\n",
       "    </tr>\n",
       "    <tr>\n",
       "      <th>4</th>\n",
       "      <td>-1.344862</td>\n",
       "      <td>-0.090719</td>\n",
       "      <td>0.029997</td>\n",
       "      <td>-0.338284</td>\n",
       "      <td>-0.108829</td>\n",
       "      <td>0.431370</td>\n",
       "      <td>0.259862</td>\n",
       "      <td>0.446655</td>\n",
       "      <td>-0.038820</td>\n",
       "    </tr>\n",
       "  </tbody>\n",
       "</table>\n",
       "</div>"
      ],
      "text/plain": [
       "        PC1       PC2       PC3       PC4       PC5       PC6       PC7  \\\n",
       "0 -1.470171 -0.104273 -0.565685 -0.031959 -0.150998  0.060021  0.349403   \n",
       "1  1.442046 -0.570141  0.236601 -0.478150  1.643085 -0.483035 -1.115899   \n",
       "2 -1.592478 -0.076120  0.048858 -0.092388 -0.059739 -0.279371  0.232740   \n",
       "3  1.479812 -0.528452 -0.603048  1.410827 -0.560737  0.063028 -0.211115   \n",
       "4 -1.344862 -0.090719  0.029997 -0.338284 -0.108829  0.431370  0.259862   \n",
       "\n",
       "        PC8       PC9  \n",
       "0  0.420344 -0.005691  \n",
       "1  0.379577  0.023427  \n",
       "2  0.209800  0.013372  \n",
       "3 -1.607095  0.182777  \n",
       "4  0.446655 -0.038820  "
      ]
     },
     "execution_count": 47,
     "metadata": {},
     "output_type": "execute_result"
    }
   ],
   "source": [
    "pca2.head()"
   ]
  },
  {
   "cell_type": "code",
   "execution_count": 48,
   "metadata": {},
   "outputs": [],
   "source": [
    "df2 = pd.concat([pca2, cancer.iloc[:,-1]],axis=1)"
   ]
  },
  {
   "cell_type": "code",
   "execution_count": 49,
   "metadata": {},
   "outputs": [
    {
     "data": {
      "text/html": [
       "<div>\n",
       "<style scoped>\n",
       "    .dataframe tbody tr th:only-of-type {\n",
       "        vertical-align: middle;\n",
       "    }\n",
       "\n",
       "    .dataframe tbody tr th {\n",
       "        vertical-align: top;\n",
       "    }\n",
       "\n",
       "    .dataframe thead th {\n",
       "        text-align: right;\n",
       "    }\n",
       "</style>\n",
       "<table border=\"1\" class=\"dataframe\">\n",
       "  <thead>\n",
       "    <tr style=\"text-align: right;\">\n",
       "      <th></th>\n",
       "      <th>PC1</th>\n",
       "      <th>PC2</th>\n",
       "      <th>PC3</th>\n",
       "      <th>PC4</th>\n",
       "      <th>PC5</th>\n",
       "      <th>PC6</th>\n",
       "      <th>PC7</th>\n",
       "      <th>PC8</th>\n",
       "      <th>PC9</th>\n",
       "      <th>Class</th>\n",
       "    </tr>\n",
       "  </thead>\n",
       "  <tbody>\n",
       "    <tr>\n",
       "      <th>0</th>\n",
       "      <td>-1.470171</td>\n",
       "      <td>-0.104273</td>\n",
       "      <td>-0.565685</td>\n",
       "      <td>-0.031959</td>\n",
       "      <td>-0.150998</td>\n",
       "      <td>0.060021</td>\n",
       "      <td>0.349403</td>\n",
       "      <td>0.420344</td>\n",
       "      <td>-0.005691</td>\n",
       "      <td>benign</td>\n",
       "    </tr>\n",
       "    <tr>\n",
       "      <th>1</th>\n",
       "      <td>1.442046</td>\n",
       "      <td>-0.570141</td>\n",
       "      <td>0.236601</td>\n",
       "      <td>-0.478150</td>\n",
       "      <td>1.643085</td>\n",
       "      <td>-0.483035</td>\n",
       "      <td>-1.115899</td>\n",
       "      <td>0.379577</td>\n",
       "      <td>0.023427</td>\n",
       "      <td>benign</td>\n",
       "    </tr>\n",
       "    <tr>\n",
       "      <th>2</th>\n",
       "      <td>-1.592478</td>\n",
       "      <td>-0.076120</td>\n",
       "      <td>0.048858</td>\n",
       "      <td>-0.092388</td>\n",
       "      <td>-0.059739</td>\n",
       "      <td>-0.279371</td>\n",
       "      <td>0.232740</td>\n",
       "      <td>0.209800</td>\n",
       "      <td>0.013372</td>\n",
       "      <td>benign</td>\n",
       "    </tr>\n",
       "    <tr>\n",
       "      <th>3</th>\n",
       "      <td>1.479812</td>\n",
       "      <td>-0.528452</td>\n",
       "      <td>-0.603048</td>\n",
       "      <td>1.410827</td>\n",
       "      <td>-0.560737</td>\n",
       "      <td>0.063028</td>\n",
       "      <td>-0.211115</td>\n",
       "      <td>-1.607095</td>\n",
       "      <td>0.182777</td>\n",
       "      <td>benign</td>\n",
       "    </tr>\n",
       "    <tr>\n",
       "      <th>4</th>\n",
       "      <td>-1.344862</td>\n",
       "      <td>-0.090719</td>\n",
       "      <td>0.029997</td>\n",
       "      <td>-0.338284</td>\n",
       "      <td>-0.108829</td>\n",
       "      <td>0.431370</td>\n",
       "      <td>0.259862</td>\n",
       "      <td>0.446655</td>\n",
       "      <td>-0.038820</td>\n",
       "      <td>benign</td>\n",
       "    </tr>\n",
       "  </tbody>\n",
       "</table>\n",
       "</div>"
      ],
      "text/plain": [
       "        PC1       PC2       PC3       PC4       PC5       PC6       PC7  \\\n",
       "0 -1.470171 -0.104273 -0.565685 -0.031959 -0.150998  0.060021  0.349403   \n",
       "1  1.442046 -0.570141  0.236601 -0.478150  1.643085 -0.483035 -1.115899   \n",
       "2 -1.592478 -0.076120  0.048858 -0.092388 -0.059739 -0.279371  0.232740   \n",
       "3  1.479812 -0.528452 -0.603048  1.410827 -0.560737  0.063028 -0.211115   \n",
       "4 -1.344862 -0.090719  0.029997 -0.338284 -0.108829  0.431370  0.259862   \n",
       "\n",
       "        PC8       PC9   Class  \n",
       "0  0.420344 -0.005691  benign  \n",
       "1  0.379577  0.023427  benign  \n",
       "2  0.209800  0.013372  benign  \n",
       "3 -1.607095  0.182777  benign  \n",
       "4  0.446655 -0.038820  benign  "
      ]
     },
     "execution_count": 49,
     "metadata": {},
     "output_type": "execute_result"
    }
   ],
   "source": [
    "df2.head()"
   ]
  },
  {
   "cell_type": "code",
   "execution_count": 50,
   "metadata": {},
   "outputs": [],
   "source": [
    "df2.Class.replace({\"benign\" : 0 , \"malignant\":1},inplace = True)"
   ]
  },
  {
   "cell_type": "code",
   "execution_count": 51,
   "metadata": {},
   "outputs": [
    {
     "data": {
      "text/html": [
       "<div>\n",
       "<style scoped>\n",
       "    .dataframe tbody tr th:only-of-type {\n",
       "        vertical-align: middle;\n",
       "    }\n",
       "\n",
       "    .dataframe tbody tr th {\n",
       "        vertical-align: top;\n",
       "    }\n",
       "\n",
       "    .dataframe thead th {\n",
       "        text-align: right;\n",
       "    }\n",
       "</style>\n",
       "<table border=\"1\" class=\"dataframe\">\n",
       "  <thead>\n",
       "    <tr style=\"text-align: right;\">\n",
       "      <th></th>\n",
       "      <th>PC1</th>\n",
       "      <th>PC2</th>\n",
       "      <th>PC3</th>\n",
       "      <th>PC4</th>\n",
       "      <th>PC5</th>\n",
       "      <th>PC6</th>\n",
       "      <th>PC7</th>\n",
       "      <th>PC8</th>\n",
       "      <th>PC9</th>\n",
       "      <th>Class</th>\n",
       "    </tr>\n",
       "  </thead>\n",
       "  <tbody>\n",
       "    <tr>\n",
       "      <th>0</th>\n",
       "      <td>-1.470171</td>\n",
       "      <td>-0.104273</td>\n",
       "      <td>-0.565685</td>\n",
       "      <td>-0.031959</td>\n",
       "      <td>-0.150998</td>\n",
       "      <td>0.060021</td>\n",
       "      <td>0.349403</td>\n",
       "      <td>0.420344</td>\n",
       "      <td>-0.005691</td>\n",
       "      <td>0.0</td>\n",
       "    </tr>\n",
       "    <tr>\n",
       "      <th>1</th>\n",
       "      <td>1.442046</td>\n",
       "      <td>-0.570141</td>\n",
       "      <td>0.236601</td>\n",
       "      <td>-0.478150</td>\n",
       "      <td>1.643085</td>\n",
       "      <td>-0.483035</td>\n",
       "      <td>-1.115899</td>\n",
       "      <td>0.379577</td>\n",
       "      <td>0.023427</td>\n",
       "      <td>0.0</td>\n",
       "    </tr>\n",
       "    <tr>\n",
       "      <th>2</th>\n",
       "      <td>-1.592478</td>\n",
       "      <td>-0.076120</td>\n",
       "      <td>0.048858</td>\n",
       "      <td>-0.092388</td>\n",
       "      <td>-0.059739</td>\n",
       "      <td>-0.279371</td>\n",
       "      <td>0.232740</td>\n",
       "      <td>0.209800</td>\n",
       "      <td>0.013372</td>\n",
       "      <td>0.0</td>\n",
       "    </tr>\n",
       "    <tr>\n",
       "      <th>3</th>\n",
       "      <td>1.479812</td>\n",
       "      <td>-0.528452</td>\n",
       "      <td>-0.603048</td>\n",
       "      <td>1.410827</td>\n",
       "      <td>-0.560737</td>\n",
       "      <td>0.063028</td>\n",
       "      <td>-0.211115</td>\n",
       "      <td>-1.607095</td>\n",
       "      <td>0.182777</td>\n",
       "      <td>0.0</td>\n",
       "    </tr>\n",
       "    <tr>\n",
       "      <th>4</th>\n",
       "      <td>-1.344862</td>\n",
       "      <td>-0.090719</td>\n",
       "      <td>0.029997</td>\n",
       "      <td>-0.338284</td>\n",
       "      <td>-0.108829</td>\n",
       "      <td>0.431370</td>\n",
       "      <td>0.259862</td>\n",
       "      <td>0.446655</td>\n",
       "      <td>-0.038820</td>\n",
       "      <td>0.0</td>\n",
       "    </tr>\n",
       "  </tbody>\n",
       "</table>\n",
       "</div>"
      ],
      "text/plain": [
       "        PC1       PC2       PC3       PC4       PC5       PC6       PC7  \\\n",
       "0 -1.470171 -0.104273 -0.565685 -0.031959 -0.150998  0.060021  0.349403   \n",
       "1  1.442046 -0.570141  0.236601 -0.478150  1.643085 -0.483035 -1.115899   \n",
       "2 -1.592478 -0.076120  0.048858 -0.092388 -0.059739 -0.279371  0.232740   \n",
       "3  1.479812 -0.528452 -0.603048  1.410827 -0.560737  0.063028 -0.211115   \n",
       "4 -1.344862 -0.090719  0.029997 -0.338284 -0.108829  0.431370  0.259862   \n",
       "\n",
       "        PC8       PC9  Class  \n",
       "0  0.420344 -0.005691    0.0  \n",
       "1  0.379577  0.023427    0.0  \n",
       "2  0.209800  0.013372    0.0  \n",
       "3 -1.607095  0.182777    0.0  \n",
       "4  0.446655 -0.038820    0.0  "
      ]
     },
     "execution_count": 51,
     "metadata": {},
     "output_type": "execute_result"
    }
   ],
   "source": [
    "df2.head()"
   ]
  },
  {
   "cell_type": "markdown",
   "metadata": {},
   "source": [
    "# Decison tree"
   ]
  },
  {
   "cell_type": "code",
   "execution_count": 52,
   "metadata": {},
   "outputs": [],
   "source": [
    "from sklearn.tree import DecisionTreeClassifier"
   ]
  },
  {
   "cell_type": "code",
   "execution_count": 70,
   "metadata": {},
   "outputs": [],
   "source": [
    "dt = DecisionTreeClassifier()"
   ]
  },
  {
   "cell_type": "code",
   "execution_count": null,
   "metadata": {},
   "outputs": [],
   "source": [
    "df2.dropna(inplace=True)"
   ]
  },
  {
   "cell_type": "code",
   "execution_count": 72,
   "metadata": {},
   "outputs": [
    {
     "data": {
      "text/plain": [
       "DecisionTreeClassifier(class_weight=None, criterion='gini', max_depth=None,\n",
       "                       max_features=None, max_leaf_nodes=None,\n",
       "                       min_impurity_decrease=0.0, min_impurity_split=None,\n",
       "                       min_samples_leaf=1, min_samples_split=2,\n",
       "                       min_weight_fraction_leaf=0.0, presort=False,\n",
       "                       random_state=None, splitter='best')"
      ]
     },
     "execution_count": 72,
     "metadata": {},
     "output_type": "execute_result"
    }
   ],
   "source": [
    "dt.fit( df2.iloc[ :, [0,1,2,3,4,5]],  df2.iloc[:, 9])"
   ]
  },
  {
   "cell_type": "code",
   "execution_count": 69,
   "metadata": {},
   "outputs": [
    {
     "data": {
      "text/plain": [
       "PC1      0\n",
       "PC2      0\n",
       "PC3      0\n",
       "PC4      0\n",
       "PC5      0\n",
       "PC6      0\n",
       "PC7      0\n",
       "PC8      0\n",
       "PC9      0\n",
       "Class    0\n",
       "dtype: int64"
      ]
     },
     "execution_count": 69,
     "metadata": {},
     "output_type": "execute_result"
    }
   ],
   "source": [
    "df2.isnull().sum()"
   ]
  },
  {
   "cell_type": "code",
   "execution_count": 75,
   "metadata": {},
   "outputs": [],
   "source": [
    "pred_dt = dt.predict( df2.iloc[ :, [0,1,2,3,4,5]])"
   ]
  },
  {
   "cell_type": "code",
   "execution_count": 74,
   "metadata": {},
   "outputs": [],
   "source": [
    "from sklearn.metrics import confusion_matrix"
   ]
  },
  {
   "cell_type": "code",
   "execution_count": 76,
   "metadata": {},
   "outputs": [],
   "source": [
    "tab= confusion_matrix(pred_dt, df2.iloc[:,9])"
   ]
  },
  {
   "cell_type": "code",
   "execution_count": 77,
   "metadata": {},
   "outputs": [
    {
     "data": {
      "text/plain": [
       "array([[427,  71],\n",
       "       [  5, 164]], dtype=int64)"
      ]
     },
     "execution_count": 77,
     "metadata": {},
     "output_type": "execute_result"
    }
   ],
   "source": [
    "tab"
   ]
  },
  {
   "cell_type": "code",
   "execution_count": 78,
   "metadata": {},
   "outputs": [
    {
     "data": {
      "text/plain": [
       "88.6056971514243"
      ]
     },
     "execution_count": 78,
     "metadata": {},
     "output_type": "execute_result"
    }
   ],
   "source": [
    "tab.diagonal().sum()/tab.sum() * 100"
   ]
  },
  {
   "cell_type": "code",
   "execution_count": null,
   "metadata": {},
   "outputs": [],
   "source": []
  }
 ],
 "metadata": {
  "kernelspec": {
   "display_name": "Python 3",
   "language": "python",
   "name": "python3"
  },
  "language_info": {
   "codemirror_mode": {
    "name": "ipython",
    "version": 3
   },
   "file_extension": ".py",
   "mimetype": "text/x-python",
   "name": "python",
   "nbconvert_exporter": "python",
   "pygments_lexer": "ipython3",
   "version": "3.7.1"
  }
 },
 "nbformat": 4,
 "nbformat_minor": 2
}
