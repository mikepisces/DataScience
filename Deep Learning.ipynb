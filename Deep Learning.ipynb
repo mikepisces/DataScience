{
 "cells": [
  {
   "cell_type": "code",
   "execution_count": 2,
   "metadata": {},
   "outputs": [],
   "source": [
    "## 1. CONVERGENCE - when to come out or stop iteration on model\n",
    "## error %, no of iterations, learning rate decay\n",
    "\n",
    "## 2. COST FUNCTION - Loss function . We want to minimize it. Cross entropy for classification. MSE for regression\n",
    "\n",
    "## 3. Gradient Descent - differentiate to find the direction and slope to reach the minima of  wMSE graph\n",
    "\n",
    "## 4. Stochastic Gradient Descent - If there is local minima, to get to global minima we need to divide data into lot of \n",
    "##                 samples and thene ach of the model starts from a different point so that the chance of getting to global \n",
    "##                 minima is maximum\n",
    "\n",
    "##5. Learning rate - how fast error is descreasing in model\n",
    "\n",
    "##6.  Learning rate decay - we don't want to take small steps to reach final minima and also do not want to overshooot\n",
    "##            optimum value so decay your steps. e.g tll 70% accuracy reached take bigger steps and then reduce steps\n",
    "\n",
    "##7. Overfitting(Drop Out) - "
   ]
  },
  {
   "cell_type": "markdown",
   "metadata": {},
   "source": [
    "# IMAGE classification on Hand Written digit"
   ]
  },
  {
   "cell_type": "code",
   "execution_count": 74,
   "metadata": {},
   "outputs": [],
   "source": [
    "import tensorflow as tf\n",
    "import seaborn as sns\n",
    "import matplotlib.pyplot as plt\n",
    "import numpy as np"
   ]
  },
  {
   "cell_type": "code",
   "execution_count": 75,
   "metadata": {},
   "outputs": [],
   "source": [
    "from tensorflow.examples.tutorials.mnist import input_data"
   ]
  },
  {
   "cell_type": "code",
   "execution_count": 76,
   "metadata": {},
   "outputs": [
    {
     "data": {
      "text/plain": [
       "'1.14.0'"
      ]
     },
     "execution_count": 76,
     "metadata": {},
     "output_type": "execute_result"
    }
   ],
   "source": [
    "tf.__version__"
   ]
  },
  {
   "cell_type": "markdown",
   "metadata": {},
   "source": [
    "# READ the data"
   ]
  },
  {
   "cell_type": "code",
   "execution_count": 77,
   "metadata": {},
   "outputs": [],
   "source": [
    "#mnist = input_data.read_data_sets(r\"C:\\Users\\Khushi\\Desktop\\MNIST_Train.csv\")\n",
    "import pandas as pd\n",
    "mnist= pd.read_csv(r\"C:\\Users\\Khushi\\Desktop\\MNIST_Train.csv\")"
   ]
  },
  {
   "cell_type": "code",
   "execution_count": 81,
   "metadata": {},
   "outputs": [
    {
     "data": {
      "text/plain": [
       "(42000, 785)"
      ]
     },
     "execution_count": 81,
     "metadata": {},
     "output_type": "execute_result"
    }
   ],
   "source": [
    "mnist.shape"
   ]
  },
  {
   "cell_type": "code",
   "execution_count": 82,
   "metadata": {},
   "outputs": [
    {
     "data": {
      "text/html": [
       "<div>\n",
       "<style scoped>\n",
       "    .dataframe tbody tr th:only-of-type {\n",
       "        vertical-align: middle;\n",
       "    }\n",
       "\n",
       "    .dataframe tbody tr th {\n",
       "        vertical-align: top;\n",
       "    }\n",
       "\n",
       "    .dataframe thead th {\n",
       "        text-align: right;\n",
       "    }\n",
       "</style>\n",
       "<table border=\"1\" class=\"dataframe\">\n",
       "  <thead>\n",
       "    <tr style=\"text-align: right;\">\n",
       "      <th></th>\n",
       "      <th>label</th>\n",
       "      <th>pixel0</th>\n",
       "      <th>pixel1</th>\n",
       "      <th>pixel2</th>\n",
       "      <th>pixel3</th>\n",
       "      <th>pixel4</th>\n",
       "      <th>pixel5</th>\n",
       "      <th>pixel6</th>\n",
       "      <th>pixel7</th>\n",
       "      <th>pixel8</th>\n",
       "      <th>...</th>\n",
       "      <th>pixel774</th>\n",
       "      <th>pixel775</th>\n",
       "      <th>pixel776</th>\n",
       "      <th>pixel777</th>\n",
       "      <th>pixel778</th>\n",
       "      <th>pixel779</th>\n",
       "      <th>pixel780</th>\n",
       "      <th>pixel781</th>\n",
       "      <th>pixel782</th>\n",
       "      <th>pixel783</th>\n",
       "    </tr>\n",
       "  </thead>\n",
       "  <tbody>\n",
       "    <tr>\n",
       "      <th>0</th>\n",
       "      <td>1</td>\n",
       "      <td>0</td>\n",
       "      <td>0</td>\n",
       "      <td>0</td>\n",
       "      <td>0</td>\n",
       "      <td>0</td>\n",
       "      <td>0</td>\n",
       "      <td>0</td>\n",
       "      <td>0</td>\n",
       "      <td>0</td>\n",
       "      <td>...</td>\n",
       "      <td>0</td>\n",
       "      <td>0</td>\n",
       "      <td>0</td>\n",
       "      <td>0</td>\n",
       "      <td>0</td>\n",
       "      <td>0</td>\n",
       "      <td>0</td>\n",
       "      <td>0</td>\n",
       "      <td>0</td>\n",
       "      <td>0</td>\n",
       "    </tr>\n",
       "    <tr>\n",
       "      <th>1</th>\n",
       "      <td>0</td>\n",
       "      <td>0</td>\n",
       "      <td>0</td>\n",
       "      <td>0</td>\n",
       "      <td>0</td>\n",
       "      <td>0</td>\n",
       "      <td>0</td>\n",
       "      <td>0</td>\n",
       "      <td>0</td>\n",
       "      <td>0</td>\n",
       "      <td>...</td>\n",
       "      <td>0</td>\n",
       "      <td>0</td>\n",
       "      <td>0</td>\n",
       "      <td>0</td>\n",
       "      <td>0</td>\n",
       "      <td>0</td>\n",
       "      <td>0</td>\n",
       "      <td>0</td>\n",
       "      <td>0</td>\n",
       "      <td>0</td>\n",
       "    </tr>\n",
       "    <tr>\n",
       "      <th>2</th>\n",
       "      <td>1</td>\n",
       "      <td>0</td>\n",
       "      <td>0</td>\n",
       "      <td>0</td>\n",
       "      <td>0</td>\n",
       "      <td>0</td>\n",
       "      <td>0</td>\n",
       "      <td>0</td>\n",
       "      <td>0</td>\n",
       "      <td>0</td>\n",
       "      <td>...</td>\n",
       "      <td>0</td>\n",
       "      <td>0</td>\n",
       "      <td>0</td>\n",
       "      <td>0</td>\n",
       "      <td>0</td>\n",
       "      <td>0</td>\n",
       "      <td>0</td>\n",
       "      <td>0</td>\n",
       "      <td>0</td>\n",
       "      <td>0</td>\n",
       "    </tr>\n",
       "    <tr>\n",
       "      <th>3</th>\n",
       "      <td>4</td>\n",
       "      <td>0</td>\n",
       "      <td>0</td>\n",
       "      <td>0</td>\n",
       "      <td>0</td>\n",
       "      <td>0</td>\n",
       "      <td>0</td>\n",
       "      <td>0</td>\n",
       "      <td>0</td>\n",
       "      <td>0</td>\n",
       "      <td>...</td>\n",
       "      <td>0</td>\n",
       "      <td>0</td>\n",
       "      <td>0</td>\n",
       "      <td>0</td>\n",
       "      <td>0</td>\n",
       "      <td>0</td>\n",
       "      <td>0</td>\n",
       "      <td>0</td>\n",
       "      <td>0</td>\n",
       "      <td>0</td>\n",
       "    </tr>\n",
       "    <tr>\n",
       "      <th>4</th>\n",
       "      <td>0</td>\n",
       "      <td>0</td>\n",
       "      <td>0</td>\n",
       "      <td>0</td>\n",
       "      <td>0</td>\n",
       "      <td>0</td>\n",
       "      <td>0</td>\n",
       "      <td>0</td>\n",
       "      <td>0</td>\n",
       "      <td>0</td>\n",
       "      <td>...</td>\n",
       "      <td>0</td>\n",
       "      <td>0</td>\n",
       "      <td>0</td>\n",
       "      <td>0</td>\n",
       "      <td>0</td>\n",
       "      <td>0</td>\n",
       "      <td>0</td>\n",
       "      <td>0</td>\n",
       "      <td>0</td>\n",
       "      <td>0</td>\n",
       "    </tr>\n",
       "  </tbody>\n",
       "</table>\n",
       "<p>5 rows × 785 columns</p>\n",
       "</div>"
      ],
      "text/plain": [
       "   label  pixel0  pixel1  pixel2  pixel3  pixel4  pixel5  pixel6  pixel7  \\\n",
       "0      1       0       0       0       0       0       0       0       0   \n",
       "1      0       0       0       0       0       0       0       0       0   \n",
       "2      1       0       0       0       0       0       0       0       0   \n",
       "3      4       0       0       0       0       0       0       0       0   \n",
       "4      0       0       0       0       0       0       0       0       0   \n",
       "\n",
       "   pixel8  ...  pixel774  pixel775  pixel776  pixel777  pixel778  pixel779  \\\n",
       "0       0  ...         0         0         0         0         0         0   \n",
       "1       0  ...         0         0         0         0         0         0   \n",
       "2       0  ...         0         0         0         0         0         0   \n",
       "3       0  ...         0         0         0         0         0         0   \n",
       "4       0  ...         0         0         0         0         0         0   \n",
       "\n",
       "   pixel780  pixel781  pixel782  pixel783  \n",
       "0         0         0         0         0  \n",
       "1         0         0         0         0  \n",
       "2         0         0         0         0  \n",
       "3         0         0         0         0  \n",
       "4         0         0         0         0  \n",
       "\n",
       "[5 rows x 785 columns]"
      ]
     },
     "execution_count": 82,
     "metadata": {},
     "output_type": "execute_result"
    }
   ],
   "source": [
    "mnist.head(5)"
   ]
  },
  {
   "cell_type": "code",
   "execution_count": 83,
   "metadata": {},
   "outputs": [],
   "source": [
    "sen_col = mnist.iloc[4]"
   ]
  },
  {
   "cell_type": "code",
   "execution_count": 84,
   "metadata": {},
   "outputs": [],
   "source": [
    "sen_col = sen_col.iloc[1:786,]"
   ]
  },
  {
   "cell_type": "code",
   "execution_count": 85,
   "metadata": {},
   "outputs": [
    {
     "data": {
      "text/plain": [
       "784"
      ]
     },
     "execution_count": 85,
     "metadata": {},
     "output_type": "execute_result"
    }
   ],
   "source": [
    "len(sen_col)"
   ]
  },
  {
   "cell_type": "code",
   "execution_count": 86,
   "metadata": {},
   "outputs": [],
   "source": [
    "abc = np.array(sen_col)"
   ]
  },
  {
   "cell_type": "code",
   "execution_count": 13,
   "metadata": {},
   "outputs": [],
   "source": [
    "abc = abc.reshape(28,28)"
   ]
  },
  {
   "cell_type": "code",
   "execution_count": 14,
   "metadata": {},
   "outputs": [
    {
     "data": {
      "text/plain": [
       "<matplotlib.image.AxesImage at 0x1ad090642b0>"
      ]
     },
     "execution_count": 14,
     "metadata": {},
     "output_type": "execute_result"
    },
    {
     "data": {
      "image/png": "[encoded data removed]",
      "text/plain": [
       "<Figure size 432x288 with 1 Axes>"
      ]
     },
     "metadata": {
      "needs_background": "light"
     },
     "output_type": "display_data"
    }
   ],
   "source": [
    "plt.imshow(abc)"
   ]
  },
  {
   "cell_type": "code",
   "execution_count": 15,
   "metadata": {},
   "outputs": [
    {
     "data": {
      "text/plain": [
       "(28, 28)"
      ]
     },
     "execution_count": 15,
     "metadata": {},
     "output_type": "execute_result"
    }
   ],
   "source": [
    "abc.shape"
   ]
  },
  {
   "cell_type": "code",
   "execution_count": 16,
   "metadata": {},
   "outputs": [],
   "source": [
    "mnist1 = mnist.iloc[:, 1:786]"
   ]
  },
  {
   "cell_type": "code",
   "execution_count": 17,
   "metadata": {},
   "outputs": [],
   "source": [
    "mnist1 = np.array(mnist1)"
   ]
  },
  {
   "cell_type": "code",
   "execution_count": 18,
   "metadata": {},
   "outputs": [
    {
     "data": {
      "image/png": "[encoded data removed]",
      "text/plain": [
       "<Figure size 432x288 with 18 Axes>"
      ]
     },
     "metadata": {
      "needs_background": "light"
     },
     "output_type": "display_data"
    }
   ],
   "source": [
    "for i in range(18):\n",
    "    plt.subplot(3,6,i+1)\n",
    "    plt.imshow(mnist1[i,:].reshape(28,28))\n",
    "    plt.axis('off')"
   ]
  },
  {
   "cell_type": "code",
   "execution_count": 19,
   "metadata": {},
   "outputs": [
    {
     "data": {
      "text/html": [
       "<div>\n",
       "<style scoped>\n",
       "    .dataframe tbody tr th:only-of-type {\n",
       "        vertical-align: middle;\n",
       "    }\n",
       "\n",
       "    .dataframe tbody tr th {\n",
       "        vertical-align: top;\n",
       "    }\n",
       "\n",
       "    .dataframe thead th {\n",
       "        text-align: right;\n",
       "    }\n",
       "</style>\n",
       "<table border=\"1\" class=\"dataframe\">\n",
       "  <thead>\n",
       "    <tr style=\"text-align: right;\">\n",
       "      <th></th>\n",
       "      <th>label</th>\n",
       "      <th>pixel0</th>\n",
       "      <th>pixel1</th>\n",
       "      <th>pixel2</th>\n",
       "      <th>pixel3</th>\n",
       "      <th>pixel4</th>\n",
       "      <th>pixel5</th>\n",
       "      <th>pixel6</th>\n",
       "      <th>pixel7</th>\n",
       "      <th>pixel8</th>\n",
       "      <th>...</th>\n",
       "      <th>pixel774</th>\n",
       "      <th>pixel775</th>\n",
       "      <th>pixel776</th>\n",
       "      <th>pixel777</th>\n",
       "      <th>pixel778</th>\n",
       "      <th>pixel779</th>\n",
       "      <th>pixel780</th>\n",
       "      <th>pixel781</th>\n",
       "      <th>pixel782</th>\n",
       "      <th>pixel783</th>\n",
       "    </tr>\n",
       "  </thead>\n",
       "  <tbody>\n",
       "    <tr>\n",
       "      <th>0</th>\n",
       "      <td>1</td>\n",
       "      <td>0</td>\n",
       "      <td>0</td>\n",
       "      <td>0</td>\n",
       "      <td>0</td>\n",
       "      <td>0</td>\n",
       "      <td>0</td>\n",
       "      <td>0</td>\n",
       "      <td>0</td>\n",
       "      <td>0</td>\n",
       "      <td>...</td>\n",
       "      <td>0</td>\n",
       "      <td>0</td>\n",
       "      <td>0</td>\n",
       "      <td>0</td>\n",
       "      <td>0</td>\n",
       "      <td>0</td>\n",
       "      <td>0</td>\n",
       "      <td>0</td>\n",
       "      <td>0</td>\n",
       "      <td>0</td>\n",
       "    </tr>\n",
       "    <tr>\n",
       "      <th>1</th>\n",
       "      <td>0</td>\n",
       "      <td>0</td>\n",
       "      <td>0</td>\n",
       "      <td>0</td>\n",
       "      <td>0</td>\n",
       "      <td>0</td>\n",
       "      <td>0</td>\n",
       "      <td>0</td>\n",
       "      <td>0</td>\n",
       "      <td>0</td>\n",
       "      <td>...</td>\n",
       "      <td>0</td>\n",
       "      <td>0</td>\n",
       "      <td>0</td>\n",
       "      <td>0</td>\n",
       "      <td>0</td>\n",
       "      <td>0</td>\n",
       "      <td>0</td>\n",
       "      <td>0</td>\n",
       "      <td>0</td>\n",
       "      <td>0</td>\n",
       "    </tr>\n",
       "    <tr>\n",
       "      <th>2</th>\n",
       "      <td>1</td>\n",
       "      <td>0</td>\n",
       "      <td>0</td>\n",
       "      <td>0</td>\n",
       "      <td>0</td>\n",
       "      <td>0</td>\n",
       "      <td>0</td>\n",
       "      <td>0</td>\n",
       "      <td>0</td>\n",
       "      <td>0</td>\n",
       "      <td>...</td>\n",
       "      <td>0</td>\n",
       "      <td>0</td>\n",
       "      <td>0</td>\n",
       "      <td>0</td>\n",
       "      <td>0</td>\n",
       "      <td>0</td>\n",
       "      <td>0</td>\n",
       "      <td>0</td>\n",
       "      <td>0</td>\n",
       "      <td>0</td>\n",
       "    </tr>\n",
       "    <tr>\n",
       "      <th>3</th>\n",
       "      <td>4</td>\n",
       "      <td>0</td>\n",
       "      <td>0</td>\n",
       "      <td>0</td>\n",
       "      <td>0</td>\n",
       "      <td>0</td>\n",
       "      <td>0</td>\n",
       "      <td>0</td>\n",
       "      <td>0</td>\n",
       "      <td>0</td>\n",
       "      <td>...</td>\n",
       "      <td>0</td>\n",
       "      <td>0</td>\n",
       "      <td>0</td>\n",
       "      <td>0</td>\n",
       "      <td>0</td>\n",
       "      <td>0</td>\n",
       "      <td>0</td>\n",
       "      <td>0</td>\n",
       "      <td>0</td>\n",
       "      <td>0</td>\n",
       "    </tr>\n",
       "    <tr>\n",
       "      <th>4</th>\n",
       "      <td>0</td>\n",
       "      <td>0</td>\n",
       "      <td>0</td>\n",
       "      <td>0</td>\n",
       "      <td>0</td>\n",
       "      <td>0</td>\n",
       "      <td>0</td>\n",
       "      <td>0</td>\n",
       "      <td>0</td>\n",
       "      <td>0</td>\n",
       "      <td>...</td>\n",
       "      <td>0</td>\n",
       "      <td>0</td>\n",
       "      <td>0</td>\n",
       "      <td>0</td>\n",
       "      <td>0</td>\n",
       "      <td>0</td>\n",
       "      <td>0</td>\n",
       "      <td>0</td>\n",
       "      <td>0</td>\n",
       "      <td>0</td>\n",
       "    </tr>\n",
       "    <tr>\n",
       "      <th>5</th>\n",
       "      <td>0</td>\n",
       "      <td>0</td>\n",
       "      <td>0</td>\n",
       "      <td>0</td>\n",
       "      <td>0</td>\n",
       "      <td>0</td>\n",
       "      <td>0</td>\n",
       "      <td>0</td>\n",
       "      <td>0</td>\n",
       "      <td>0</td>\n",
       "      <td>...</td>\n",
       "      <td>0</td>\n",
       "      <td>0</td>\n",
       "      <td>0</td>\n",
       "      <td>0</td>\n",
       "      <td>0</td>\n",
       "      <td>0</td>\n",
       "      <td>0</td>\n",
       "      <td>0</td>\n",
       "      <td>0</td>\n",
       "      <td>0</td>\n",
       "    </tr>\n",
       "    <tr>\n",
       "      <th>6</th>\n",
       "      <td>7</td>\n",
       "      <td>0</td>\n",
       "      <td>0</td>\n",
       "      <td>0</td>\n",
       "      <td>0</td>\n",
       "      <td>0</td>\n",
       "      <td>0</td>\n",
       "      <td>0</td>\n",
       "      <td>0</td>\n",
       "      <td>0</td>\n",
       "      <td>...</td>\n",
       "      <td>0</td>\n",
       "      <td>0</td>\n",
       "      <td>0</td>\n",
       "      <td>0</td>\n",
       "      <td>0</td>\n",
       "      <td>0</td>\n",
       "      <td>0</td>\n",
       "      <td>0</td>\n",
       "      <td>0</td>\n",
       "      <td>0</td>\n",
       "    </tr>\n",
       "    <tr>\n",
       "      <th>7</th>\n",
       "      <td>3</td>\n",
       "      <td>0</td>\n",
       "      <td>0</td>\n",
       "      <td>0</td>\n",
       "      <td>0</td>\n",
       "      <td>0</td>\n",
       "      <td>0</td>\n",
       "      <td>0</td>\n",
       "      <td>0</td>\n",
       "      <td>0</td>\n",
       "      <td>...</td>\n",
       "      <td>0</td>\n",
       "      <td>0</td>\n",
       "      <td>0</td>\n",
       "      <td>0</td>\n",
       "      <td>0</td>\n",
       "      <td>0</td>\n",
       "      <td>0</td>\n",
       "      <td>0</td>\n",
       "      <td>0</td>\n",
       "      <td>0</td>\n",
       "    </tr>\n",
       "    <tr>\n",
       "      <th>8</th>\n",
       "      <td>5</td>\n",
       "      <td>0</td>\n",
       "      <td>0</td>\n",
       "      <td>0</td>\n",
       "      <td>0</td>\n",
       "      <td>0</td>\n",
       "      <td>0</td>\n",
       "      <td>0</td>\n",
       "      <td>0</td>\n",
       "      <td>0</td>\n",
       "      <td>...</td>\n",
       "      <td>0</td>\n",
       "      <td>0</td>\n",
       "      <td>0</td>\n",
       "      <td>0</td>\n",
       "      <td>0</td>\n",
       "      <td>0</td>\n",
       "      <td>0</td>\n",
       "      <td>0</td>\n",
       "      <td>0</td>\n",
       "      <td>0</td>\n",
       "    </tr>\n",
       "    <tr>\n",
       "      <th>9</th>\n",
       "      <td>3</td>\n",
       "      <td>0</td>\n",
       "      <td>0</td>\n",
       "      <td>0</td>\n",
       "      <td>0</td>\n",
       "      <td>0</td>\n",
       "      <td>0</td>\n",
       "      <td>0</td>\n",
       "      <td>0</td>\n",
       "      <td>0</td>\n",
       "      <td>...</td>\n",
       "      <td>0</td>\n",
       "      <td>0</td>\n",
       "      <td>0</td>\n",
       "      <td>0</td>\n",
       "      <td>0</td>\n",
       "      <td>0</td>\n",
       "      <td>0</td>\n",
       "      <td>0</td>\n",
       "      <td>0</td>\n",
       "      <td>0</td>\n",
       "    </tr>\n",
       "    <tr>\n",
       "      <th>10</th>\n",
       "      <td>8</td>\n",
       "      <td>0</td>\n",
       "      <td>0</td>\n",
       "      <td>0</td>\n",
       "      <td>0</td>\n",
       "      <td>0</td>\n",
       "      <td>0</td>\n",
       "      <td>0</td>\n",
       "      <td>0</td>\n",
       "      <td>0</td>\n",
       "      <td>...</td>\n",
       "      <td>0</td>\n",
       "      <td>0</td>\n",
       "      <td>0</td>\n",
       "      <td>0</td>\n",
       "      <td>0</td>\n",
       "      <td>0</td>\n",
       "      <td>0</td>\n",
       "      <td>0</td>\n",
       "      <td>0</td>\n",
       "      <td>0</td>\n",
       "    </tr>\n",
       "    <tr>\n",
       "      <th>11</th>\n",
       "      <td>9</td>\n",
       "      <td>0</td>\n",
       "      <td>0</td>\n",
       "      <td>0</td>\n",
       "      <td>0</td>\n",
       "      <td>0</td>\n",
       "      <td>0</td>\n",
       "      <td>0</td>\n",
       "      <td>0</td>\n",
       "      <td>0</td>\n",
       "      <td>...</td>\n",
       "      <td>0</td>\n",
       "      <td>0</td>\n",
       "      <td>0</td>\n",
       "      <td>0</td>\n",
       "      <td>0</td>\n",
       "      <td>0</td>\n",
       "      <td>0</td>\n",
       "      <td>0</td>\n",
       "      <td>0</td>\n",
       "      <td>0</td>\n",
       "    </tr>\n",
       "    <tr>\n",
       "      <th>12</th>\n",
       "      <td>1</td>\n",
       "      <td>0</td>\n",
       "      <td>0</td>\n",
       "      <td>0</td>\n",
       "      <td>0</td>\n",
       "      <td>0</td>\n",
       "      <td>0</td>\n",
       "      <td>0</td>\n",
       "      <td>0</td>\n",
       "      <td>0</td>\n",
       "      <td>...</td>\n",
       "      <td>0</td>\n",
       "      <td>0</td>\n",
       "      <td>0</td>\n",
       "      <td>0</td>\n",
       "      <td>0</td>\n",
       "      <td>0</td>\n",
       "      <td>0</td>\n",
       "      <td>0</td>\n",
       "      <td>0</td>\n",
       "      <td>0</td>\n",
       "    </tr>\n",
       "    <tr>\n",
       "      <th>13</th>\n",
       "      <td>3</td>\n",
       "      <td>0</td>\n",
       "      <td>0</td>\n",
       "      <td>0</td>\n",
       "      <td>0</td>\n",
       "      <td>0</td>\n",
       "      <td>0</td>\n",
       "      <td>0</td>\n",
       "      <td>0</td>\n",
       "      <td>0</td>\n",
       "      <td>...</td>\n",
       "      <td>0</td>\n",
       "      <td>0</td>\n",
       "      <td>0</td>\n",
       "      <td>0</td>\n",
       "      <td>0</td>\n",
       "      <td>0</td>\n",
       "      <td>0</td>\n",
       "      <td>0</td>\n",
       "      <td>0</td>\n",
       "      <td>0</td>\n",
       "    </tr>\n",
       "    <tr>\n",
       "      <th>14</th>\n",
       "      <td>3</td>\n",
       "      <td>0</td>\n",
       "      <td>0</td>\n",
       "      <td>0</td>\n",
       "      <td>0</td>\n",
       "      <td>0</td>\n",
       "      <td>0</td>\n",
       "      <td>0</td>\n",
       "      <td>0</td>\n",
       "      <td>0</td>\n",
       "      <td>...</td>\n",
       "      <td>0</td>\n",
       "      <td>0</td>\n",
       "      <td>0</td>\n",
       "      <td>0</td>\n",
       "      <td>0</td>\n",
       "      <td>0</td>\n",
       "      <td>0</td>\n",
       "      <td>0</td>\n",
       "      <td>0</td>\n",
       "      <td>0</td>\n",
       "    </tr>\n",
       "    <tr>\n",
       "      <th>15</th>\n",
       "      <td>1</td>\n",
       "      <td>0</td>\n",
       "      <td>0</td>\n",
       "      <td>0</td>\n",
       "      <td>0</td>\n",
       "      <td>0</td>\n",
       "      <td>0</td>\n",
       "      <td>0</td>\n",
       "      <td>0</td>\n",
       "      <td>0</td>\n",
       "      <td>...</td>\n",
       "      <td>0</td>\n",
       "      <td>0</td>\n",
       "      <td>0</td>\n",
       "      <td>0</td>\n",
       "      <td>0</td>\n",
       "      <td>0</td>\n",
       "      <td>0</td>\n",
       "      <td>0</td>\n",
       "      <td>0</td>\n",
       "      <td>0</td>\n",
       "    </tr>\n",
       "    <tr>\n",
       "      <th>16</th>\n",
       "      <td>2</td>\n",
       "      <td>0</td>\n",
       "      <td>0</td>\n",
       "      <td>0</td>\n",
       "      <td>0</td>\n",
       "      <td>0</td>\n",
       "      <td>0</td>\n",
       "      <td>0</td>\n",
       "      <td>0</td>\n",
       "      <td>0</td>\n",
       "      <td>...</td>\n",
       "      <td>0</td>\n",
       "      <td>0</td>\n",
       "      <td>0</td>\n",
       "      <td>0</td>\n",
       "      <td>0</td>\n",
       "      <td>0</td>\n",
       "      <td>0</td>\n",
       "      <td>0</td>\n",
       "      <td>0</td>\n",
       "      <td>0</td>\n",
       "    </tr>\n",
       "    <tr>\n",
       "      <th>17</th>\n",
       "      <td>0</td>\n",
       "      <td>0</td>\n",
       "      <td>0</td>\n",
       "      <td>0</td>\n",
       "      <td>0</td>\n",
       "      <td>0</td>\n",
       "      <td>0</td>\n",
       "      <td>0</td>\n",
       "      <td>0</td>\n",
       "      <td>0</td>\n",
       "      <td>...</td>\n",
       "      <td>0</td>\n",
       "      <td>0</td>\n",
       "      <td>0</td>\n",
       "      <td>0</td>\n",
       "      <td>0</td>\n",
       "      <td>0</td>\n",
       "      <td>0</td>\n",
       "      <td>0</td>\n",
       "      <td>0</td>\n",
       "      <td>0</td>\n",
       "    </tr>\n",
       "  </tbody>\n",
       "</table>\n",
       "<p>18 rows × 785 columns</p>\n",
       "</div>"
      ],
      "text/plain": [
       "    label  pixel0  pixel1  pixel2  pixel3  pixel4  pixel5  pixel6  pixel7  \\\n",
       "0       1       0       0       0       0       0       0       0       0   \n",
       "1       0       0       0       0       0       0       0       0       0   \n",
       "2       1       0       0       0       0       0       0       0       0   \n",
       "3       4       0       0       0       0       0       0       0       0   \n",
       "4       0       0       0       0       0       0       0       0       0   \n",
       "5       0       0       0       0       0       0       0       0       0   \n",
       "6       7       0       0       0       0       0       0       0       0   \n",
       "7       3       0       0       0       0       0       0       0       0   \n",
       "8       5       0       0       0       0       0       0       0       0   \n",
       "9       3       0       0       0       0       0       0       0       0   \n",
       "10      8       0       0       0       0       0       0       0       0   \n",
       "11      9       0       0       0       0       0       0       0       0   \n",
       "12      1       0       0       0       0       0       0       0       0   \n",
       "13      3       0       0       0       0       0       0       0       0   \n",
       "14      3       0       0       0       0       0       0       0       0   \n",
       "15      1       0       0       0       0       0       0       0       0   \n",
       "16      2       0       0       0       0       0       0       0       0   \n",
       "17      0       0       0       0       0       0       0       0       0   \n",
       "\n",
       "    pixel8  ...  pixel774  pixel775  pixel776  pixel777  pixel778  pixel779  \\\n",
       "0        0  ...         0         0         0         0         0         0   \n",
       "1        0  ...         0         0         0         0         0         0   \n",
       "2        0  ...         0         0         0         0         0         0   \n",
       "3        0  ...         0         0         0         0         0         0   \n",
       "4        0  ...         0         0         0         0         0         0   \n",
       "5        0  ...         0         0         0         0         0         0   \n",
       "6        0  ...         0         0         0         0         0         0   \n",
       "7        0  ...         0         0         0         0         0         0   \n",
       "8        0  ...         0         0         0         0         0         0   \n",
       "9        0  ...         0         0         0         0         0         0   \n",
       "10       0  ...         0         0         0         0         0         0   \n",
       "11       0  ...         0         0         0         0         0         0   \n",
       "12       0  ...         0         0         0         0         0         0   \n",
       "13       0  ...         0         0         0         0         0         0   \n",
       "14       0  ...         0         0         0         0         0         0   \n",
       "15       0  ...         0         0         0         0         0         0   \n",
       "16       0  ...         0         0         0         0         0         0   \n",
       "17       0  ...         0         0         0         0         0         0   \n",
       "\n",
       "    pixel780  pixel781  pixel782  pixel783  \n",
       "0          0         0         0         0  \n",
       "1          0         0         0         0  \n",
       "2          0         0         0         0  \n",
       "3          0         0         0         0  \n",
       "4          0         0         0         0  \n",
       "5          0         0         0         0  \n",
       "6          0         0         0         0  \n",
       "7          0         0         0         0  \n",
       "8          0         0         0         0  \n",
       "9          0         0         0         0  \n",
       "10         0         0         0         0  \n",
       "11         0         0         0         0  \n",
       "12         0         0         0         0  \n",
       "13         0         0         0         0  \n",
       "14         0         0         0         0  \n",
       "15         0         0         0         0  \n",
       "16         0         0         0         0  \n",
       "17         0         0         0         0  \n",
       "\n",
       "[18 rows x 785 columns]"
      ]
     },
     "execution_count": 19,
     "metadata": {},
     "output_type": "execute_result"
    }
   ],
   "source": [
    "mnist.head(18)"
   ]
  },
  {
   "cell_type": "code",
   "execution_count": 20,
   "metadata": {},
   "outputs": [],
   "source": [
    "### read an image\n",
    "import matplotlib.image as img\n",
    "img1 = img.imread(r\"C:\\Users\\Khushi\\Desktop\\khushi\\IMG_20180913_091453.jpg\")"
   ]
  },
  {
   "cell_type": "code",
   "execution_count": 34,
   "metadata": {},
   "outputs": [
    {
     "data": {
      "text/plain": [
       "(5120, 3840, 3)"
      ]
     },
     "execution_count": 34,
     "metadata": {},
     "output_type": "execute_result"
    }
   ],
   "source": [
    "img1.shape"
   ]
  },
  {
   "cell_type": "code",
   "execution_count": 35,
   "metadata": {},
   "outputs": [
    {
     "data": {
      "text/plain": [
       "<matplotlib.image.AxesImage at 0x1ad09ab5f60>"
      ]
     },
     "execution_count": 35,
     "metadata": {},
     "output_type": "execute_result"
    },
    {
     "data": {
      "image/png": "[encoded data removed]",
      "text/plain": [
       "<Figure size 432x288 with 1 Axes>"
      ]
     },
     "metadata": {
      "needs_background": "light"
     },
     "output_type": "display_data"
    }
   ],
   "source": [
    "plt.imshow(img1)"
   ]
  },
  {
   "cell_type": "code",
   "execution_count": 59,
   "metadata": {},
   "outputs": [
    {
     "ename": "AttributeError",
     "evalue": "module 'keras.backend.tensorflow_backend' has no attribute '_is_tf_1'",
     "output_type": "error",
     "traceback": [
      "\u001b[1;31m---------------------------------------------------------------------------\u001b[0m",
      "\u001b[1;31mAttributeError\u001b[0m                            Traceback (most recent call last)",
      "\u001b[1;32m<ipython-input-59-88d96843a926>\u001b[0m in \u001b[0;36m<module>\u001b[1;34m\u001b[0m\n\u001b[1;32m----> 1\u001b[1;33m \u001b[1;32mimport\u001b[0m \u001b[0mkeras\u001b[0m\u001b[1;33m\u001b[0m\u001b[1;33m\u001b[0m\u001b[0m\n\u001b[0m",
      "\u001b[1;32m~\\Anaconda3\\lib\\site-packages\\keras\\__init__.py\u001b[0m in \u001b[0;36m<module>\u001b[1;34m\u001b[0m\n\u001b[0;32m      1\u001b[0m \u001b[1;32mfrom\u001b[0m \u001b[0m__future__\u001b[0m \u001b[1;32mimport\u001b[0m \u001b[0mabsolute_import\u001b[0m\u001b[1;33m\u001b[0m\u001b[1;33m\u001b[0m\u001b[0m\n\u001b[0;32m      2\u001b[0m \u001b[1;33m\u001b[0m\u001b[0m\n\u001b[1;32m----> 3\u001b[1;33m \u001b[1;32mfrom\u001b[0m \u001b[1;33m.\u001b[0m \u001b[1;32mimport\u001b[0m \u001b[0mutils\u001b[0m\u001b[1;33m\u001b[0m\u001b[1;33m\u001b[0m\u001b[0m\n\u001b[0m\u001b[0;32m      4\u001b[0m \u001b[1;32mfrom\u001b[0m \u001b[1;33m.\u001b[0m \u001b[1;32mimport\u001b[0m \u001b[0mactivations\u001b[0m\u001b[1;33m\u001b[0m\u001b[1;33m\u001b[0m\u001b[0m\n\u001b[0;32m      5\u001b[0m \u001b[1;32mfrom\u001b[0m \u001b[1;33m.\u001b[0m \u001b[1;32mimport\u001b[0m \u001b[0mapplications\u001b[0m\u001b[1;33m\u001b[0m\u001b[1;33m\u001b[0m\u001b[0m\n",
      "\u001b[1;32m~\\Anaconda3\\lib\\site-packages\\keras\\utils\\__init__.py\u001b[0m in \u001b[0;36m<module>\u001b[1;34m\u001b[0m\n\u001b[0;32m     25\u001b[0m \u001b[1;32mfrom\u001b[0m \u001b[1;33m.\u001b[0m\u001b[0mnp_utils\u001b[0m \u001b[1;32mimport\u001b[0m \u001b[0mto_categorical\u001b[0m\u001b[1;33m\u001b[0m\u001b[1;33m\u001b[0m\u001b[0m\n\u001b[0;32m     26\u001b[0m \u001b[1;32mfrom\u001b[0m \u001b[1;33m.\u001b[0m\u001b[0mnp_utils\u001b[0m \u001b[1;32mimport\u001b[0m \u001b[0mnormalize\u001b[0m\u001b[1;33m\u001b[0m\u001b[1;33m\u001b[0m\u001b[0m\n\u001b[1;32m---> 27\u001b[1;33m \u001b[1;32mfrom\u001b[0m \u001b[1;33m.\u001b[0m\u001b[0mmulti_gpu_utils\u001b[0m \u001b[1;32mimport\u001b[0m \u001b[0mmulti_gpu_model\u001b[0m\u001b[1;33m\u001b[0m\u001b[1;33m\u001b[0m\u001b[0m\n\u001b[0m",
      "\u001b[1;32m~\\Anaconda3\\lib\\site-packages\\keras\\utils\\multi_gpu_utils.py\u001b[0m in \u001b[0;36m<module>\u001b[1;34m\u001b[0m\n\u001b[0;32m      5\u001b[0m \u001b[1;32mfrom\u001b[0m \u001b[0m__future__\u001b[0m \u001b[1;32mimport\u001b[0m \u001b[0mprint_function\u001b[0m\u001b[1;33m\u001b[0m\u001b[1;33m\u001b[0m\u001b[0m\n\u001b[0;32m      6\u001b[0m \u001b[1;33m\u001b[0m\u001b[0m\n\u001b[1;32m----> 7\u001b[1;33m \u001b[1;32mfrom\u001b[0m \u001b[1;33m.\u001b[0m\u001b[1;33m.\u001b[0m\u001b[0mlayers\u001b[0m\u001b[1;33m.\u001b[0m\u001b[0mmerge\u001b[0m \u001b[1;32mimport\u001b[0m \u001b[0mconcatenate\u001b[0m\u001b[1;33m\u001b[0m\u001b[1;33m\u001b[0m\u001b[0m\n\u001b[0m\u001b[0;32m      8\u001b[0m \u001b[1;32mfrom\u001b[0m \u001b[1;33m.\u001b[0m\u001b[1;33m.\u001b[0m \u001b[1;32mimport\u001b[0m \u001b[0mbackend\u001b[0m \u001b[1;32mas\u001b[0m \u001b[0mK\u001b[0m\u001b[1;33m\u001b[0m\u001b[1;33m\u001b[0m\u001b[0m\n\u001b[0;32m      9\u001b[0m \u001b[1;32mfrom\u001b[0m \u001b[1;33m.\u001b[0m\u001b[1;33m.\u001b[0m\u001b[0mlayers\u001b[0m\u001b[1;33m.\u001b[0m\u001b[0mcore\u001b[0m \u001b[1;32mimport\u001b[0m \u001b[0mLambda\u001b[0m\u001b[1;33m\u001b[0m\u001b[1;33m\u001b[0m\u001b[0m\n",
      "\u001b[1;32m~\\Anaconda3\\lib\\site-packages\\keras\\layers\\__init__.py\u001b[0m in \u001b[0;36m<module>\u001b[1;34m\u001b[0m\n\u001b[0;32m      3\u001b[0m \u001b[1;32mfrom\u001b[0m \u001b[1;33m.\u001b[0m\u001b[1;33m.\u001b[0m\u001b[0mutils\u001b[0m\u001b[1;33m.\u001b[0m\u001b[0mgeneric_utils\u001b[0m \u001b[1;32mimport\u001b[0m \u001b[0mdeserialize_keras_object\u001b[0m\u001b[1;33m\u001b[0m\u001b[1;33m\u001b[0m\u001b[0m\n\u001b[0;32m      4\u001b[0m \u001b[1;32mfrom\u001b[0m \u001b[1;33m.\u001b[0m\u001b[1;33m.\u001b[0m\u001b[0mengine\u001b[0m\u001b[1;33m.\u001b[0m\u001b[0mbase_layer\u001b[0m \u001b[1;32mimport\u001b[0m \u001b[0mLayer\u001b[0m\u001b[1;33m\u001b[0m\u001b[1;33m\u001b[0m\u001b[0m\n\u001b[1;32m----> 5\u001b[1;33m \u001b[1;32mfrom\u001b[0m \u001b[1;33m.\u001b[0m\u001b[1;33m.\u001b[0m\u001b[0mengine\u001b[0m \u001b[1;32mimport\u001b[0m \u001b[0mInput\u001b[0m\u001b[1;33m\u001b[0m\u001b[1;33m\u001b[0m\u001b[0m\n\u001b[0m\u001b[0;32m      6\u001b[0m \u001b[1;32mfrom\u001b[0m \u001b[1;33m.\u001b[0m\u001b[1;33m.\u001b[0m\u001b[0mengine\u001b[0m \u001b[1;32mimport\u001b[0m \u001b[0mInputLayer\u001b[0m\u001b[1;33m\u001b[0m\u001b[1;33m\u001b[0m\u001b[0m\n\u001b[0;32m      7\u001b[0m \u001b[1;32mfrom\u001b[0m \u001b[1;33m.\u001b[0m\u001b[1;33m.\u001b[0m\u001b[0mengine\u001b[0m\u001b[1;33m.\u001b[0m\u001b[0mbase_layer\u001b[0m \u001b[1;32mimport\u001b[0m \u001b[0mInputSpec\u001b[0m\u001b[1;33m\u001b[0m\u001b[1;33m\u001b[0m\u001b[0m\n",
      "\u001b[1;32m~\\Anaconda3\\lib\\site-packages\\keras\\engine\\__init__.py\u001b[0m in \u001b[0;36m<module>\u001b[1;34m\u001b[0m\n\u001b[0;32m      6\u001b[0m \u001b[1;32mfrom\u001b[0m \u001b[1;33m.\u001b[0m\u001b[0mbase_layer\u001b[0m \u001b[1;32mimport\u001b[0m \u001b[0mLayer\u001b[0m\u001b[1;33m\u001b[0m\u001b[1;33m\u001b[0m\u001b[0m\n\u001b[0;32m      7\u001b[0m \u001b[1;32mfrom\u001b[0m \u001b[1;33m.\u001b[0m\u001b[0mnetwork\u001b[0m \u001b[1;32mimport\u001b[0m \u001b[0mget_source_inputs\u001b[0m\u001b[1;33m\u001b[0m\u001b[1;33m\u001b[0m\u001b[0m\n\u001b[1;32m----> 8\u001b[1;33m \u001b[1;32mfrom\u001b[0m \u001b[1;33m.\u001b[0m\u001b[0mtraining\u001b[0m \u001b[1;32mimport\u001b[0m \u001b[0mModel\u001b[0m\u001b[1;33m\u001b[0m\u001b[1;33m\u001b[0m\u001b[0m\n\u001b[0m",
      "\u001b[1;32m~\\Anaconda3\\lib\\site-packages\\keras\\engine\\training.py\u001b[0m in \u001b[0;36m<module>\u001b[1;34m\u001b[0m\n\u001b[0;32m     19\u001b[0m \u001b[1;32mfrom\u001b[0m \u001b[1;33m.\u001b[0m\u001b[0mtraining_utils\u001b[0m \u001b[1;32mimport\u001b[0m \u001b[0mstandardize_weights\u001b[0m\u001b[1;33m\u001b[0m\u001b[1;33m\u001b[0m\u001b[0m\n\u001b[0;32m     20\u001b[0m \u001b[1;32mfrom\u001b[0m \u001b[1;33m.\u001b[0m\u001b[0mtraining_utils\u001b[0m \u001b[1;32mimport\u001b[0m \u001b[0mweighted_masked_objective\u001b[0m\u001b[1;33m\u001b[0m\u001b[1;33m\u001b[0m\u001b[0m\n\u001b[1;32m---> 21\u001b[1;33m \u001b[1;32mfrom\u001b[0m \u001b[1;33m.\u001b[0m \u001b[1;32mimport\u001b[0m \u001b[0mtraining_arrays\u001b[0m\u001b[1;33m\u001b[0m\u001b[1;33m\u001b[0m\u001b[0m\n\u001b[0m\u001b[0;32m     22\u001b[0m \u001b[1;32mfrom\u001b[0m \u001b[1;33m.\u001b[0m \u001b[1;32mimport\u001b[0m \u001b[0mtraining_generator\u001b[0m\u001b[1;33m\u001b[0m\u001b[1;33m\u001b[0m\u001b[0m\n\u001b[0;32m     23\u001b[0m \u001b[1;32mfrom\u001b[0m \u001b[1;33m.\u001b[0m\u001b[1;33m.\u001b[0m \u001b[1;32mimport\u001b[0m \u001b[0mbackend\u001b[0m \u001b[1;32mas\u001b[0m \u001b[0mK\u001b[0m\u001b[1;33m\u001b[0m\u001b[1;33m\u001b[0m\u001b[0m\n",
      "\u001b[1;32m~\\Anaconda3\\lib\\site-packages\\keras\\engine\\training_arrays.py\u001b[0m in \u001b[0;36m<module>\u001b[1;34m\u001b[0m\n\u001b[0;32m     12\u001b[0m \u001b[1;32mfrom\u001b[0m \u001b[1;33m.\u001b[0m\u001b[0mtraining_utils\u001b[0m \u001b[1;32mimport\u001b[0m \u001b[0mcheck_num_samples\u001b[0m\u001b[1;33m\u001b[0m\u001b[1;33m\u001b[0m\u001b[0m\n\u001b[0;32m     13\u001b[0m \u001b[1;32mfrom\u001b[0m \u001b[1;33m.\u001b[0m\u001b[1;33m.\u001b[0m \u001b[1;32mimport\u001b[0m \u001b[0mbackend\u001b[0m \u001b[1;32mas\u001b[0m \u001b[0mK\u001b[0m\u001b[1;33m\u001b[0m\u001b[1;33m\u001b[0m\u001b[0m\n\u001b[1;32m---> 14\u001b[1;33m \u001b[1;32mfrom\u001b[0m \u001b[1;33m.\u001b[0m\u001b[1;33m.\u001b[0m \u001b[1;32mimport\u001b[0m \u001b[0mcallbacks\u001b[0m \u001b[1;32mas\u001b[0m \u001b[0mcbks\u001b[0m\u001b[1;33m\u001b[0m\u001b[1;33m\u001b[0m\u001b[0m\n\u001b[0m\u001b[0;32m     15\u001b[0m \u001b[1;32mfrom\u001b[0m \u001b[1;33m.\u001b[0m\u001b[1;33m.\u001b[0m\u001b[0mutils\u001b[0m\u001b[1;33m.\u001b[0m\u001b[0mgeneric_utils\u001b[0m \u001b[1;32mimport\u001b[0m \u001b[0mProgbar\u001b[0m\u001b[1;33m\u001b[0m\u001b[1;33m\u001b[0m\u001b[0m\n\u001b[0;32m     16\u001b[0m \u001b[1;32mfrom\u001b[0m \u001b[1;33m.\u001b[0m\u001b[1;33m.\u001b[0m\u001b[0mutils\u001b[0m\u001b[1;33m.\u001b[0m\u001b[0mgeneric_utils\u001b[0m \u001b[1;32mimport\u001b[0m \u001b[0mslice_arrays\u001b[0m\u001b[1;33m\u001b[0m\u001b[1;33m\u001b[0m\u001b[0m\n",
      "\u001b[1;32m~\\Anaconda3\\lib\\site-packages\\keras\\callbacks\\__init__.py\u001b[0m in \u001b[0;36m<module>\u001b[1;34m\u001b[0m\n\u001b[0;32m     17\u001b[0m \u001b[1;32mfrom\u001b[0m \u001b[1;33m.\u001b[0m\u001b[1;33m.\u001b[0m \u001b[1;32mimport\u001b[0m \u001b[0mbackend\u001b[0m \u001b[1;32mas\u001b[0m \u001b[0mK\u001b[0m\u001b[1;33m\u001b[0m\u001b[1;33m\u001b[0m\u001b[0m\n\u001b[0;32m     18\u001b[0m \u001b[1;33m\u001b[0m\u001b[0m\n\u001b[1;32m---> 19\u001b[1;33m \u001b[1;32mif\u001b[0m \u001b[0mK\u001b[0m\u001b[1;33m.\u001b[0m\u001b[0mbackend\u001b[0m\u001b[1;33m(\u001b[0m\u001b[1;33m)\u001b[0m \u001b[1;33m==\u001b[0m \u001b[1;34m'tensorflow'\u001b[0m \u001b[1;32mand\u001b[0m \u001b[1;32mnot\u001b[0m \u001b[0mK\u001b[0m\u001b[1;33m.\u001b[0m\u001b[0mtensorflow_backend\u001b[0m\u001b[1;33m.\u001b[0m\u001b[0m_is_tf_1\u001b[0m\u001b[1;33m(\u001b[0m\u001b[1;33m)\u001b[0m\u001b[1;33m:\u001b[0m\u001b[1;33m\u001b[0m\u001b[1;33m\u001b[0m\u001b[0m\n\u001b[0m\u001b[0;32m     20\u001b[0m     \u001b[1;32mfrom\u001b[0m \u001b[1;33m.\u001b[0m\u001b[0mtensorboard_v2\u001b[0m \u001b[1;32mimport\u001b[0m \u001b[0mTensorBoard\u001b[0m\u001b[1;33m\u001b[0m\u001b[1;33m\u001b[0m\u001b[0m\n\u001b[0;32m     21\u001b[0m \u001b[1;32melse\u001b[0m\u001b[1;33m:\u001b[0m\u001b[1;33m\u001b[0m\u001b[1;33m\u001b[0m\u001b[0m\n",
      "\u001b[1;31mAttributeError\u001b[0m: module 'keras.backend.tensorflow_backend' has no attribute '_is_tf_1'"
     ]
    }
   ],
   "source": [
    "import keras"
   ]
  },
  {
   "cell_type": "code",
   "execution_count": 60,
   "metadata": {},
   "outputs": [],
   "source": [
    "mnist= pd.read_csv(r\"C:\\Users\\Khushi\\Desktop\\MNIST_Train.csv\")"
   ]
  },
  {
   "cell_type": "code",
   "execution_count": 61,
   "metadata": {},
   "outputs": [
    {
     "data": {
      "text/html": [
       "<div>\n",
       "<style scoped>\n",
       "    .dataframe tbody tr th:only-of-type {\n",
       "        vertical-align: middle;\n",
       "    }\n",
       "\n",
       "    .dataframe tbody tr th {\n",
       "        vertical-align: top;\n",
       "    }\n",
       "\n",
       "    .dataframe thead th {\n",
       "        text-align: right;\n",
       "    }\n",
       "</style>\n",
       "<table border=\"1\" class=\"dataframe\">\n",
       "  <thead>\n",
       "    <tr style=\"text-align: right;\">\n",
       "      <th></th>\n",
       "      <th>pixel0</th>\n",
       "      <th>pixel1</th>\n",
       "      <th>pixel2</th>\n",
       "      <th>pixel3</th>\n",
       "      <th>pixel4</th>\n",
       "      <th>pixel5</th>\n",
       "      <th>pixel6</th>\n",
       "      <th>pixel7</th>\n",
       "      <th>pixel8</th>\n",
       "      <th>pixel9</th>\n",
       "      <th>...</th>\n",
       "      <th>pixel774</th>\n",
       "      <th>pixel775</th>\n",
       "      <th>pixel776</th>\n",
       "      <th>pixel777</th>\n",
       "      <th>pixel778</th>\n",
       "      <th>pixel779</th>\n",
       "      <th>pixel780</th>\n",
       "      <th>pixel781</th>\n",
       "      <th>pixel782</th>\n",
       "      <th>pixel783</th>\n",
       "    </tr>\n",
       "  </thead>\n",
       "  <tbody>\n",
       "    <tr>\n",
       "      <th>0</th>\n",
       "      <td>0</td>\n",
       "      <td>0</td>\n",
       "      <td>0</td>\n",
       "      <td>0</td>\n",
       "      <td>0</td>\n",
       "      <td>0</td>\n",
       "      <td>0</td>\n",
       "      <td>0</td>\n",
       "      <td>0</td>\n",
       "      <td>0</td>\n",
       "      <td>...</td>\n",
       "      <td>0</td>\n",
       "      <td>0</td>\n",
       "      <td>0</td>\n",
       "      <td>0</td>\n",
       "      <td>0</td>\n",
       "      <td>0</td>\n",
       "      <td>0</td>\n",
       "      <td>0</td>\n",
       "      <td>0</td>\n",
       "      <td>0</td>\n",
       "    </tr>\n",
       "    <tr>\n",
       "      <th>1</th>\n",
       "      <td>0</td>\n",
       "      <td>0</td>\n",
       "      <td>0</td>\n",
       "      <td>0</td>\n",
       "      <td>0</td>\n",
       "      <td>0</td>\n",
       "      <td>0</td>\n",
       "      <td>0</td>\n",
       "      <td>0</td>\n",
       "      <td>0</td>\n",
       "      <td>...</td>\n",
       "      <td>0</td>\n",
       "      <td>0</td>\n",
       "      <td>0</td>\n",
       "      <td>0</td>\n",
       "      <td>0</td>\n",
       "      <td>0</td>\n",
       "      <td>0</td>\n",
       "      <td>0</td>\n",
       "      <td>0</td>\n",
       "      <td>0</td>\n",
       "    </tr>\n",
       "    <tr>\n",
       "      <th>2</th>\n",
       "      <td>0</td>\n",
       "      <td>0</td>\n",
       "      <td>0</td>\n",
       "      <td>0</td>\n",
       "      <td>0</td>\n",
       "      <td>0</td>\n",
       "      <td>0</td>\n",
       "      <td>0</td>\n",
       "      <td>0</td>\n",
       "      <td>0</td>\n",
       "      <td>...</td>\n",
       "      <td>0</td>\n",
       "      <td>0</td>\n",
       "      <td>0</td>\n",
       "      <td>0</td>\n",
       "      <td>0</td>\n",
       "      <td>0</td>\n",
       "      <td>0</td>\n",
       "      <td>0</td>\n",
       "      <td>0</td>\n",
       "      <td>0</td>\n",
       "    </tr>\n",
       "    <tr>\n",
       "      <th>3</th>\n",
       "      <td>0</td>\n",
       "      <td>0</td>\n",
       "      <td>0</td>\n",
       "      <td>0</td>\n",
       "      <td>0</td>\n",
       "      <td>0</td>\n",
       "      <td>0</td>\n",
       "      <td>0</td>\n",
       "      <td>0</td>\n",
       "      <td>0</td>\n",
       "      <td>...</td>\n",
       "      <td>0</td>\n",
       "      <td>0</td>\n",
       "      <td>0</td>\n",
       "      <td>0</td>\n",
       "      <td>0</td>\n",
       "      <td>0</td>\n",
       "      <td>0</td>\n",
       "      <td>0</td>\n",
       "      <td>0</td>\n",
       "      <td>0</td>\n",
       "    </tr>\n",
       "    <tr>\n",
       "      <th>4</th>\n",
       "      <td>0</td>\n",
       "      <td>0</td>\n",
       "      <td>0</td>\n",
       "      <td>0</td>\n",
       "      <td>0</td>\n",
       "      <td>0</td>\n",
       "      <td>0</td>\n",
       "      <td>0</td>\n",
       "      <td>0</td>\n",
       "      <td>0</td>\n",
       "      <td>...</td>\n",
       "      <td>0</td>\n",
       "      <td>0</td>\n",
       "      <td>0</td>\n",
       "      <td>0</td>\n",
       "      <td>0</td>\n",
       "      <td>0</td>\n",
       "      <td>0</td>\n",
       "      <td>0</td>\n",
       "      <td>0</td>\n",
       "      <td>0</td>\n",
       "    </tr>\n",
       "  </tbody>\n",
       "</table>\n",
       "<p>5 rows × 784 columns</p>\n",
       "</div>"
      ],
      "text/plain": [
       "   pixel0  pixel1  pixel2  pixel3  pixel4  pixel5  pixel6  pixel7  pixel8  \\\n",
       "0       0       0       0       0       0       0       0       0       0   \n",
       "1       0       0       0       0       0       0       0       0       0   \n",
       "2       0       0       0       0       0       0       0       0       0   \n",
       "3       0       0       0       0       0       0       0       0       0   \n",
       "4       0       0       0       0       0       0       0       0       0   \n",
       "\n",
       "   pixel9  ...  pixel774  pixel775  pixel776  pixel777  pixel778  pixel779  \\\n",
       "0       0  ...         0         0         0         0         0         0   \n",
       "1       0  ...         0         0         0         0         0         0   \n",
       "2       0  ...         0         0         0         0         0         0   \n",
       "3       0  ...         0         0         0         0         0         0   \n",
       "4       0  ...         0         0         0         0         0         0   \n",
       "\n",
       "   pixel780  pixel781  pixel782  pixel783  \n",
       "0         0         0         0         0  \n",
       "1         0         0         0         0  \n",
       "2         0         0         0         0  \n",
       "3         0         0         0         0  \n",
       "4         0         0         0         0  \n",
       "\n",
       "[5 rows x 784 columns]"
      ]
     },
     "execution_count": 61,
     "metadata": {},
     "output_type": "execute_result"
    }
   ],
   "source": [
    "mnist_x=mnist.iloc[: , 1:786]\n",
    "mnist_x.head()"
   ]
  },
  {
   "cell_type": "code",
   "execution_count": 62,
   "metadata": {},
   "outputs": [],
   "source": [
    "mnist_y = mnist.iloc[:,0]"
   ]
  },
  {
   "cell_type": "code",
   "execution_count": 63,
   "metadata": {},
   "outputs": [],
   "source": [
    "from sklearn.model_selection import train_test_split\n",
    "\n",
    "mnist_x_train, mnist_x_test,mnist_y_train, mnist_y_test = train_test_split(mnist_x, mnist_y, test_size= 0.2 , random_state = 101)"
   ]
  },
  {
   "cell_type": "code",
   "execution_count": 64,
   "metadata": {},
   "outputs": [
    {
     "data": {
      "text/plain": [
       "(33600, 784)"
      ]
     },
     "execution_count": 64,
     "metadata": {},
     "output_type": "execute_result"
    }
   ],
   "source": [
    "mnist_x_train.shape"
   ]
  },
  {
   "cell_type": "code",
   "execution_count": 65,
   "metadata": {},
   "outputs": [
    {
     "data": {
      "text/plain": [
       "(33600,)"
      ]
     },
     "execution_count": 65,
     "metadata": {},
     "output_type": "execute_result"
    }
   ],
   "source": [
    "mnist_y_train.shape"
   ]
  },
  {
   "cell_type": "code",
   "execution_count": 66,
   "metadata": {},
   "outputs": [
    {
     "data": {
      "text/plain": [
       "(8400, 784)"
      ]
     },
     "execution_count": 66,
     "metadata": {},
     "output_type": "execute_result"
    }
   ],
   "source": [
    "mnist_x_test.shape"
   ]
  },
  {
   "cell_type": "code",
   "execution_count": 67,
   "metadata": {},
   "outputs": [
    {
     "data": {
      "text/plain": [
       "(8400,)"
      ]
     },
     "execution_count": 67,
     "metadata": {},
     "output_type": "execute_result"
    }
   ],
   "source": [
    "mnist_y_test.shape"
   ]
  },
  {
   "cell_type": "markdown",
   "metadata": {},
   "source": [
    "# reshape each and every row"
   ]
  },
  {
   "cell_type": "code",
   "execution_count": 45,
   "metadata": {},
   "outputs": [],
   "source": [
    "mnist_x_train = np.array(mnist_x_train)\n",
    "\n",
    "for i in range(len(mnist_x_train)):\n",
    "        mnist_x_train[i,].reshape(28,28)\n",
    "\n",
    "\n"
   ]
  },
  {
   "cell_type": "code",
   "execution_count": 46,
   "metadata": {},
   "outputs": [],
   "source": [
    "mnist_x_test = np.array(mnist_x_test)\n",
    "\n",
    "for i in range(len(mnist_x_test)):\n",
    "    mnist_x_test[i,].reshape(28,28)\n",
    "        \n"
   ]
  },
  {
   "cell_type": "code",
   "execution_count": 47,
   "metadata": {},
   "outputs": [
    {
     "data": {
      "text/plain": [
       "<matplotlib.image.AxesImage at 0x1ad09b5bb70>"
      ]
     },
     "execution_count": 47,
     "metadata": {},
     "output_type": "execute_result"
    },
    {
     "data": {
      "image/png": "[encoded data removed]",
      "text/plain": [
       "<Figure size 432x288 with 1 Axes>"
      ]
     },
     "metadata": {
      "needs_background": "light"
     },
     "output_type": "display_data"
    }
   ],
   "source": [
    "plt.imshow(mnist_x_train[0,].reshape(28,28))"
   ]
  },
  {
   "cell_type": "markdown",
   "metadata": {},
   "source": [
    "# Normalize x test and train"
   ]
  },
  {
   "cell_type": "code",
   "execution_count": 68,
   "metadata": {},
   "outputs": [],
   "source": [
    "mnist_x_train = tf.keras.utils.normalize(mnist_x_train)"
   ]
  },
  {
   "cell_type": "code",
   "execution_count": 69,
   "metadata": {},
   "outputs": [],
   "source": [
    "mnist_x_test = tf.keras.utils.normalize(mnist_x_test)"
   ]
  },
  {
   "cell_type": "markdown",
   "metadata": {},
   "source": [
    "# Model Building"
   ]
  },
  {
   "cell_type": "code",
   "execution_count": 87,
   "metadata": {},
   "outputs": [],
   "source": [
    "model =  tf.keras.models.Sequential()\n",
    "model.add =(tf.keras.layers.Dense(128, activation = tf.nn.relu))\n",
    "model.add =(tf.keras.layers.Dense(128, activation = tf.nn.relu))\n",
    "model.add =(tf.keras.layers.Dense(128, activation = tf.nn.relu))\n",
    "model.add =(tf.keras.layers.Dense(10 , activation = tf.nn.softmax))  ## no. of layers in your target variable\n",
    "## softmax is used when there are more than 2 layers in your target variable\n",
    "model.compile(optimizer = 'adam' , loss = 'sparse_categorical_crossentropy', metric = ['accuracy'])\n",
    "\n",
    "## adam - stochastic gradient descent"
   ]
  },
  {
   "cell_type": "code",
   "execution_count": 88,
   "metadata": {},
   "outputs": [],
   "source": [
    "mnist_y_train = np.array(mnist_y_train)"
   ]
  },
  {
   "cell_type": "code",
   "execution_count": 89,
   "metadata": {},
   "outputs": [
    {
     "ename": "ValueError",
     "evalue": "Please provide as model inputs either a single array or a list of arrays. You passed: x=       pixel0  pixel1  pixel2  pixel3  pixel4  pixel5  pixel6  pixel7  pixel8  \\\n20772     0.0     0.0     0.0     0.0     0.0     0.0     0.0     0.0     0.0   \n10279     0.0     0.0     0.0     0.0     0.0     0.0     0.0     0.0     0.0   \n27518     0.0     0.0     0.0     0.0     0.0     0.0     0.0     0.0     0.0   \n36632     0.0     0.0     0.0     0.0     0.0     0.0     0.0     0.0     0.0   \n2474      0.0     0.0     0.0     0.0     0.0     0.0     0.0     0.0     0.0   \n8171      0.0     0.0     0.0     0.0     0.0     0.0     0.0     0.0     0.0   \n21796     0.0     0.0     0.0     0.0     0.0     0.0     0.0     0.0     0.0   \n31531     0.0     0.0     0.0     0.0     0.0     0.0     0.0     0.0     0.0   \n31246     0.0     0.0     0.0     0.0     0.0     0.0     0.0     0.0     0.0   \n18152     0.0     0.0     0.0     0.0     0.0     0.0     0.0     0.0     0.0   \n41739     0.0     0.0     0.0     0.0     0.0     0.0     0.0     0.0     0.0   \n24193     0.0     0.0     0.0     0.0     0.0     0.0     0.0     0.0     0.0   \n36031     0.0     0.0     0.0     0.0     0.0     0.0     0.0     0.0     0.0   \n22519     0.0     0.0     0.0     0.0     0.0     0.0     0.0     0.0     0.0   \n37670     0.0     0.0     0.0     0.0     0.0     0.0     0.0     0.0     0.0   \n6604      0.0     0.0     0.0     0.0     0.0     0.0     0.0     0.0     0.0   \n29932     0.0     0.0     0.0     0.0     0.0     0.0     0.0     0.0     0.0   \n14790     0.0     0.0     0.0     0.0     0.0     0.0     0.0     0.0     0.0   \n18597     0.0     0.0     0.0     0.0     0.0     0.0     0.0     0.0     0.0   \n24626     0.0     0.0     0.0     0.0     0.0     0.0     0.0     0.0     0.0   \n3270      0.0     0.0     0.0     0.0     0.0     0.0     0.0     0.0     0.0   \n14859     0.0     0.0     0.0     0.0     0.0     0.0     0.0     0.0     0.0   \n7901      0.0     0.0     0.0     0.0     0.0     0.0     0.0     0.0     0.0   \n23589     0.0     0.0     0.0     0.0     0.0     0.0     0.0     0.0     0.0   \n40004     0.0     0.0     0.0     0.0     0.0     0.0     0.0     0.0     0.0   \n16784     0.0     0.0     0.0     0.0     0.0     0.0     0.0     0.0     0.0   \n33746     0.0     0.0     0.0     0.0     0.0     0.0     0.0     0.0     0.0   \n20306     0.0     0.0     0.0     0.0     0.0     0.0     0.0     0.0     0.0   \n41736     0.0     0.0     0.0     0.0     0.0     0.0     0.0     0.0     0.0   \n14150     0.0     0.0     0.0     0.0     0.0     0.0     0.0     0.0     0.0   \n...       ...     ...     ...     ...     ...     ...     ...     ...     ...   \n22633     0.0     0.0     0.0     0.0     0.0     0.0     0.0     0.0     0.0   \n31616     0.0     0.0     0.0     0.0     0.0     0.0     0.0     0.0     0.0   \n8535      0.0     0.0     0.0     0.0     0.0     0.0     0.0     0.0     0.0   \n20191     0.0     0.0     0.0     0.0     0.0     0.0     0.0     0.0     0.0   \n15436     0.0     0.0     0.0     0.0     0.0     0.0     0.0     0.0     0.0   \n38526     0.0     0.0     0.0     0.0     0.0     0.0     0.0     0.0     0.0   \n17657     0.0     0.0     0.0     0.0     0.0     0.0     0.0     0.0     0.0   \n28488     0.0     0.0     0.0     0.0     0.0     0.0     0.0     0.0     0.0   \n9772      0.0     0.0     0.0     0.0     0.0     0.0     0.0     0.0     0.0   \n18491     0.0     0.0     0.0     0.0     0.0     0.0     0.0     0.0     0.0   \n19315     0.0     0.0     0.0     0.0     0.0     0.0     0.0     0.0     0.0   \n34717     0.0     0.0     0.0     0.0     0.0     0.0     0.0     0.0     0.0   \n26106     0.0     0.0     0.0     0.0     0.0     0.0     0.0     0.0     0.0   \n12911     0.0     0.0     0.0     0.0     0.0     0.0     0.0     0.0     0.0   \n32817     0.0     0.0     0.0     0.0     0.0     0.0     0.0     0.0     0.0   \n20957     0.0     0.0     0.0     0.0     0.0     0.0     0.0     0.0     0.0   \n19566     0.0     0.0     0.0     0.0     0.0     0.0     0.0     0.0     0.0   \n13020     0.0     0.0     0.0     0.0     0.0     0.0     0.0     0.0     0.0   \n6460      0.0     0.0     0.0     0.0     0.0     0.0     0.0     0.0     0.0   \n35391     0.0     0.0     0.0     0.0     0.0     0.0     0.0     0.0     0.0   \n22148     0.0     0.0     0.0     0.0     0.0     0.0     0.0     0.0     0.0   \n22056     0.0     0.0     0.0     0.0     0.0     0.0     0.0     0.0     0.0   \n17357     0.0     0.0     0.0     0.0     0.0     0.0     0.0     0.0     0.0   \n32137     0.0     0.0     0.0     0.0     0.0     0.0     0.0     0.0     0.0   \n20463     0.0     0.0     0.0     0.0     0.0     0.0     0.0     0.0     0.0   \n12363     0.0     0.0     0.0     0.0     0.0     0.0     0.0     0.0     0.0   \n5695      0.0     0.0     0.0     0.0     0.0     0.0     0.0     0.0     0.0   \n8006      0.0     0.0     0.0     0.0     0.0     0.0     0.0     0.0     0.0   \n17745     0.0     0.0     0.0     0.0     0.0     0.0     0.0     0.0     0.0   \n17931     0.0     0.0     0.0     0.0     0.0     0.0     0.0     0.0     0.0   \n\n       pixel9  ...  pixel774  pixel775  pixel776  pixel777  pixel778  \\\n20772     0.0  ...  0.000000       0.0       0.0       0.0       0.0   \n10279     0.0  ...  0.000000       0.0       0.0       0.0       0.0   \n27518     0.0  ...  0.000000       0.0       0.0       0.0       0.0   \n36632     0.0  ...  0.000000       0.0       0.0       0.0       0.0   \n2474      0.0  ...  0.000000       0.0       0.0       0.0       0.0   \n8171      0.0  ...  0.000000       0.0       0.0       0.0       0.0   \n21796     0.0  ...  0.000000       0.0       0.0       0.0       0.0   \n31531     0.0  ...  0.000000       0.0       0.0       0.0       0.0   \n31246     0.0  ...  0.000000       0.0       0.0       0.0       0.0   \n18152     0.0  ...  0.000000       0.0       0.0       0.0       0.0   \n41739     0.0  ...  0.000000       0.0       0.0       0.0       0.0   \n24193     0.0  ...  0.000000       0.0       0.0       0.0       0.0   \n36031     0.0  ...  0.000000       0.0       0.0       0.0       0.0   \n22519     0.0  ...  0.000000       0.0       0.0       0.0       0.0   \n37670     0.0  ...  0.000000       0.0       0.0       0.0       0.0   \n6604      0.0  ...  0.000000       0.0       0.0       0.0       0.0   \n29932     0.0  ...  0.000000       0.0       0.0       0.0       0.0   \n14790     0.0  ...  0.000000       0.0       0.0       0.0       0.0   \n18597     0.0  ...  0.000000       0.0       0.0       0.0       0.0   \n24626     0.0  ...  0.000000       0.0       0.0       0.0       0.0   \n3270      0.0  ...  0.000000       0.0       0.0       0.0       0.0   \n14859     0.0  ...  0.000000       0.0       0.0       0.0       0.0   \n7901      0.0  ...  0.000000       0.0       0.0       0.0       0.0   \n23589     0.0  ...  0.000000       0.0       0.0       0.0       0.0   \n40004     0.0  ...  0.000000       0.0       0.0       0.0       0.0   \n16784     0.0  ...  0.000000       0.0       0.0       0.0       0.0   \n33746     0.0  ...  0.000000       0.0       0.0       0.0       0.0   \n20306     0.0  ...  0.000000       0.0       0.0       0.0       0.0   \n41736     0.0  ...  0.000000       0.0       0.0       0.0       0.0   \n14150     0.0  ...  0.000000       0.0       0.0       0.0       0.0   \n...       ...  ...       ...       ...       ...       ...       ...   \n22633     0.0  ...  0.000000       0.0       0.0       0.0       0.0   \n31616     0.0  ...  0.000000       0.0       0.0       0.0       0.0   \n8535      0.0  ...  0.000000       0.0       0.0       0.0       0.0   \n20191     0.0  ...  0.000000       0.0       0.0       0.0       0.0   \n15436     0.0  ...  0.000000       0.0       0.0       0.0       0.0   \n38526     0.0  ...  0.000000       0.0       0.0       0.0       0.0   \n17657     0.0  ...  0.000000       0.0       0.0       0.0       0.0   \n28488     0.0  ...  0.000000       0.0       0.0       0.0       0.0   \n9772      0.0  ...  0.000000       0.0       0.0       0.0       0.0   \n18491     0.0  ...  0.000000       0.0       0.0       0.0       0.0   \n19315     0.0  ...  0.000000       0.0       0.0       0.0       0.0   \n34717     0.0  ...  0.000000       0.0       0.0       0.0       0.0   \n26106     0.0  ...  0.000000       0.0       0.0       0.0       0.0   \n12911     0.0  ...  0.000000       0.0       0.0       0.0       0.0   \n32817     0.0  ...  0.000000       0.0       0.0       0.0       0.0   \n20957     0.0  ...  0.000000       0.0       0.0       0.0       0.0   \n19566     0.0  ...  0.000000       0.0       0.0       0.0       0.0   \n13020     0.0  ...  0.000000       0.0       0.0       0.0       0.0   \n6460      0.0  ...  0.000000       0.0       0.0       0.0       0.0   \n35391     0.0  ...  0.000000       0.0       0.0       0.0       0.0   \n22148     0.0  ...  0.000000       0.0       0.0       0.0       0.0   \n22056     0.0  ...  0.000000       0.0       0.0       0.0       0.0   \n17357     0.0  ...  0.000000       0.0       0.0       0.0       0.0   \n32137     0.0  ...  0.000000       0.0       0.0       0.0       0.0   \n20463     0.0  ...  0.000000       0.0       0.0       0.0       0.0   \n12363     0.0  ...  0.000000       0.0       0.0       0.0       0.0   \n5695      0.0  ...  0.000000       0.0       0.0       0.0       0.0   \n8006      0.0  ...  0.000000       0.0       0.0       0.0       0.0   \n17745     0.0  ...  0.000000       0.0       0.0       0.0       0.0   \n17931     0.0  ...  0.040453       0.0       0.0       0.0       0.0   \n\n       pixel779  pixel780  pixel781  pixel782  pixel783  \n20772       0.0       0.0       0.0       0.0       0.0  \n10279       0.0       0.0       0.0       0.0       0.0  \n27518       0.0       0.0       0.0       0.0       0.0  \n36632       0.0       0.0       0.0       0.0       0.0  \n2474        0.0       0.0       0.0       0.0       0.0  \n8171        0.0       0.0       0.0       0.0       0.0  \n21796       0.0       0.0       0.0       0.0       0.0  \n31531       0.0       0.0       0.0       0.0       0.0  \n31246       0.0       0.0       0.0       0.0       0.0  \n18152       0.0       0.0       0.0       0.0       0.0  \n41739       0.0       0.0       0.0       0.0       0.0  \n24193       0.0       0.0       0.0       0.0       0.0  \n36031       0.0       0.0       0.0       0.0       0.0  \n22519       0.0       0.0       0.0       0.0       0.0  \n37670       0.0       0.0       0.0       0.0       0.0  \n6604        0.0       0.0       0.0       0.0       0.0  \n29932       0.0       0.0       0.0       0.0       0.0  \n14790       0.0       0.0       0.0       0.0       0.0  \n18597       0.0       0.0       0.0       0.0       0.0  \n24626       0.0       0.0       0.0       0.0       0.0  \n3270        0.0       0.0       0.0       0.0       0.0  \n14859       0.0       0.0       0.0       0.0       0.0  \n7901        0.0       0.0       0.0       0.0       0.0  \n23589       0.0       0.0       0.0       0.0       0.0  \n40004       0.0       0.0       0.0       0.0       0.0  \n16784       0.0       0.0       0.0       0.0       0.0  \n33746       0.0       0.0       0.0       0.0       0.0  \n20306       0.0       0.0       0.0       0.0       0.0  \n41736       0.0       0.0       0.0       0.0       0.0  \n14150       0.0       0.0       0.0       0.0       0.0  \n...         ...       ...       ...       ...       ...  \n22633       0.0       0.0       0.0       0.0       0.0  \n31616       0.0       0.0       0.0       0.0       0.0  \n8535        0.0       0.0       0.0       0.0       0.0  \n20191       0.0       0.0       0.0       0.0       0.0  \n15436       0.0       0.0       0.0       0.0       0.0  \n38526       0.0       0.0       0.0       0.0       0.0  \n17657       0.0       0.0       0.0       0.0       0.0  \n28488       0.0       0.0       0.0       0.0       0.0  \n9772        0.0       0.0       0.0       0.0       0.0  \n18491       0.0       0.0       0.0       0.0       0.0  \n19315       0.0       0.0       0.0       0.0       0.0  \n34717       0.0       0.0       0.0       0.0       0.0  \n26106       0.0       0.0       0.0       0.0       0.0  \n12911       0.0       0.0       0.0       0.0       0.0  \n32817       0.0       0.0       0.0       0.0       0.0  \n20957       0.0       0.0       0.0       0.0       0.0  \n19566       0.0       0.0       0.0       0.0       0.0  \n13020       0.0       0.0       0.0       0.0       0.0  \n6460        0.0       0.0       0.0       0.0       0.0  \n35391       0.0       0.0       0.0       0.0       0.0  \n22148       0.0       0.0       0.0       0.0       0.0  \n22056       0.0       0.0       0.0       0.0       0.0  \n17357       0.0       0.0       0.0       0.0       0.0  \n32137       0.0       0.0       0.0       0.0       0.0  \n20463       0.0       0.0       0.0       0.0       0.0  \n12363       0.0       0.0       0.0       0.0       0.0  \n5695        0.0       0.0       0.0       0.0       0.0  \n8006        0.0       0.0       0.0       0.0       0.0  \n17745       0.0       0.0       0.0       0.0       0.0  \n17931       0.0       0.0       0.0       0.0       0.0  \n\n[33600 rows x 784 columns]",
     "output_type": "error",
     "traceback": [
      "\u001b[1;31m---------------------------------------------------------------------------\u001b[0m",
      "\u001b[1;31mValueError\u001b[0m                                Traceback (most recent call last)",
      "\u001b[1;32m<ipython-input-89-20b01ab53c17>\u001b[0m in \u001b[0;36m<module>\u001b[1;34m\u001b[0m\n\u001b[1;32m----> 1\u001b[1;33m \u001b[0mmodel\u001b[0m\u001b[1;33m.\u001b[0m\u001b[0mfit\u001b[0m\u001b[1;33m(\u001b[0m\u001b[0mmnist_x_train\u001b[0m\u001b[1;33m,\u001b[0m \u001b[0mmnist_y_train\u001b[0m\u001b[1;33m,\u001b[0m \u001b[0mepochs\u001b[0m\u001b[1;33m=\u001b[0m \u001b[1;36m5\u001b[0m\u001b[1;33m,\u001b[0m \u001b[0mvalidation_split\u001b[0m\u001b[1;33m=\u001b[0m \u001b[1;36m0.2\u001b[0m\u001b[1;33m)\u001b[0m\u001b[1;33m\u001b[0m\u001b[1;33m\u001b[0m\u001b[0m\n\u001b[0m",
      "\u001b[1;32m~\\Anaconda3\\lib\\site-packages\\tensorflow\\python\\keras\\engine\\training.py\u001b[0m in \u001b[0;36mfit\u001b[1;34m(self, x, y, batch_size, epochs, verbose, callbacks, validation_split, validation_data, shuffle, class_weight, sample_weight, initial_epoch, steps_per_epoch, validation_steps, validation_freq, max_queue_size, workers, use_multiprocessing, **kwargs)\u001b[0m\n\u001b[0;32m    707\u001b[0m         \u001b[0msteps\u001b[0m\u001b[1;33m=\u001b[0m\u001b[0msteps_per_epoch\u001b[0m\u001b[1;33m,\u001b[0m\u001b[1;33m\u001b[0m\u001b[1;33m\u001b[0m\u001b[0m\n\u001b[0;32m    708\u001b[0m         \u001b[0mvalidation_split\u001b[0m\u001b[1;33m=\u001b[0m\u001b[0mvalidation_split\u001b[0m\u001b[1;33m,\u001b[0m\u001b[1;33m\u001b[0m\u001b[1;33m\u001b[0m\u001b[0m\n\u001b[1;32m--> 709\u001b[1;33m         shuffle=shuffle)\n\u001b[0m\u001b[0;32m    710\u001b[0m \u001b[1;33m\u001b[0m\u001b[0m\n\u001b[0;32m    711\u001b[0m     \u001b[1;31m# Prepare validation data.\u001b[0m\u001b[1;33m\u001b[0m\u001b[1;33m\u001b[0m\u001b[1;33m\u001b[0m\u001b[0m\n",
      "\u001b[1;32m~\\Anaconda3\\lib\\site-packages\\tensorflow\\python\\keras\\engine\\training.py\u001b[0m in \u001b[0;36m_standardize_user_data\u001b[1;34m(self, x, y, sample_weight, class_weight, batch_size, check_steps, steps_name, steps, validation_split, shuffle, extract_tensors_from_dataset)\u001b[0m\n\u001b[0;32m   2543\u001b[0m             not tensor_util.is_tensor(x_input)):\n\u001b[0;32m   2544\u001b[0m           raise ValueError('Please provide as model inputs either a single '\n\u001b[1;32m-> 2545\u001b[1;33m                            'array or a list of arrays. You passed: x=' + str(x))\n\u001b[0m\u001b[0;32m   2546\u001b[0m         \u001b[0mall_inputs\u001b[0m\u001b[1;33m.\u001b[0m\u001b[0mappend\u001b[0m\u001b[1;33m(\u001b[0m\u001b[0mx_input\u001b[0m\u001b[1;33m)\u001b[0m\u001b[1;33m\u001b[0m\u001b[1;33m\u001b[0m\u001b[0m\n\u001b[0;32m   2547\u001b[0m \u001b[1;33m\u001b[0m\u001b[0m\n",
      "\u001b[1;31mValueError\u001b[0m: Please provide as model inputs either a single array or a list of arrays. You passed: x=       pixel0  pixel1  pixel2  pixel3  pixel4  pixel5  pixel6  pixel7  pixel8  \\\n20772     0.0     0.0     0.0     0.0     0.0     0.0     0.0     0.0     0.0   \n10279     0.0     0.0     0.0     0.0     0.0     0.0     0.0     0.0     0.0   \n27518     0.0     0.0     0.0     0.0     0.0     0.0     0.0     0.0     0.0   \n36632     0.0     0.0     0.0     0.0     0.0     0.0     0.0     0.0     0.0   \n2474      0.0     0.0     0.0     0.0     0.0     0.0     0.0     0.0     0.0   \n8171      0.0     0.0     0.0     0.0     0.0     0.0     0.0     0.0     0.0   \n21796     0.0     0.0     0.0     0.0     0.0     0.0     0.0     0.0     0.0   \n31531     0.0     0.0     0.0     0.0     0.0     0.0     0.0     0.0     0.0   \n31246     0.0     0.0     0.0     0.0     0.0     0.0     0.0     0.0     0.0   \n18152     0.0     0.0     0.0     0.0     0.0     0.0     0.0     0.0     0.0   \n41739     0.0     0.0     0.0     0.0     0.0     0.0     0.0     0.0     0.0   \n24193     0.0     0.0     0.0     0.0     0.0     0.0     0.0     0.0     0.0   \n36031     0.0     0.0     0.0     0.0     0.0     0.0     0.0     0.0     0.0   \n22519     0.0     0.0     0.0     0.0     0.0     0.0     0.0     0.0     0.0   \n37670     0.0     0.0     0.0     0.0     0.0     0.0     0.0     0.0     0.0   \n6604      0.0     0.0     0.0     0.0     0.0     0.0     0.0     0.0     0.0   \n29932     0.0     0.0     0.0     0.0     0.0     0.0     0.0     0.0     0.0   \n14790     0.0     0.0     0.0     0.0     0.0     0.0     0.0     0.0     0.0   \n18597     0.0     0.0     0.0     0.0     0.0     0.0     0.0     0.0     0.0   \n24626     0.0     0.0     0.0     0.0     0.0     0.0     0.0     0.0     0.0   \n3270      0.0     0.0     0.0     0.0     0.0     0.0     0.0     0.0     0.0   \n14859     0.0     0.0     0.0     0.0     0.0     0.0     0.0     0.0     0.0   \n7901      0.0     0.0     0.0     0.0     0.0     0.0     0.0     0.0     0.0   \n23589     0.0     0.0     0.0     0.0     0.0     0.0     0.0     0.0     0.0   \n40004     0.0     0.0     0.0     0.0     0.0     0.0     0.0     0.0     0.0   \n16784     0.0     0.0     0.0     0.0     0.0     0.0     0.0     0.0     0.0   \n33746     0.0     0.0     0.0     0.0     0.0     0.0     0.0     0.0     0.0   \n20306     0.0     0.0     0.0     0.0     0.0     0.0     0.0     0.0     0.0   \n41736     0.0     0.0     0.0     0.0     0.0     0.0     0.0     0.0     0.0   \n14150     0.0     0.0     0.0     0.0     0.0     0.0     0.0     0.0     0.0   \n...       ...     ...     ...     ...     ...     ...     ...     ...     ...   \n22633     0.0     0.0     0.0     0.0     0.0     0.0     0.0     0.0     0.0   \n31616     0.0     0.0     0.0     0.0     0.0     0.0     0.0     0.0     0.0   \n8535      0.0     0.0     0.0     0.0     0.0     0.0     0.0     0.0     0.0   \n20191     0.0     0.0     0.0     0.0     0.0     0.0     0.0     0.0     0.0   \n15436     0.0     0.0     0.0     0.0     0.0     0.0     0.0     0.0     0.0   \n38526     0.0     0.0     0.0     0.0     0.0     0.0     0.0     0.0     0.0   \n17657     0.0     0.0     0.0     0.0     0.0     0.0     0.0     0.0     0.0   \n28488     0.0     0.0     0.0     0.0     0.0     0.0     0.0     0.0     0.0   \n9772      0.0     0.0     0.0     0.0     0.0     0.0     0.0     0.0     0.0   \n18491     0.0     0.0     0.0     0.0     0.0     0.0     0.0     0.0     0.0   \n19315     0.0     0.0     0.0     0.0     0.0     0.0     0.0     0.0     0.0   \n34717     0.0     0.0     0.0     0.0     0.0     0.0     0.0     0.0     0.0   \n26106     0.0     0.0     0.0     0.0     0.0     0.0     0.0     0.0     0.0   \n12911     0.0     0.0     0.0     0.0     0.0     0.0     0.0     0.0     0.0   \n32817     0.0     0.0     0.0     0.0     0.0     0.0     0.0     0.0     0.0   \n20957     0.0     0.0     0.0     0.0     0.0     0.0     0.0     0.0     0.0   \n19566     0.0     0.0     0.0     0.0     0.0     0.0     0.0     0.0     0.0   \n13020     0.0     0.0     0.0     0.0     0.0     0.0     0.0     0.0     0.0   \n6460      0.0     0.0     0.0     0.0     0.0     0.0     0.0     0.0     0.0   \n35391     0.0     0.0     0.0     0.0     0.0     0.0     0.0     0.0     0.0   \n22148     0.0     0.0     0.0     0.0     0.0     0.0     0.0     0.0     0.0   \n22056     0.0     0.0     0.0     0.0     0.0     0.0     0.0     0.0     0.0   \n17357     0.0     0.0     0.0     0.0     0.0     0.0     0.0     0.0     0.0   \n32137     0.0     0.0     0.0     0.0     0.0     0.0     0.0     0.0     0.0   \n20463     0.0     0.0     0.0     0.0     0.0     0.0     0.0     0.0     0.0   \n12363     0.0     0.0     0.0     0.0     0.0     0.0     0.0     0.0     0.0   \n5695      0.0     0.0     0.0     0.0     0.0     0.0     0.0     0.0     0.0   \n8006      0.0     0.0     0.0     0.0     0.0     0.0     0.0     0.0     0.0   \n17745     0.0     0.0     0.0     0.0     0.0     0.0     0.0     0.0     0.0   \n17931     0.0     0.0     0.0     0.0     0.0     0.0     0.0     0.0     0.0   \n\n       pixel9  ...  pixel774  pixel775  pixel776  pixel777  pixel778  \\\n20772     0.0  ...  0.000000       0.0       0.0       0.0       0.0   \n10279     0.0  ...  0.000000       0.0       0.0       0.0       0.0   \n27518     0.0  ...  0.000000       0.0       0.0       0.0       0.0   \n36632     0.0  ...  0.000000       0.0       0.0       0.0       0.0   \n2474      0.0  ...  0.000000       0.0       0.0       0.0       0.0   \n8171      0.0  ...  0.000000       0.0       0.0       0.0       0.0   \n21796     0.0  ...  0.000000       0.0       0.0       0.0       0.0   \n31531     0.0  ...  0.000000       0.0       0.0       0.0       0.0   \n31246     0.0  ...  0.000000       0.0       0.0       0.0       0.0   \n18152     0.0  ...  0.000000       0.0       0.0       0.0       0.0   \n41739     0.0  ...  0.000000       0.0       0.0       0.0       0.0   \n24193     0.0  ...  0.000000       0.0       0.0       0.0       0.0   \n36031     0.0  ...  0.000000       0.0       0.0       0.0       0.0   \n22519     0.0  ...  0.000000       0.0       0.0       0.0       0.0   \n37670     0.0  ...  0.000000       0.0       0.0       0.0       0.0   \n6604      0.0  ...  0.000000       0.0       0.0       0.0       0.0   \n29932     0.0  ...  0.000000       0.0       0.0       0.0       0.0   \n14790     0.0  ...  0.000000       0.0       0.0       0.0       0.0   \n18597     0.0  ...  0.000000       0.0       0.0       0.0       0.0   \n24626     0.0  ...  0.000000       0.0       0.0       0.0       0.0   \n3270      0.0  ...  0.000000       0.0       0.0       0.0       0.0   \n14859     0.0  ...  0.000000       0.0       0.0       0.0       0.0   \n7901      0.0  ...  0.000000       0.0       0.0       0.0       0.0   \n23589     0.0  ...  0.000000       0.0       0.0       0.0       0.0   \n40004     0.0  ...  0.000000       0.0       0.0       0.0       0.0   \n16784     0.0  ...  0.000000       0.0       0.0       0.0       0.0   \n33746     0.0  ...  0.000000       0.0       0.0       0.0       0.0   \n20306     0.0  ...  0.000000       0.0       0.0       0.0       0.0   \n41736     0.0  ...  0.000000       0.0       0.0       0.0       0.0   \n14150     0.0  ...  0.000000       0.0       0.0       0.0       0.0   \n...       ...  ...       ...       ...       ...       ...       ...   \n22633     0.0  ...  0.000000       0.0       0.0       0.0       0.0   \n31616     0.0  ...  0.000000       0.0       0.0       0.0       0.0   \n8535      0.0  ...  0.000000       0.0       0.0       0.0       0.0   \n20191     0.0  ...  0.000000       0.0       0.0       0.0       0.0   \n15436     0.0  ...  0.000000       0.0       0.0       0.0       0.0   \n38526     0.0  ...  0.000000       0.0       0.0       0.0       0.0   \n17657     0.0  ...  0.000000       0.0       0.0       0.0       0.0   \n28488     0.0  ...  0.000000       0.0       0.0       0.0       0.0   \n9772      0.0  ...  0.000000       0.0       0.0       0.0       0.0   \n18491     0.0  ...  0.000000       0.0       0.0       0.0       0.0   \n19315     0.0  ...  0.000000       0.0       0.0       0.0       0.0   \n34717     0.0  ...  0.000000       0.0       0.0       0.0       0.0   \n26106     0.0  ...  0.000000       0.0       0.0       0.0       0.0   \n12911     0.0  ...  0.000000       0.0       0.0       0.0       0.0   \n32817     0.0  ...  0.000000       0.0       0.0       0.0       0.0   \n20957     0.0  ...  0.000000       0.0       0.0       0.0       0.0   \n19566     0.0  ...  0.000000       0.0       0.0       0.0       0.0   \n13020     0.0  ...  0.000000       0.0       0.0       0.0       0.0   \n6460      0.0  ...  0.000000       0.0       0.0       0.0       0.0   \n35391     0.0  ...  0.000000       0.0       0.0       0.0       0.0   \n22148     0.0  ...  0.000000       0.0       0.0       0.0       0.0   \n22056     0.0  ...  0.000000       0.0       0.0       0.0       0.0   \n17357     0.0  ...  0.000000       0.0       0.0       0.0       0.0   \n32137     0.0  ...  0.000000       0.0       0.0       0.0       0.0   \n20463     0.0  ...  0.000000       0.0       0.0       0.0       0.0   \n12363     0.0  ...  0.000000       0.0       0.0       0.0       0.0   \n5695      0.0  ...  0.000000       0.0       0.0       0.0       0.0   \n8006      0.0  ...  0.000000       0.0       0.0       0.0       0.0   \n17745     0.0  ...  0.000000       0.0       0.0       0.0       0.0   \n17931     0.0  ...  0.040453       0.0       0.0       0.0       0.0   \n\n       pixel779  pixel780  pixel781  pixel782  pixel783  \n20772       0.0       0.0       0.0       0.0       0.0  \n10279       0.0       0.0       0.0       0.0       0.0  \n27518       0.0       0.0       0.0       0.0       0.0  \n36632       0.0       0.0       0.0       0.0       0.0  \n2474        0.0       0.0       0.0       0.0       0.0  \n8171        0.0       0.0       0.0       0.0       0.0  \n21796       0.0       0.0       0.0       0.0       0.0  \n31531       0.0       0.0       0.0       0.0       0.0  \n31246       0.0       0.0       0.0       0.0       0.0  \n18152       0.0       0.0       0.0       0.0       0.0  \n41739       0.0       0.0       0.0       0.0       0.0  \n24193       0.0       0.0       0.0       0.0       0.0  \n36031       0.0       0.0       0.0       0.0       0.0  \n22519       0.0       0.0       0.0       0.0       0.0  \n37670       0.0       0.0       0.0       0.0       0.0  \n6604        0.0       0.0       0.0       0.0       0.0  \n29932       0.0       0.0       0.0       0.0       0.0  \n14790       0.0       0.0       0.0       0.0       0.0  \n18597       0.0       0.0       0.0       0.0       0.0  \n24626       0.0       0.0       0.0       0.0       0.0  \n3270        0.0       0.0       0.0       0.0       0.0  \n14859       0.0       0.0       0.0       0.0       0.0  \n7901        0.0       0.0       0.0       0.0       0.0  \n23589       0.0       0.0       0.0       0.0       0.0  \n40004       0.0       0.0       0.0       0.0       0.0  \n16784       0.0       0.0       0.0       0.0       0.0  \n33746       0.0       0.0       0.0       0.0       0.0  \n20306       0.0       0.0       0.0       0.0       0.0  \n41736       0.0       0.0       0.0       0.0       0.0  \n14150       0.0       0.0       0.0       0.0       0.0  \n...         ...       ...       ...       ...       ...  \n22633       0.0       0.0       0.0       0.0       0.0  \n31616       0.0       0.0       0.0       0.0       0.0  \n8535        0.0       0.0       0.0       0.0       0.0  \n20191       0.0       0.0       0.0       0.0       0.0  \n15436       0.0       0.0       0.0       0.0       0.0  \n38526       0.0       0.0       0.0       0.0       0.0  \n17657       0.0       0.0       0.0       0.0       0.0  \n28488       0.0       0.0       0.0       0.0       0.0  \n9772        0.0       0.0       0.0       0.0       0.0  \n18491       0.0       0.0       0.0       0.0       0.0  \n19315       0.0       0.0       0.0       0.0       0.0  \n34717       0.0       0.0       0.0       0.0       0.0  \n26106       0.0       0.0       0.0       0.0       0.0  \n12911       0.0       0.0       0.0       0.0       0.0  \n32817       0.0       0.0       0.0       0.0       0.0  \n20957       0.0       0.0       0.0       0.0       0.0  \n19566       0.0       0.0       0.0       0.0       0.0  \n13020       0.0       0.0       0.0       0.0       0.0  \n6460        0.0       0.0       0.0       0.0       0.0  \n35391       0.0       0.0       0.0       0.0       0.0  \n22148       0.0       0.0       0.0       0.0       0.0  \n22056       0.0       0.0       0.0       0.0       0.0  \n17357       0.0       0.0       0.0       0.0       0.0  \n32137       0.0       0.0       0.0       0.0       0.0  \n20463       0.0       0.0       0.0       0.0       0.0  \n12363       0.0       0.0       0.0       0.0       0.0  \n5695        0.0       0.0       0.0       0.0       0.0  \n8006        0.0       0.0       0.0       0.0       0.0  \n17745       0.0       0.0       0.0       0.0       0.0  \n17931       0.0       0.0       0.0       0.0       0.0  \n\n[33600 rows x 784 columns]"
     ]
    }
   ],
   "source": [
    "model.fit(mnist_x_train, mnist_y_train, epochs= 5, validation_split= 0.2)"
   ]
  },
  {
   "cell_type": "markdown",
   "metadata": {},
   "source": [
    "# PREDICTION AND CONFUSION MATRIX"
   ]
  },
  {
   "cell_type": "code",
   "execution_count": 90,
   "metadata": {},
   "outputs": [],
   "source": [
    "from sklearn.metrics import confusion_matrix, classification_report"
   ]
  },
  {
   "cell_type": "code",
   "execution_count": 91,
   "metadata": {},
   "outputs": [
    {
     "ename": "ValueError",
     "evalue": "Please provide as model inputs either a single array or a list of arrays. You passed: x=       pixel0  pixel1  pixel2  pixel3  pixel4  pixel5  pixel6  pixel7  pixel8  \\\n20209     0.0     0.0     0.0     0.0     0.0     0.0     0.0     0.0     0.0   \n7136      0.0     0.0     0.0     0.0     0.0     0.0     0.0     0.0     0.0   \n17339     0.0     0.0     0.0     0.0     0.0     0.0     0.0     0.0     0.0   \n37117     0.0     0.0     0.0     0.0     0.0     0.0     0.0     0.0     0.0   \n22572     0.0     0.0     0.0     0.0     0.0     0.0     0.0     0.0     0.0   \n3652      0.0     0.0     0.0     0.0     0.0     0.0     0.0     0.0     0.0   \n31974     0.0     0.0     0.0     0.0     0.0     0.0     0.0     0.0     0.0   \n39025     0.0     0.0     0.0     0.0     0.0     0.0     0.0     0.0     0.0   \n14668     0.0     0.0     0.0     0.0     0.0     0.0     0.0     0.0     0.0   \n14004     0.0     0.0     0.0     0.0     0.0     0.0     0.0     0.0     0.0   \n8047      0.0     0.0     0.0     0.0     0.0     0.0     0.0     0.0     0.0   \n31416     0.0     0.0     0.0     0.0     0.0     0.0     0.0     0.0     0.0   \n11758     0.0     0.0     0.0     0.0     0.0     0.0     0.0     0.0     0.0   \n23220     0.0     0.0     0.0     0.0     0.0     0.0     0.0     0.0     0.0   \n6626      0.0     0.0     0.0     0.0     0.0     0.0     0.0     0.0     0.0   \n14722     0.0     0.0     0.0     0.0     0.0     0.0     0.0     0.0     0.0   \n20508     0.0     0.0     0.0     0.0     0.0     0.0     0.0     0.0     0.0   \n32244     0.0     0.0     0.0     0.0     0.0     0.0     0.0     0.0     0.0   \n41659     0.0     0.0     0.0     0.0     0.0     0.0     0.0     0.0     0.0   \n26144     0.0     0.0     0.0     0.0     0.0     0.0     0.0     0.0     0.0   \n23927     0.0     0.0     0.0     0.0     0.0     0.0     0.0     0.0     0.0   \n8921      0.0     0.0     0.0     0.0     0.0     0.0     0.0     0.0     0.0   \n14206     0.0     0.0     0.0     0.0     0.0     0.0     0.0     0.0     0.0   \n30861     0.0     0.0     0.0     0.0     0.0     0.0     0.0     0.0     0.0   \n22687     0.0     0.0     0.0     0.0     0.0     0.0     0.0     0.0     0.0   \n23305     0.0     0.0     0.0     0.0     0.0     0.0     0.0     0.0     0.0   \n19550     0.0     0.0     0.0     0.0     0.0     0.0     0.0     0.0     0.0   \n708       0.0     0.0     0.0     0.0     0.0     0.0     0.0     0.0     0.0   \n8572      0.0     0.0     0.0     0.0     0.0     0.0     0.0     0.0     0.0   \n35303     0.0     0.0     0.0     0.0     0.0     0.0     0.0     0.0     0.0   \n...       ...     ...     ...     ...     ...     ...     ...     ...     ...   \n36469     0.0     0.0     0.0     0.0     0.0     0.0     0.0     0.0     0.0   \n29449     0.0     0.0     0.0     0.0     0.0     0.0     0.0     0.0     0.0   \n20665     0.0     0.0     0.0     0.0     0.0     0.0     0.0     0.0     0.0   \n41167     0.0     0.0     0.0     0.0     0.0     0.0     0.0     0.0     0.0   \n41519     0.0     0.0     0.0     0.0     0.0     0.0     0.0     0.0     0.0   \n12010     0.0     0.0     0.0     0.0     0.0     0.0     0.0     0.0     0.0   \n40688     0.0     0.0     0.0     0.0     0.0     0.0     0.0     0.0     0.0   \n23727     0.0     0.0     0.0     0.0     0.0     0.0     0.0     0.0     0.0   \n30650     0.0     0.0     0.0     0.0     0.0     0.0     0.0     0.0     0.0   \n27546     0.0     0.0     0.0     0.0     0.0     0.0     0.0     0.0     0.0   \n36823     0.0     0.0     0.0     0.0     0.0     0.0     0.0     0.0     0.0   \n1159      0.0     0.0     0.0     0.0     0.0     0.0     0.0     0.0     0.0   \n38423     0.0     0.0     0.0     0.0     0.0     0.0     0.0     0.0     0.0   \n11113     0.0     0.0     0.0     0.0     0.0     0.0     0.0     0.0     0.0   \n19904     0.0     0.0     0.0     0.0     0.0     0.0     0.0     0.0     0.0   \n5493      0.0     0.0     0.0     0.0     0.0     0.0     0.0     0.0     0.0   \n13168     0.0     0.0     0.0     0.0     0.0     0.0     0.0     0.0     0.0   \n16669     0.0     0.0     0.0     0.0     0.0     0.0     0.0     0.0     0.0   \n18738     0.0     0.0     0.0     0.0     0.0     0.0     0.0     0.0     0.0   \n32356     0.0     0.0     0.0     0.0     0.0     0.0     0.0     0.0     0.0   \n31602     0.0     0.0     0.0     0.0     0.0     0.0     0.0     0.0     0.0   \n30692     0.0     0.0     0.0     0.0     0.0     0.0     0.0     0.0     0.0   \n486       0.0     0.0     0.0     0.0     0.0     0.0     0.0     0.0     0.0   \n11093     0.0     0.0     0.0     0.0     0.0     0.0     0.0     0.0     0.0   \n2146      0.0     0.0     0.0     0.0     0.0     0.0     0.0     0.0     0.0   \n14404     0.0     0.0     0.0     0.0     0.0     0.0     0.0     0.0     0.0   \n32540     0.0     0.0     0.0     0.0     0.0     0.0     0.0     0.0     0.0   \n34638     0.0     0.0     0.0     0.0     0.0     0.0     0.0     0.0     0.0   \n17466     0.0     0.0     0.0     0.0     0.0     0.0     0.0     0.0     0.0   \n22274     0.0     0.0     0.0     0.0     0.0     0.0     0.0     0.0     0.0   \n\n       pixel9  ...  pixel774  pixel775  pixel776  pixel777  pixel778  \\\n20209     0.0  ...       0.0       0.0       0.0       0.0       0.0   \n7136      0.0  ...       0.0       0.0       0.0       0.0       0.0   \n17339     0.0  ...       0.0       0.0       0.0       0.0       0.0   \n37117     0.0  ...       0.0       0.0       0.0       0.0       0.0   \n22572     0.0  ...       0.0       0.0       0.0       0.0       0.0   \n3652      0.0  ...       0.0       0.0       0.0       0.0       0.0   \n31974     0.0  ...       0.0       0.0       0.0       0.0       0.0   \n39025     0.0  ...       0.0       0.0       0.0       0.0       0.0   \n14668     0.0  ...       0.0       0.0       0.0       0.0       0.0   \n14004     0.0  ...       0.0       0.0       0.0       0.0       0.0   \n8047      0.0  ...       0.0       0.0       0.0       0.0       0.0   \n31416     0.0  ...       0.0       0.0       0.0       0.0       0.0   \n11758     0.0  ...       0.0       0.0       0.0       0.0       0.0   \n23220     0.0  ...       0.0       0.0       0.0       0.0       0.0   \n6626      0.0  ...       0.0       0.0       0.0       0.0       0.0   \n14722     0.0  ...       0.0       0.0       0.0       0.0       0.0   \n20508     0.0  ...       0.0       0.0       0.0       0.0       0.0   \n32244     0.0  ...       0.0       0.0       0.0       0.0       0.0   \n41659     0.0  ...       0.0       0.0       0.0       0.0       0.0   \n26144     0.0  ...       0.0       0.0       0.0       0.0       0.0   \n23927     0.0  ...       0.0       0.0       0.0       0.0       0.0   \n8921      0.0  ...       0.0       0.0       0.0       0.0       0.0   \n14206     0.0  ...       0.0       0.0       0.0       0.0       0.0   \n30861     0.0  ...       0.0       0.0       0.0       0.0       0.0   \n22687     0.0  ...       0.0       0.0       0.0       0.0       0.0   \n23305     0.0  ...       0.0       0.0       0.0       0.0       0.0   \n19550     0.0  ...       0.0       0.0       0.0       0.0       0.0   \n708       0.0  ...       0.0       0.0       0.0       0.0       0.0   \n8572      0.0  ...       0.0       0.0       0.0       0.0       0.0   \n35303     0.0  ...       0.0       0.0       0.0       0.0       0.0   \n...       ...  ...       ...       ...       ...       ...       ...   \n36469     0.0  ...       0.0       0.0       0.0       0.0       0.0   \n29449     0.0  ...       0.0       0.0       0.0       0.0       0.0   \n20665     0.0  ...       0.0       0.0       0.0       0.0       0.0   \n41167     0.0  ...       0.0       0.0       0.0       0.0       0.0   \n41519     0.0  ...       0.0       0.0       0.0       0.0       0.0   \n12010     0.0  ...       0.0       0.0       0.0       0.0       0.0   \n40688     0.0  ...       0.0       0.0       0.0       0.0       0.0   \n23727     0.0  ...       0.0       0.0       0.0       0.0       0.0   \n30650     0.0  ...       0.0       0.0       0.0       0.0       0.0   \n27546     0.0  ...       0.0       0.0       0.0       0.0       0.0   \n36823     0.0  ...       0.0       0.0       0.0       0.0       0.0   \n1159      0.0  ...       0.0       0.0       0.0       0.0       0.0   \n38423     0.0  ...       0.0       0.0       0.0       0.0       0.0   \n11113     0.0  ...       0.0       0.0       0.0       0.0       0.0   \n19904     0.0  ...       0.0       0.0       0.0       0.0       0.0   \n5493      0.0  ...       0.0       0.0       0.0       0.0       0.0   \n13168     0.0  ...       0.0       0.0       0.0       0.0       0.0   \n16669     0.0  ...       0.0       0.0       0.0       0.0       0.0   \n18738     0.0  ...       0.0       0.0       0.0       0.0       0.0   \n32356     0.0  ...       0.0       0.0       0.0       0.0       0.0   \n31602     0.0  ...       0.0       0.0       0.0       0.0       0.0   \n30692     0.0  ...       0.0       0.0       0.0       0.0       0.0   \n486       0.0  ...       0.0       0.0       0.0       0.0       0.0   \n11093     0.0  ...       0.0       0.0       0.0       0.0       0.0   \n2146      0.0  ...       0.0       0.0       0.0       0.0       0.0   \n14404     0.0  ...       0.0       0.0       0.0       0.0       0.0   \n32540     0.0  ...       0.0       0.0       0.0       0.0       0.0   \n34638     0.0  ...       0.0       0.0       0.0       0.0       0.0   \n17466     0.0  ...       0.0       0.0       0.0       0.0       0.0   \n22274     0.0  ...       0.0       0.0       0.0       0.0       0.0   \n\n       pixel779  pixel780  pixel781  pixel782  pixel783  \n20209       0.0       0.0       0.0       0.0       0.0  \n7136        0.0       0.0       0.0       0.0       0.0  \n17339       0.0       0.0       0.0       0.0       0.0  \n37117       0.0       0.0       0.0       0.0       0.0  \n22572       0.0       0.0       0.0       0.0       0.0  \n3652        0.0       0.0       0.0       0.0       0.0  \n31974       0.0       0.0       0.0       0.0       0.0  \n39025       0.0       0.0       0.0       0.0       0.0  \n14668       0.0       0.0       0.0       0.0       0.0  \n14004       0.0       0.0       0.0       0.0       0.0  \n8047        0.0       0.0       0.0       0.0       0.0  \n31416       0.0       0.0       0.0       0.0       0.0  \n11758       0.0       0.0       0.0       0.0       0.0  \n23220       0.0       0.0       0.0       0.0       0.0  \n6626        0.0       0.0       0.0       0.0       0.0  \n14722       0.0       0.0       0.0       0.0       0.0  \n20508       0.0       0.0       0.0       0.0       0.0  \n32244       0.0       0.0       0.0       0.0       0.0  \n41659       0.0       0.0       0.0       0.0       0.0  \n26144       0.0       0.0       0.0       0.0       0.0  \n23927       0.0       0.0       0.0       0.0       0.0  \n8921        0.0       0.0       0.0       0.0       0.0  \n14206       0.0       0.0       0.0       0.0       0.0  \n30861       0.0       0.0       0.0       0.0       0.0  \n22687       0.0       0.0       0.0       0.0       0.0  \n23305       0.0       0.0       0.0       0.0       0.0  \n19550       0.0       0.0       0.0       0.0       0.0  \n708         0.0       0.0       0.0       0.0       0.0  \n8572        0.0       0.0       0.0       0.0       0.0  \n35303       0.0       0.0       0.0       0.0       0.0  \n...         ...       ...       ...       ...       ...  \n36469       0.0       0.0       0.0       0.0       0.0  \n29449       0.0       0.0       0.0       0.0       0.0  \n20665       0.0       0.0       0.0       0.0       0.0  \n41167       0.0       0.0       0.0       0.0       0.0  \n41519       0.0       0.0       0.0       0.0       0.0  \n12010       0.0       0.0       0.0       0.0       0.0  \n40688       0.0       0.0       0.0       0.0       0.0  \n23727       0.0       0.0       0.0       0.0       0.0  \n30650       0.0       0.0       0.0       0.0       0.0  \n27546       0.0       0.0       0.0       0.0       0.0  \n36823       0.0       0.0       0.0       0.0       0.0  \n1159        0.0       0.0       0.0       0.0       0.0  \n38423       0.0       0.0       0.0       0.0       0.0  \n11113       0.0       0.0       0.0       0.0       0.0  \n19904       0.0       0.0       0.0       0.0       0.0  \n5493        0.0       0.0       0.0       0.0       0.0  \n13168       0.0       0.0       0.0       0.0       0.0  \n16669       0.0       0.0       0.0       0.0       0.0  \n18738       0.0       0.0       0.0       0.0       0.0  \n32356       0.0       0.0       0.0       0.0       0.0  \n31602       0.0       0.0       0.0       0.0       0.0  \n30692       0.0       0.0       0.0       0.0       0.0  \n486         0.0       0.0       0.0       0.0       0.0  \n11093       0.0       0.0       0.0       0.0       0.0  \n2146        0.0       0.0       0.0       0.0       0.0  \n14404       0.0       0.0       0.0       0.0       0.0  \n32540       0.0       0.0       0.0       0.0       0.0  \n34638       0.0       0.0       0.0       0.0       0.0  \n17466       0.0       0.0       0.0       0.0       0.0  \n22274       0.0       0.0       0.0       0.0       0.0  \n\n[8400 rows x 784 columns]",
     "output_type": "error",
     "traceback": [
      "\u001b[1;31m---------------------------------------------------------------------------\u001b[0m",
      "\u001b[1;31mValueError\u001b[0m                                Traceback (most recent call last)",
      "\u001b[1;32m<ipython-input-91-69d0f93fa286>\u001b[0m in \u001b[0;36m<module>\u001b[1;34m\u001b[0m\n\u001b[1;32m----> 1\u001b[1;33m \u001b[0mpred1\u001b[0m \u001b[1;33m=\u001b[0m \u001b[0mmodel\u001b[0m\u001b[1;33m.\u001b[0m\u001b[0mpredict_classes\u001b[0m\u001b[1;33m(\u001b[0m\u001b[0mmnist_x_test\u001b[0m\u001b[1;33m)\u001b[0m\u001b[1;33m\u001b[0m\u001b[1;33m\u001b[0m\u001b[0m\n\u001b[0m",
      "\u001b[1;32m~\\Anaconda3\\lib\\site-packages\\tensorflow\\python\\keras\\engine\\sequential.py\u001b[0m in \u001b[0;36mpredict_classes\u001b[1;34m(self, x, batch_size, verbose)\u001b[0m\n\u001b[0;32m    316\u001b[0m         \u001b[0mA\u001b[0m \u001b[0mnumpy\u001b[0m \u001b[0marray\u001b[0m \u001b[0mof\u001b[0m \u001b[1;32mclass\u001b[0m \u001b[0mpredictions\u001b[0m\u001b[1;33m.\u001b[0m\u001b[1;33m\u001b[0m\u001b[1;33m\u001b[0m\u001b[0m\n\u001b[0;32m    317\u001b[0m     \"\"\"\n\u001b[1;32m--> 318\u001b[1;33m     \u001b[0mproba\u001b[0m \u001b[1;33m=\u001b[0m \u001b[0mself\u001b[0m\u001b[1;33m.\u001b[0m\u001b[0mpredict\u001b[0m\u001b[1;33m(\u001b[0m\u001b[0mx\u001b[0m\u001b[1;33m,\u001b[0m \u001b[0mbatch_size\u001b[0m\u001b[1;33m=\u001b[0m\u001b[0mbatch_size\u001b[0m\u001b[1;33m,\u001b[0m \u001b[0mverbose\u001b[0m\u001b[1;33m=\u001b[0m\u001b[0mverbose\u001b[0m\u001b[1;33m)\u001b[0m\u001b[1;33m\u001b[0m\u001b[1;33m\u001b[0m\u001b[0m\n\u001b[0m\u001b[0;32m    319\u001b[0m     \u001b[1;32mif\u001b[0m \u001b[0mproba\u001b[0m\u001b[1;33m.\u001b[0m\u001b[0mshape\u001b[0m\u001b[1;33m[\u001b[0m\u001b[1;33m-\u001b[0m\u001b[1;36m1\u001b[0m\u001b[1;33m]\u001b[0m \u001b[1;33m>\u001b[0m \u001b[1;36m1\u001b[0m\u001b[1;33m:\u001b[0m\u001b[1;33m\u001b[0m\u001b[1;33m\u001b[0m\u001b[0m\n\u001b[0;32m    320\u001b[0m       \u001b[1;32mreturn\u001b[0m \u001b[0mproba\u001b[0m\u001b[1;33m.\u001b[0m\u001b[0margmax\u001b[0m\u001b[1;33m(\u001b[0m\u001b[0maxis\u001b[0m\u001b[1;33m=\u001b[0m\u001b[1;33m-\u001b[0m\u001b[1;36m1\u001b[0m\u001b[1;33m)\u001b[0m\u001b[1;33m\u001b[0m\u001b[1;33m\u001b[0m\u001b[0m\n",
      "\u001b[1;32m~\\Anaconda3\\lib\\site-packages\\tensorflow\\python\\keras\\engine\\training.py\u001b[0m in \u001b[0;36mpredict\u001b[1;34m(self, x, batch_size, verbose, steps, callbacks, max_queue_size, workers, use_multiprocessing)\u001b[0m\n\u001b[0;32m   1058\u001b[0m     \u001b[1;31m# generate symbolic tensors).\u001b[0m\u001b[1;33m\u001b[0m\u001b[1;33m\u001b[0m\u001b[1;33m\u001b[0m\u001b[0m\n\u001b[0;32m   1059\u001b[0m     x, _, _ = self._standardize_user_data(\n\u001b[1;32m-> 1060\u001b[1;33m         x, check_steps=True, steps_name='steps', steps=steps)\n\u001b[0m\u001b[0;32m   1061\u001b[0m \u001b[1;33m\u001b[0m\u001b[0m\n\u001b[0;32m   1062\u001b[0m     \u001b[1;32mif\u001b[0m \u001b[0mself\u001b[0m\u001b[1;33m.\u001b[0m\u001b[0mrun_eagerly\u001b[0m\u001b[1;33m:\u001b[0m\u001b[1;33m\u001b[0m\u001b[1;33m\u001b[0m\u001b[0m\n",
      "\u001b[1;32m~\\Anaconda3\\lib\\site-packages\\tensorflow\\python\\keras\\engine\\training.py\u001b[0m in \u001b[0;36m_standardize_user_data\u001b[1;34m(self, x, y, sample_weight, class_weight, batch_size, check_steps, steps_name, steps, validation_split, shuffle, extract_tensors_from_dataset)\u001b[0m\n\u001b[0;32m   2543\u001b[0m             not tensor_util.is_tensor(x_input)):\n\u001b[0;32m   2544\u001b[0m           raise ValueError('Please provide as model inputs either a single '\n\u001b[1;32m-> 2545\u001b[1;33m                            'array or a list of arrays. You passed: x=' + str(x))\n\u001b[0m\u001b[0;32m   2546\u001b[0m         \u001b[0mall_inputs\u001b[0m\u001b[1;33m.\u001b[0m\u001b[0mappend\u001b[0m\u001b[1;33m(\u001b[0m\u001b[0mx_input\u001b[0m\u001b[1;33m)\u001b[0m\u001b[1;33m\u001b[0m\u001b[1;33m\u001b[0m\u001b[0m\n\u001b[0;32m   2547\u001b[0m \u001b[1;33m\u001b[0m\u001b[0m\n",
      "\u001b[1;31mValueError\u001b[0m: Please provide as model inputs either a single array or a list of arrays. You passed: x=       pixel0  pixel1  pixel2  pixel3  pixel4  pixel5  pixel6  pixel7  pixel8  \\\n20209     0.0     0.0     0.0     0.0     0.0     0.0     0.0     0.0     0.0   \n7136      0.0     0.0     0.0     0.0     0.0     0.0     0.0     0.0     0.0   \n17339     0.0     0.0     0.0     0.0     0.0     0.0     0.0     0.0     0.0   \n37117     0.0     0.0     0.0     0.0     0.0     0.0     0.0     0.0     0.0   \n22572     0.0     0.0     0.0     0.0     0.0     0.0     0.0     0.0     0.0   \n3652      0.0     0.0     0.0     0.0     0.0     0.0     0.0     0.0     0.0   \n31974     0.0     0.0     0.0     0.0     0.0     0.0     0.0     0.0     0.0   \n39025     0.0     0.0     0.0     0.0     0.0     0.0     0.0     0.0     0.0   \n14668     0.0     0.0     0.0     0.0     0.0     0.0     0.0     0.0     0.0   \n14004     0.0     0.0     0.0     0.0     0.0     0.0     0.0     0.0     0.0   \n8047      0.0     0.0     0.0     0.0     0.0     0.0     0.0     0.0     0.0   \n31416     0.0     0.0     0.0     0.0     0.0     0.0     0.0     0.0     0.0   \n11758     0.0     0.0     0.0     0.0     0.0     0.0     0.0     0.0     0.0   \n23220     0.0     0.0     0.0     0.0     0.0     0.0     0.0     0.0     0.0   \n6626      0.0     0.0     0.0     0.0     0.0     0.0     0.0     0.0     0.0   \n14722     0.0     0.0     0.0     0.0     0.0     0.0     0.0     0.0     0.0   \n20508     0.0     0.0     0.0     0.0     0.0     0.0     0.0     0.0     0.0   \n32244     0.0     0.0     0.0     0.0     0.0     0.0     0.0     0.0     0.0   \n41659     0.0     0.0     0.0     0.0     0.0     0.0     0.0     0.0     0.0   \n26144     0.0     0.0     0.0     0.0     0.0     0.0     0.0     0.0     0.0   \n23927     0.0     0.0     0.0     0.0     0.0     0.0     0.0     0.0     0.0   \n8921      0.0     0.0     0.0     0.0     0.0     0.0     0.0     0.0     0.0   \n14206     0.0     0.0     0.0     0.0     0.0     0.0     0.0     0.0     0.0   \n30861     0.0     0.0     0.0     0.0     0.0     0.0     0.0     0.0     0.0   \n22687     0.0     0.0     0.0     0.0     0.0     0.0     0.0     0.0     0.0   \n23305     0.0     0.0     0.0     0.0     0.0     0.0     0.0     0.0     0.0   \n19550     0.0     0.0     0.0     0.0     0.0     0.0     0.0     0.0     0.0   \n708       0.0     0.0     0.0     0.0     0.0     0.0     0.0     0.0     0.0   \n8572      0.0     0.0     0.0     0.0     0.0     0.0     0.0     0.0     0.0   \n35303     0.0     0.0     0.0     0.0     0.0     0.0     0.0     0.0     0.0   \n...       ...     ...     ...     ...     ...     ...     ...     ...     ...   \n36469     0.0     0.0     0.0     0.0     0.0     0.0     0.0     0.0     0.0   \n29449     0.0     0.0     0.0     0.0     0.0     0.0     0.0     0.0     0.0   \n20665     0.0     0.0     0.0     0.0     0.0     0.0     0.0     0.0     0.0   \n41167     0.0     0.0     0.0     0.0     0.0     0.0     0.0     0.0     0.0   \n41519     0.0     0.0     0.0     0.0     0.0     0.0     0.0     0.0     0.0   \n12010     0.0     0.0     0.0     0.0     0.0     0.0     0.0     0.0     0.0   \n40688     0.0     0.0     0.0     0.0     0.0     0.0     0.0     0.0     0.0   \n23727     0.0     0.0     0.0     0.0     0.0     0.0     0.0     0.0     0.0   \n30650     0.0     0.0     0.0     0.0     0.0     0.0     0.0     0.0     0.0   \n27546     0.0     0.0     0.0     0.0     0.0     0.0     0.0     0.0     0.0   \n36823     0.0     0.0     0.0     0.0     0.0     0.0     0.0     0.0     0.0   \n1159      0.0     0.0     0.0     0.0     0.0     0.0     0.0     0.0     0.0   \n38423     0.0     0.0     0.0     0.0     0.0     0.0     0.0     0.0     0.0   \n11113     0.0     0.0     0.0     0.0     0.0     0.0     0.0     0.0     0.0   \n19904     0.0     0.0     0.0     0.0     0.0     0.0     0.0     0.0     0.0   \n5493      0.0     0.0     0.0     0.0     0.0     0.0     0.0     0.0     0.0   \n13168     0.0     0.0     0.0     0.0     0.0     0.0     0.0     0.0     0.0   \n16669     0.0     0.0     0.0     0.0     0.0     0.0     0.0     0.0     0.0   \n18738     0.0     0.0     0.0     0.0     0.0     0.0     0.0     0.0     0.0   \n32356     0.0     0.0     0.0     0.0     0.0     0.0     0.0     0.0     0.0   \n31602     0.0     0.0     0.0     0.0     0.0     0.0     0.0     0.0     0.0   \n30692     0.0     0.0     0.0     0.0     0.0     0.0     0.0     0.0     0.0   \n486       0.0     0.0     0.0     0.0     0.0     0.0     0.0     0.0     0.0   \n11093     0.0     0.0     0.0     0.0     0.0     0.0     0.0     0.0     0.0   \n2146      0.0     0.0     0.0     0.0     0.0     0.0     0.0     0.0     0.0   \n14404     0.0     0.0     0.0     0.0     0.0     0.0     0.0     0.0     0.0   \n32540     0.0     0.0     0.0     0.0     0.0     0.0     0.0     0.0     0.0   \n34638     0.0     0.0     0.0     0.0     0.0     0.0     0.0     0.0     0.0   \n17466     0.0     0.0     0.0     0.0     0.0     0.0     0.0     0.0     0.0   \n22274     0.0     0.0     0.0     0.0     0.0     0.0     0.0     0.0     0.0   \n\n       pixel9  ...  pixel774  pixel775  pixel776  pixel777  pixel778  \\\n20209     0.0  ...       0.0       0.0       0.0       0.0       0.0   \n7136      0.0  ...       0.0       0.0       0.0       0.0       0.0   \n17339     0.0  ...       0.0       0.0       0.0       0.0       0.0   \n37117     0.0  ...       0.0       0.0       0.0       0.0       0.0   \n22572     0.0  ...       0.0       0.0       0.0       0.0       0.0   \n3652      0.0  ...       0.0       0.0       0.0       0.0       0.0   \n31974     0.0  ...       0.0       0.0       0.0       0.0       0.0   \n39025     0.0  ...       0.0       0.0       0.0       0.0       0.0   \n14668     0.0  ...       0.0       0.0       0.0       0.0       0.0   \n14004     0.0  ...       0.0       0.0       0.0       0.0       0.0   \n8047      0.0  ...       0.0       0.0       0.0       0.0       0.0   \n31416     0.0  ...       0.0       0.0       0.0       0.0       0.0   \n11758     0.0  ...       0.0       0.0       0.0       0.0       0.0   \n23220     0.0  ...       0.0       0.0       0.0       0.0       0.0   \n6626      0.0  ...       0.0       0.0       0.0       0.0       0.0   \n14722     0.0  ...       0.0       0.0       0.0       0.0       0.0   \n20508     0.0  ...       0.0       0.0       0.0       0.0       0.0   \n32244     0.0  ...       0.0       0.0       0.0       0.0       0.0   \n41659     0.0  ...       0.0       0.0       0.0       0.0       0.0   \n26144     0.0  ...       0.0       0.0       0.0       0.0       0.0   \n23927     0.0  ...       0.0       0.0       0.0       0.0       0.0   \n8921      0.0  ...       0.0       0.0       0.0       0.0       0.0   \n14206     0.0  ...       0.0       0.0       0.0       0.0       0.0   \n30861     0.0  ...       0.0       0.0       0.0       0.0       0.0   \n22687     0.0  ...       0.0       0.0       0.0       0.0       0.0   \n23305     0.0  ...       0.0       0.0       0.0       0.0       0.0   \n19550     0.0  ...       0.0       0.0       0.0       0.0       0.0   \n708       0.0  ...       0.0       0.0       0.0       0.0       0.0   \n8572      0.0  ...       0.0       0.0       0.0       0.0       0.0   \n35303     0.0  ...       0.0       0.0       0.0       0.0       0.0   \n...       ...  ...       ...       ...       ...       ...       ...   \n36469     0.0  ...       0.0       0.0       0.0       0.0       0.0   \n29449     0.0  ...       0.0       0.0       0.0       0.0       0.0   \n20665     0.0  ...       0.0       0.0       0.0       0.0       0.0   \n41167     0.0  ...       0.0       0.0       0.0       0.0       0.0   \n41519     0.0  ...       0.0       0.0       0.0       0.0       0.0   \n12010     0.0  ...       0.0       0.0       0.0       0.0       0.0   \n40688     0.0  ...       0.0       0.0       0.0       0.0       0.0   \n23727     0.0  ...       0.0       0.0       0.0       0.0       0.0   \n30650     0.0  ...       0.0       0.0       0.0       0.0       0.0   \n27546     0.0  ...       0.0       0.0       0.0       0.0       0.0   \n36823     0.0  ...       0.0       0.0       0.0       0.0       0.0   \n1159      0.0  ...       0.0       0.0       0.0       0.0       0.0   \n38423     0.0  ...       0.0       0.0       0.0       0.0       0.0   \n11113     0.0  ...       0.0       0.0       0.0       0.0       0.0   \n19904     0.0  ...       0.0       0.0       0.0       0.0       0.0   \n5493      0.0  ...       0.0       0.0       0.0       0.0       0.0   \n13168     0.0  ...       0.0       0.0       0.0       0.0       0.0   \n16669     0.0  ...       0.0       0.0       0.0       0.0       0.0   \n18738     0.0  ...       0.0       0.0       0.0       0.0       0.0   \n32356     0.0  ...       0.0       0.0       0.0       0.0       0.0   \n31602     0.0  ...       0.0       0.0       0.0       0.0       0.0   \n30692     0.0  ...       0.0       0.0       0.0       0.0       0.0   \n486       0.0  ...       0.0       0.0       0.0       0.0       0.0   \n11093     0.0  ...       0.0       0.0       0.0       0.0       0.0   \n2146      0.0  ...       0.0       0.0       0.0       0.0       0.0   \n14404     0.0  ...       0.0       0.0       0.0       0.0       0.0   \n32540     0.0  ...       0.0       0.0       0.0       0.0       0.0   \n34638     0.0  ...       0.0       0.0       0.0       0.0       0.0   \n17466     0.0  ...       0.0       0.0       0.0       0.0       0.0   \n22274     0.0  ...       0.0       0.0       0.0       0.0       0.0   \n\n       pixel779  pixel780  pixel781  pixel782  pixel783  \n20209       0.0       0.0       0.0       0.0       0.0  \n7136        0.0       0.0       0.0       0.0       0.0  \n17339       0.0       0.0       0.0       0.0       0.0  \n37117       0.0       0.0       0.0       0.0       0.0  \n22572       0.0       0.0       0.0       0.0       0.0  \n3652        0.0       0.0       0.0       0.0       0.0  \n31974       0.0       0.0       0.0       0.0       0.0  \n39025       0.0       0.0       0.0       0.0       0.0  \n14668       0.0       0.0       0.0       0.0       0.0  \n14004       0.0       0.0       0.0       0.0       0.0  \n8047        0.0       0.0       0.0       0.0       0.0  \n31416       0.0       0.0       0.0       0.0       0.0  \n11758       0.0       0.0       0.0       0.0       0.0  \n23220       0.0       0.0       0.0       0.0       0.0  \n6626        0.0       0.0       0.0       0.0       0.0  \n14722       0.0       0.0       0.0       0.0       0.0  \n20508       0.0       0.0       0.0       0.0       0.0  \n32244       0.0       0.0       0.0       0.0       0.0  \n41659       0.0       0.0       0.0       0.0       0.0  \n26144       0.0       0.0       0.0       0.0       0.0  \n23927       0.0       0.0       0.0       0.0       0.0  \n8921        0.0       0.0       0.0       0.0       0.0  \n14206       0.0       0.0       0.0       0.0       0.0  \n30861       0.0       0.0       0.0       0.0       0.0  \n22687       0.0       0.0       0.0       0.0       0.0  \n23305       0.0       0.0       0.0       0.0       0.0  \n19550       0.0       0.0       0.0       0.0       0.0  \n708         0.0       0.0       0.0       0.0       0.0  \n8572        0.0       0.0       0.0       0.0       0.0  \n35303       0.0       0.0       0.0       0.0       0.0  \n...         ...       ...       ...       ...       ...  \n36469       0.0       0.0       0.0       0.0       0.0  \n29449       0.0       0.0       0.0       0.0       0.0  \n20665       0.0       0.0       0.0       0.0       0.0  \n41167       0.0       0.0       0.0       0.0       0.0  \n41519       0.0       0.0       0.0       0.0       0.0  \n12010       0.0       0.0       0.0       0.0       0.0  \n40688       0.0       0.0       0.0       0.0       0.0  \n23727       0.0       0.0       0.0       0.0       0.0  \n30650       0.0       0.0       0.0       0.0       0.0  \n27546       0.0       0.0       0.0       0.0       0.0  \n36823       0.0       0.0       0.0       0.0       0.0  \n1159        0.0       0.0       0.0       0.0       0.0  \n38423       0.0       0.0       0.0       0.0       0.0  \n11113       0.0       0.0       0.0       0.0       0.0  \n19904       0.0       0.0       0.0       0.0       0.0  \n5493        0.0       0.0       0.0       0.0       0.0  \n13168       0.0       0.0       0.0       0.0       0.0  \n16669       0.0       0.0       0.0       0.0       0.0  \n18738       0.0       0.0       0.0       0.0       0.0  \n32356       0.0       0.0       0.0       0.0       0.0  \n31602       0.0       0.0       0.0       0.0       0.0  \n30692       0.0       0.0       0.0       0.0       0.0  \n486         0.0       0.0       0.0       0.0       0.0  \n11093       0.0       0.0       0.0       0.0       0.0  \n2146        0.0       0.0       0.0       0.0       0.0  \n14404       0.0       0.0       0.0       0.0       0.0  \n32540       0.0       0.0       0.0       0.0       0.0  \n34638       0.0       0.0       0.0       0.0       0.0  \n17466       0.0       0.0       0.0       0.0       0.0  \n22274       0.0       0.0       0.0       0.0       0.0  \n\n[8400 rows x 784 columns]"
     ]
    }
   ],
   "source": [
    "pred1 = model.predict_classes(mnist_x_test)\n"
   ]
  },
  {
   "cell_type": "code",
   "execution_count": 55,
   "metadata": {},
   "outputs": [
    {
     "ename": "NameError",
     "evalue": "name 'pred1' is not defined",
     "output_type": "error",
     "traceback": [
      "\u001b[1;31m---------------------------------------------------------------------------\u001b[0m",
      "\u001b[1;31mNameError\u001b[0m                                 Traceback (most recent call last)",
      "\u001b[1;32m<ipython-input-55-f196fac5cf8d>\u001b[0m in \u001b[0;36m<module>\u001b[1;34m\u001b[0m\n\u001b[1;32m----> 1\u001b[1;33m \u001b[0mtab1\u001b[0m \u001b[1;33m=\u001b[0m \u001b[0mconfusion_matrix\u001b[0m\u001b[1;33m(\u001b[0m\u001b[0mpred1\u001b[0m\u001b[1;33m,\u001b[0m \u001b[0mmnist_y_test\u001b[0m\u001b[1;33m)\u001b[0m\u001b[1;33m\u001b[0m\u001b[1;33m\u001b[0m\u001b[0m\n\u001b[0m\u001b[0;32m      2\u001b[0m \u001b[0mtab1\u001b[0m\u001b[1;33m\u001b[0m\u001b[1;33m\u001b[0m\u001b[0m\n\u001b[0;32m      3\u001b[0m \u001b[0mtab1\u001b[0m\u001b[1;33m.\u001b[0m\u001b[0mdiagonal\u001b[0m\u001b[1;33m(\u001b[0m\u001b[1;33m)\u001b[0m\u001b[1;33m.\u001b[0m\u001b[0msum\u001b[0m\u001b[1;33m(\u001b[0m\u001b[1;33m)\u001b[0m  \u001b[1;33m/\u001b[0m \u001b[0mtab\u001b[0m\u001b[1;33m.\u001b[0m\u001b[0msum\u001b[0m\u001b[1;33m(\u001b[0m\u001b[1;33m)\u001b[0m \u001b[1;33m*\u001b[0m\u001b[1;36m100\u001b[0m   \u001b[1;31m#### gives the accuracy\u001b[0m\u001b[1;33m\u001b[0m\u001b[1;33m\u001b[0m\u001b[0m\n",
      "\u001b[1;31mNameError\u001b[0m: name 'pred1' is not defined"
     ]
    }
   ],
   "source": [
    "tab1 = confusion_matrix(pred1, mnist_y_test)\n",
    "tab1\n",
    "tab1.diagonal().sum()  / tab.sum() *100   #### gives the accuracy"
   ]
  },
  {
   "cell_type": "code",
   "execution_count": null,
   "metadata": {},
   "outputs": [],
   "source": [
    "model.fit(mnist_x_train, mnist_y_train, epochs= 10, validation_split= 0.2, batch_size= 256)"
   ]
  },
  {
   "cell_type": "code",
   "execution_count": null,
   "metadata": {},
   "outputs": [],
   "source": [
    "pred1 = model.predict_classes(mnist_x_test)\n",
    "tab1 = confusion_matrix(pred1, mnist_y_test)\n",
    "tab1.diagonal().sum()  / tab.sum() *100   #### gives the accuracy"
   ]
  },
  {
   "cell_type": "code",
   "execution_count": null,
   "metadata": {},
   "outputs": [],
   "source": []
  },
  {
   "cell_type": "code",
   "execution_count": null,
   "metadata": {},
   "outputs": [],
   "source": []
  },
  {
   "cell_type": "code",
   "execution_count": null,
   "metadata": {},
   "outputs": [],
   "source": []
  },
  {
   "cell_type": "code",
   "execution_count": null,
   "metadata": {},
   "outputs": [],
   "source": []
  },
  {
   "cell_type": "code",
   "execution_count": null,
   "metadata": {},
   "outputs": [],
   "source": []
  },
  {
   "cell_type": "code",
   "execution_count": null,
   "metadata": {},
   "outputs": [],
   "source": []
  }
 ],
 "metadata": {
  "kernelspec": {
   "display_name": "Python 3",
   "language": "python",
   "name": "python3"
  },
  "language_info": {
   "codemirror_mode": {
    "name": "ipython",
    "version": 3
   },
   "file_extension": ".py",
   "mimetype": "text/x-python",
   "name": "python",
   "nbconvert_exporter": "python",
   "pygments_lexer": "ipython3",
   "version": "3.7.3"
  }
 },
 "nbformat": 4,
 "nbformat_minor": 2
}
