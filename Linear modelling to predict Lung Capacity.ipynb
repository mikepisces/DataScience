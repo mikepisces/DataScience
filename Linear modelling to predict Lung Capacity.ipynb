{
 "cells": [
  {
   "cell_type": "markdown",
   "metadata": {},
   "source": [
    "# Problem Statement:\n",
    "    "
   ]
  },
  {
   "cell_type": "markdown",
   "metadata": {},
   "source": [
    "To predict the lung Capacity of a Person given data using Linear regression"
   ]
  },
  {
   "cell_type": "markdown",
   "metadata": {},
   "source": [
    "# READ DATA"
   ]
  },
  {
   "cell_type": "code",
   "execution_count": 69,
   "metadata": {},
   "outputs": [],
   "source": [
    "import pandas as pd\n",
    "\n",
    "lc= pd.read_csv(r\"C:\\Users\\Khushi\\Desktop\\sep14\\LungCapData.csv\")"
   ]
  },
  {
   "cell_type": "code",
   "execution_count": 70,
   "metadata": {},
   "outputs": [
    {
     "data": {
      "text/html": [
       "<div>\n",
       "<style scoped>\n",
       "    .dataframe tbody tr th:only-of-type {\n",
       "        vertical-align: middle;\n",
       "    }\n",
       "\n",
       "    .dataframe tbody tr th {\n",
       "        vertical-align: top;\n",
       "    }\n",
       "\n",
       "    .dataframe thead th {\n",
       "        text-align: right;\n",
       "    }\n",
       "</style>\n",
       "<table border=\"1\" class=\"dataframe\">\n",
       "  <thead>\n",
       "    <tr style=\"text-align: right;\">\n",
       "      <th></th>\n",
       "      <th>LungCap</th>\n",
       "      <th>Age</th>\n",
       "      <th>Height</th>\n",
       "      <th>Smoke</th>\n",
       "      <th>Gender</th>\n",
       "      <th>Caesarean</th>\n",
       "    </tr>\n",
       "  </thead>\n",
       "  <tbody>\n",
       "    <tr>\n",
       "      <th>0</th>\n",
       "      <td>6.475</td>\n",
       "      <td>6</td>\n",
       "      <td>62.1</td>\n",
       "      <td>no</td>\n",
       "      <td>male</td>\n",
       "      <td>no</td>\n",
       "    </tr>\n",
       "    <tr>\n",
       "      <th>1</th>\n",
       "      <td>10.125</td>\n",
       "      <td>18</td>\n",
       "      <td>74.7</td>\n",
       "      <td>yes</td>\n",
       "      <td>female</td>\n",
       "      <td>no</td>\n",
       "    </tr>\n",
       "    <tr>\n",
       "      <th>2</th>\n",
       "      <td>9.550</td>\n",
       "      <td>16</td>\n",
       "      <td>69.7</td>\n",
       "      <td>no</td>\n",
       "      <td>female</td>\n",
       "      <td>yes</td>\n",
       "    </tr>\n",
       "    <tr>\n",
       "      <th>3</th>\n",
       "      <td>11.125</td>\n",
       "      <td>14</td>\n",
       "      <td>71.0</td>\n",
       "      <td>no</td>\n",
       "      <td>male</td>\n",
       "      <td>no</td>\n",
       "    </tr>\n",
       "    <tr>\n",
       "      <th>4</th>\n",
       "      <td>4.800</td>\n",
       "      <td>5</td>\n",
       "      <td>56.9</td>\n",
       "      <td>no</td>\n",
       "      <td>male</td>\n",
       "      <td>no</td>\n",
       "    </tr>\n",
       "  </tbody>\n",
       "</table>\n",
       "</div>"
      ],
      "text/plain": [
       "   LungCap  Age  Height Smoke  Gender Caesarean\n",
       "0    6.475    6    62.1    no    male        no\n",
       "1   10.125   18    74.7   yes  female        no\n",
       "2    9.550   16    69.7    no  female       yes\n",
       "3   11.125   14    71.0    no    male        no\n",
       "4    4.800    5    56.9    no    male        no"
      ]
     },
     "execution_count": 70,
     "metadata": {},
     "output_type": "execute_result"
    }
   ],
   "source": [
    "lc.head()"
   ]
  },
  {
   "cell_type": "markdown",
   "metadata": {},
   "source": [
    "# HOT ENCODING OF CATEGORICAL VARIABLES"
   ]
  },
  {
   "cell_type": "code",
   "execution_count": 71,
   "metadata": {},
   "outputs": [],
   "source": [
    "lc.Gender.replace({\"male\":1,\"female\":0},inplace = True)\n",
    "lc.Smoke.replace({\"yes\":1,\"no\":0},inplace = True)\n",
    "lc.Caesarean.replace({\"yes\":1,\"no\":0},inplace = True)"
   ]
  },
  {
   "cell_type": "code",
   "execution_count": 72,
   "metadata": {},
   "outputs": [
    {
     "data": {
      "text/html": [
       "<div>\n",
       "<style scoped>\n",
       "    .dataframe tbody tr th:only-of-type {\n",
       "        vertical-align: middle;\n",
       "    }\n",
       "\n",
       "    .dataframe tbody tr th {\n",
       "        vertical-align: top;\n",
       "    }\n",
       "\n",
       "    .dataframe thead th {\n",
       "        text-align: right;\n",
       "    }\n",
       "</style>\n",
       "<table border=\"1\" class=\"dataframe\">\n",
       "  <thead>\n",
       "    <tr style=\"text-align: right;\">\n",
       "      <th></th>\n",
       "      <th>LungCap</th>\n",
       "      <th>Age</th>\n",
       "      <th>Height</th>\n",
       "      <th>Smoke</th>\n",
       "      <th>Gender</th>\n",
       "      <th>Caesarean</th>\n",
       "    </tr>\n",
       "  </thead>\n",
       "  <tbody>\n",
       "    <tr>\n",
       "      <th>0</th>\n",
       "      <td>6.475</td>\n",
       "      <td>6</td>\n",
       "      <td>62.1</td>\n",
       "      <td>0</td>\n",
       "      <td>1</td>\n",
       "      <td>0</td>\n",
       "    </tr>\n",
       "    <tr>\n",
       "      <th>1</th>\n",
       "      <td>10.125</td>\n",
       "      <td>18</td>\n",
       "      <td>74.7</td>\n",
       "      <td>1</td>\n",
       "      <td>0</td>\n",
       "      <td>0</td>\n",
       "    </tr>\n",
       "    <tr>\n",
       "      <th>2</th>\n",
       "      <td>9.550</td>\n",
       "      <td>16</td>\n",
       "      <td>69.7</td>\n",
       "      <td>0</td>\n",
       "      <td>0</td>\n",
       "      <td>1</td>\n",
       "    </tr>\n",
       "    <tr>\n",
       "      <th>3</th>\n",
       "      <td>11.125</td>\n",
       "      <td>14</td>\n",
       "      <td>71.0</td>\n",
       "      <td>0</td>\n",
       "      <td>1</td>\n",
       "      <td>0</td>\n",
       "    </tr>\n",
       "    <tr>\n",
       "      <th>4</th>\n",
       "      <td>4.800</td>\n",
       "      <td>5</td>\n",
       "      <td>56.9</td>\n",
       "      <td>0</td>\n",
       "      <td>1</td>\n",
       "      <td>0</td>\n",
       "    </tr>\n",
       "  </tbody>\n",
       "</table>\n",
       "</div>"
      ],
      "text/plain": [
       "   LungCap  Age  Height  Smoke  Gender  Caesarean\n",
       "0    6.475    6    62.1      0       1          0\n",
       "1   10.125   18    74.7      1       0          0\n",
       "2    9.550   16    69.7      0       0          1\n",
       "3   11.125   14    71.0      0       1          0\n",
       "4    4.800    5    56.9      0       1          0"
      ]
     },
     "execution_count": 72,
     "metadata": {},
     "output_type": "execute_result"
    }
   ],
   "source": [
    "lc.head()"
   ]
  },
  {
   "cell_type": "code",
   "execution_count": 73,
   "metadata": {},
   "outputs": [
    {
     "data": {
      "text/plain": [
       "(725, 6)"
      ]
     },
     "execution_count": 73,
     "metadata": {},
     "output_type": "execute_result"
    }
   ],
   "source": [
    "lc.shape  ## 725 records"
   ]
  },
  {
   "cell_type": "code",
   "execution_count": 74,
   "metadata": {},
   "outputs": [
    {
     "data": {
      "text/plain": [
       "LungCap      0\n",
       "Age          0\n",
       "Height       0\n",
       "Smoke        0\n",
       "Gender       0\n",
       "Caesarean    0\n",
       "dtype: int64"
      ]
     },
     "execution_count": 74,
     "metadata": {},
     "output_type": "execute_result"
    }
   ],
   "source": [
    "lc.isnull().sum()"
   ]
  },
  {
   "cell_type": "code",
   "execution_count": 75,
   "metadata": {},
   "outputs": [],
   "source": [
    "lc_x = lc.iloc[ :,1:6]"
   ]
  },
  {
   "cell_type": "code",
   "execution_count": 76,
   "metadata": {},
   "outputs": [
    {
     "data": {
      "text/html": [
       "<div>\n",
       "<style scoped>\n",
       "    .dataframe tbody tr th:only-of-type {\n",
       "        vertical-align: middle;\n",
       "    }\n",
       "\n",
       "    .dataframe tbody tr th {\n",
       "        vertical-align: top;\n",
       "    }\n",
       "\n",
       "    .dataframe thead th {\n",
       "        text-align: right;\n",
       "    }\n",
       "</style>\n",
       "<table border=\"1\" class=\"dataframe\">\n",
       "  <thead>\n",
       "    <tr style=\"text-align: right;\">\n",
       "      <th></th>\n",
       "      <th>Age</th>\n",
       "      <th>Height</th>\n",
       "      <th>Smoke</th>\n",
       "      <th>Gender</th>\n",
       "      <th>Caesarean</th>\n",
       "    </tr>\n",
       "  </thead>\n",
       "  <tbody>\n",
       "    <tr>\n",
       "      <th>0</th>\n",
       "      <td>6</td>\n",
       "      <td>62.1</td>\n",
       "      <td>0</td>\n",
       "      <td>1</td>\n",
       "      <td>0</td>\n",
       "    </tr>\n",
       "    <tr>\n",
       "      <th>1</th>\n",
       "      <td>18</td>\n",
       "      <td>74.7</td>\n",
       "      <td>1</td>\n",
       "      <td>0</td>\n",
       "      <td>0</td>\n",
       "    </tr>\n",
       "    <tr>\n",
       "      <th>2</th>\n",
       "      <td>16</td>\n",
       "      <td>69.7</td>\n",
       "      <td>0</td>\n",
       "      <td>0</td>\n",
       "      <td>1</td>\n",
       "    </tr>\n",
       "    <tr>\n",
       "      <th>3</th>\n",
       "      <td>14</td>\n",
       "      <td>71.0</td>\n",
       "      <td>0</td>\n",
       "      <td>1</td>\n",
       "      <td>0</td>\n",
       "    </tr>\n",
       "    <tr>\n",
       "      <th>4</th>\n",
       "      <td>5</td>\n",
       "      <td>56.9</td>\n",
       "      <td>0</td>\n",
       "      <td>1</td>\n",
       "      <td>0</td>\n",
       "    </tr>\n",
       "  </tbody>\n",
       "</table>\n",
       "</div>"
      ],
      "text/plain": [
       "   Age  Height  Smoke  Gender  Caesarean\n",
       "0    6    62.1      0       1          0\n",
       "1   18    74.7      1       0          0\n",
       "2   16    69.7      0       0          1\n",
       "3   14    71.0      0       1          0\n",
       "4    5    56.9      0       1          0"
      ]
     },
     "execution_count": 76,
     "metadata": {},
     "output_type": "execute_result"
    }
   ],
   "source": [
    "lc_x.head()"
   ]
  },
  {
   "cell_type": "code",
   "execution_count": 77,
   "metadata": {},
   "outputs": [],
   "source": [
    "lc_y = lc.iloc[:,0]"
   ]
  },
  {
   "cell_type": "code",
   "execution_count": 78,
   "metadata": {},
   "outputs": [
    {
     "data": {
      "text/plain": [
       "0     6.475\n",
       "1    10.125\n",
       "Name: LungCap, dtype: float64"
      ]
     },
     "execution_count": 78,
     "metadata": {},
     "output_type": "execute_result"
    }
   ],
   "source": [
    "lc_y.head(2)"
   ]
  },
  {
   "cell_type": "markdown",
   "metadata": {},
   "source": [
    "# SAMPLING"
   ]
  },
  {
   "cell_type": "code",
   "execution_count": 79,
   "metadata": {},
   "outputs": [],
   "source": [
    "import sklearn\n",
    "\n",
    "from sklearn.model_selection import train_test_split"
   ]
  },
  {
   "cell_type": "code",
   "execution_count": 80,
   "metadata": {},
   "outputs": [],
   "source": [
    "lc_x_train, lc_x_test,lc_y_train, lc_y_test = train_test_split(lc_x, lc_y, test_size= 0.2 , random_state = 101)\n",
    "## seed in R is similar to random_state in Python"
   ]
  },
  {
   "cell_type": "markdown",
   "metadata": {},
   "source": [
    "# LINEAR MODELLING AND PREDICTION"
   ]
  },
  {
   "cell_type": "code",
   "execution_count": 81,
   "metadata": {},
   "outputs": [],
   "source": [
    "\n",
    "from sklearn import linear_model"
   ]
  },
  {
   "cell_type": "code",
   "execution_count": 82,
   "metadata": {},
   "outputs": [],
   "source": [
    "reg = linear_model.LinearRegression()"
   ]
  },
  {
   "cell_type": "code",
   "execution_count": 83,
   "metadata": {},
   "outputs": [],
   "source": [
    "reg.fit(lc_x_train, lc_y_train)\n",
    "pred_val = reg.predict(lc_x_test)"
   ]
  },
  {
   "cell_type": "code",
   "execution_count": 84,
   "metadata": {},
   "outputs": [
    {
     "data": {
      "text/plain": [
       "array([ 7.54766894,  5.68204508,  6.32558014, 10.79158567,  3.47236857,\n",
       "        5.63130484,  7.27875094,  4.71141679,  8.91580848,  4.95831192,\n",
       "       11.72347409,  7.56462836,  5.91965819, 10.37350125,  4.21082044,\n",
       "        7.82945863,  5.41906185,  7.88227746,  4.6579582 ,  8.00433113,\n",
       "       11.06137499,  7.67539087,  8.5790287 ,  8.42968843,  8.20135733,\n",
       "        6.05850917,  9.8407287 ,  9.43496886,  8.03985459, 11.47657896,\n",
       "        7.90740517,  6.75959055, 10.03728811,  4.85683143, 10.93884735,\n",
       "        9.04513502,  3.28821404,  8.88635062,  4.40425698,  7.48579965,\n",
       "        5.69404545,  8.71988882,  7.64073873,  8.61160225,  7.08915972,\n",
       "        5.98920489,  6.82617649,  8.01569174,  8.52597463,  6.22001192,\n",
       "        4.28668839,  8.39503629,  6.52173503,  5.43474542,  9.92900154,\n",
       "       10.49515758, 13.22031126,  4.10005794,  1.03436096,  3.05035852,\n",
       "       10.78230365, 11.30307584, 10.46074067,  4.86363752,  6.48708289,\n",
       "        7.91052805, 11.23896584,  2.01698961,  4.45499722,  9.76230451,\n",
       "        9.77678081, 10.73812708,  9.97045976,  7.11869788, 10.02528774,\n",
       "        9.20416183,  7.3006117 ,  8.28139332,  8.57135848,  3.92367436,\n",
       "        5.85963593,  9.36838293,  9.55253745,  3.84883265, 11.05577618,\n",
       "        7.26675057,  4.88628929,  7.09844174,  7.70484872,  7.99839636,\n",
       "       10.93452438,  7.90100361,  4.40425698, 10.55125421, 10.21400765,\n",
       "        4.81017893,  8.72212952,  8.28572348,  8.02104814, 11.61391886,\n",
       "        3.30798536,  7.29483904, 12.06256769,  7.16798843,  7.97487328,\n",
       "        7.55101619,  5.02514027,  4.78192834,  7.37503714,  6.18783571,\n",
       "       10.3755104 ,  2.12775212,  9.50572283,  8.02785422, 11.15789643,\n",
       "        9.64721185, 10.5725366 ,  8.0024841 ,  9.45105696, 10.33220514,\n",
       "        5.81120951,  9.80215093,  1.94087925,  7.74469515, 11.08674511,\n",
       "        9.12333483, 10.98774056, 10.23240957, 10.14124453,  7.81561123,\n",
       "        3.08525307,  4.97151956, 10.15646132,  6.95302709,  9.83432714,\n",
       "        8.1452607 ,  8.30283782, 10.48442587,  9.85969726,  8.24937923,\n",
       "       10.05234279,  9.58743201,  6.76351618,  5.51373625,  8.5165305 ])"
      ]
     },
     "execution_count": 84,
     "metadata": {},
     "output_type": "execute_result"
    }
   ],
   "source": [
    "pred_val"
   ]
  },
  {
   "cell_type": "code",
   "execution_count": 85,
   "metadata": {},
   "outputs": [
    {
     "data": {
      "text/plain": [
       "-11.018922745502765"
      ]
     },
     "execution_count": 85,
     "metadata": {},
     "output_type": "execute_result"
    }
   ],
   "source": [
    "reg.coef_   ### b1,b2,b3,b4,b5\n",
    "reg.intercept_  ## B0\n",
    "## y= b0+ b1x1 +b2x2 + b3x3 +b4x4 +b5x5 + epsilon"
   ]
  },
  {
   "cell_type": "code",
   "execution_count": 86,
   "metadata": {},
   "outputs": [
    {
     "data": {
      "text/plain": [
       "0.8676116408504295"
      ]
     },
     "execution_count": 86,
     "metadata": {},
     "output_type": "execute_result"
    }
   ],
   "source": [
    "reg.score(lc_x_train, lc_y_train)  ### R-square"
   ]
  },
  {
   "cell_type": "code",
   "execution_count": 87,
   "metadata": {},
   "outputs": [
    {
     "data": {
      "text/plain": [
       "(580, 5)"
      ]
     },
     "execution_count": 87,
     "metadata": {},
     "output_type": "execute_result"
    }
   ],
   "source": [
    "lc_x_train.shape"
   ]
  },
  {
   "cell_type": "code",
   "execution_count": 88,
   "metadata": {},
   "outputs": [
    {
     "data": {
      "text/plain": [
       "(145,)"
      ]
     },
     "execution_count": 88,
     "metadata": {},
     "output_type": "execute_result"
    }
   ],
   "source": [
    "lc_y_test.shape"
   ]
  },
  {
   "cell_type": "code",
   "execution_count": 89,
   "metadata": {},
   "outputs": [
    {
     "data": {
      "text/plain": [
       "(145,)"
      ]
     },
     "execution_count": 89,
     "metadata": {},
     "output_type": "execute_result"
    }
   ],
   "source": [
    "pred_val.shape"
   ]
  },
  {
   "cell_type": "code",
   "execution_count": 90,
   "metadata": {},
   "outputs": [
    {
     "data": {
      "text/plain": [
       "0       7.547669\n",
       "1       5.682045\n",
       "2       6.325580\n",
       "3      10.791586\n",
       "4       3.472369\n",
       "5       5.631305\n",
       "6       7.278751\n",
       "7       4.711417\n",
       "8       8.915808\n",
       "9       4.958312\n",
       "10     11.723474\n",
       "11      7.564628\n",
       "12      5.919658\n",
       "13     10.373501\n",
       "14      4.210820\n",
       "15      7.829459\n",
       "16      5.419062\n",
       "17      7.882277\n",
       "18      4.657958\n",
       "19      8.004331\n",
       "20     11.061375\n",
       "21      7.675391\n",
       "22      8.579029\n",
       "23      8.429688\n",
       "24      8.201357\n",
       "25      6.058509\n",
       "26      9.840729\n",
       "27      9.434969\n",
       "28      8.039855\n",
       "29     11.476579\n",
       "         ...    \n",
       "115     9.647212\n",
       "116    10.572537\n",
       "117     8.002484\n",
       "118     9.451057\n",
       "119    10.332205\n",
       "120     5.811210\n",
       "121     9.802151\n",
       "122     1.940879\n",
       "123     7.744695\n",
       "124    11.086745\n",
       "125     9.123335\n",
       "126    10.987741\n",
       "127    10.232410\n",
       "128    10.141245\n",
       "129     7.815611\n",
       "130     3.085253\n",
       "131     4.971520\n",
       "132    10.156461\n",
       "133     6.953027\n",
       "134     9.834327\n",
       "135     8.145261\n",
       "136     8.302838\n",
       "137    10.484426\n",
       "138     9.859697\n",
       "139     8.249379\n",
       "140    10.052343\n",
       "141     9.587432\n",
       "142     6.763516\n",
       "143     5.513736\n",
       "144     8.516531\n",
       "Length: 145, dtype: float64"
      ]
     },
     "execution_count": 90,
     "metadata": {},
     "output_type": "execute_result"
    }
   ],
   "source": [
    "## Convert test data and predicted data in Series for concatenation\n",
    "X= []\n",
    "for i in lc_y_test:\n",
    "    X.append(i)\n",
    "X = pd.Series(X)\n",
    "    \n",
    "pred_val= pd.Series(pred_val)\n",
    "pred_val"
   ]
  },
  {
   "cell_type": "code",
   "execution_count": 99,
   "metadata": {
    "scrolled": true
   },
   "outputs": [
    {
     "data": {
      "text/html": [
       "<div>\n",
       "<style scoped>\n",
       "    .dataframe tbody tr th:only-of-type {\n",
       "        vertical-align: middle;\n",
       "    }\n",
       "\n",
       "    .dataframe tbody tr th {\n",
       "        vertical-align: top;\n",
       "    }\n",
       "\n",
       "    .dataframe thead th {\n",
       "        text-align: right;\n",
       "    }\n",
       "</style>\n",
       "<table border=\"1\" class=\"dataframe\">\n",
       "  <thead>\n",
       "    <tr style=\"text-align: right;\">\n",
       "      <th></th>\n",
       "      <th>Actual</th>\n",
       "      <th>Predicted</th>\n",
       "    </tr>\n",
       "  </thead>\n",
       "  <tbody>\n",
       "    <tr>\n",
       "      <th>0</th>\n",
       "      <td>7.950</td>\n",
       "      <td>7.547669</td>\n",
       "    </tr>\n",
       "    <tr>\n",
       "      <th>1</th>\n",
       "      <td>8.775</td>\n",
       "      <td>5.682045</td>\n",
       "    </tr>\n",
       "    <tr>\n",
       "      <th>2</th>\n",
       "      <td>7.350</td>\n",
       "      <td>6.325580</td>\n",
       "    </tr>\n",
       "    <tr>\n",
       "      <th>3</th>\n",
       "      <td>11.675</td>\n",
       "      <td>10.791586</td>\n",
       "    </tr>\n",
       "    <tr>\n",
       "      <th>4</th>\n",
       "      <td>3.700</td>\n",
       "      <td>3.472369</td>\n",
       "    </tr>\n",
       "    <tr>\n",
       "      <th>5</th>\n",
       "      <td>5.875</td>\n",
       "      <td>5.631305</td>\n",
       "    </tr>\n",
       "    <tr>\n",
       "      <th>6</th>\n",
       "      <td>5.500</td>\n",
       "      <td>7.278751</td>\n",
       "    </tr>\n",
       "    <tr>\n",
       "      <th>7</th>\n",
       "      <td>4.200</td>\n",
       "      <td>4.711417</td>\n",
       "    </tr>\n",
       "    <tr>\n",
       "      <th>8</th>\n",
       "      <td>8.025</td>\n",
       "      <td>8.915808</td>\n",
       "    </tr>\n",
       "    <tr>\n",
       "      <th>9</th>\n",
       "      <td>4.450</td>\n",
       "      <td>4.958312</td>\n",
       "    </tr>\n",
       "    <tr>\n",
       "      <th>10</th>\n",
       "      <td>14.550</td>\n",
       "      <td>11.723474</td>\n",
       "    </tr>\n",
       "    <tr>\n",
       "      <th>11</th>\n",
       "      <td>7.825</td>\n",
       "      <td>7.564628</td>\n",
       "    </tr>\n",
       "    <tr>\n",
       "      <th>12</th>\n",
       "      <td>6.000</td>\n",
       "      <td>5.919658</td>\n",
       "    </tr>\n",
       "    <tr>\n",
       "      <th>13</th>\n",
       "      <td>8.975</td>\n",
       "      <td>10.373501</td>\n",
       "    </tr>\n",
       "    <tr>\n",
       "      <th>14</th>\n",
       "      <td>3.400</td>\n",
       "      <td>4.210820</td>\n",
       "    </tr>\n",
       "    <tr>\n",
       "      <th>15</th>\n",
       "      <td>7.925</td>\n",
       "      <td>7.829459</td>\n",
       "    </tr>\n",
       "    <tr>\n",
       "      <th>16</th>\n",
       "      <td>5.875</td>\n",
       "      <td>5.419062</td>\n",
       "    </tr>\n",
       "    <tr>\n",
       "      <th>17</th>\n",
       "      <td>8.025</td>\n",
       "      <td>7.882277</td>\n",
       "    </tr>\n",
       "    <tr>\n",
       "      <th>18</th>\n",
       "      <td>6.175</td>\n",
       "      <td>4.657958</td>\n",
       "    </tr>\n",
       "    <tr>\n",
       "      <th>19</th>\n",
       "      <td>8.625</td>\n",
       "      <td>8.004331</td>\n",
       "    </tr>\n",
       "    <tr>\n",
       "      <th>20</th>\n",
       "      <td>10.100</td>\n",
       "      <td>11.061375</td>\n",
       "    </tr>\n",
       "    <tr>\n",
       "      <th>21</th>\n",
       "      <td>7.250</td>\n",
       "      <td>7.675391</td>\n",
       "    </tr>\n",
       "    <tr>\n",
       "      <th>22</th>\n",
       "      <td>9.050</td>\n",
       "      <td>8.579029</td>\n",
       "    </tr>\n",
       "    <tr>\n",
       "      <th>23</th>\n",
       "      <td>8.200</td>\n",
       "      <td>8.429688</td>\n",
       "    </tr>\n",
       "    <tr>\n",
       "      <th>24</th>\n",
       "      <td>7.725</td>\n",
       "      <td>8.201357</td>\n",
       "    </tr>\n",
       "    <tr>\n",
       "      <th>25</th>\n",
       "      <td>6.500</td>\n",
       "      <td>6.058509</td>\n",
       "    </tr>\n",
       "    <tr>\n",
       "      <th>26</th>\n",
       "      <td>7.175</td>\n",
       "      <td>9.840729</td>\n",
       "    </tr>\n",
       "    <tr>\n",
       "      <th>27</th>\n",
       "      <td>8.600</td>\n",
       "      <td>9.434969</td>\n",
       "    </tr>\n",
       "    <tr>\n",
       "      <th>28</th>\n",
       "      <td>8.625</td>\n",
       "      <td>8.039855</td>\n",
       "    </tr>\n",
       "    <tr>\n",
       "      <th>29</th>\n",
       "      <td>9.925</td>\n",
       "      <td>11.476579</td>\n",
       "    </tr>\n",
       "    <tr>\n",
       "      <th>...</th>\n",
       "      <td>...</td>\n",
       "      <td>...</td>\n",
       "    </tr>\n",
       "    <tr>\n",
       "      <th>115</th>\n",
       "      <td>8.500</td>\n",
       "      <td>9.647212</td>\n",
       "    </tr>\n",
       "    <tr>\n",
       "      <th>116</th>\n",
       "      <td>12.375</td>\n",
       "      <td>10.572537</td>\n",
       "    </tr>\n",
       "    <tr>\n",
       "      <th>117</th>\n",
       "      <td>7.800</td>\n",
       "      <td>8.002484</td>\n",
       "    </tr>\n",
       "    <tr>\n",
       "      <th>118</th>\n",
       "      <td>7.850</td>\n",
       "      <td>9.451057</td>\n",
       "    </tr>\n",
       "    <tr>\n",
       "      <th>119</th>\n",
       "      <td>9.900</td>\n",
       "      <td>10.332205</td>\n",
       "    </tr>\n",
       "    <tr>\n",
       "      <th>120</th>\n",
       "      <td>3.650</td>\n",
       "      <td>5.811210</td>\n",
       "    </tr>\n",
       "    <tr>\n",
       "      <th>121</th>\n",
       "      <td>11.075</td>\n",
       "      <td>9.802151</td>\n",
       "    </tr>\n",
       "    <tr>\n",
       "      <th>122</th>\n",
       "      <td>3.100</td>\n",
       "      <td>1.940879</td>\n",
       "    </tr>\n",
       "    <tr>\n",
       "      <th>123</th>\n",
       "      <td>8.500</td>\n",
       "      <td>7.744695</td>\n",
       "    </tr>\n",
       "    <tr>\n",
       "      <th>124</th>\n",
       "      <td>11.400</td>\n",
       "      <td>11.086745</td>\n",
       "    </tr>\n",
       "    <tr>\n",
       "      <th>125</th>\n",
       "      <td>10.275</td>\n",
       "      <td>9.123335</td>\n",
       "    </tr>\n",
       "    <tr>\n",
       "      <th>126</th>\n",
       "      <td>10.025</td>\n",
       "      <td>10.987741</td>\n",
       "    </tr>\n",
       "    <tr>\n",
       "      <th>127</th>\n",
       "      <td>9.050</td>\n",
       "      <td>10.232410</td>\n",
       "    </tr>\n",
       "    <tr>\n",
       "      <th>128</th>\n",
       "      <td>12.125</td>\n",
       "      <td>10.141245</td>\n",
       "    </tr>\n",
       "    <tr>\n",
       "      <th>129</th>\n",
       "      <td>8.500</td>\n",
       "      <td>7.815611</td>\n",
       "    </tr>\n",
       "    <tr>\n",
       "      <th>130</th>\n",
       "      <td>1.675</td>\n",
       "      <td>3.085253</td>\n",
       "    </tr>\n",
       "    <tr>\n",
       "      <th>131</th>\n",
       "      <td>5.250</td>\n",
       "      <td>4.971520</td>\n",
       "    </tr>\n",
       "    <tr>\n",
       "      <th>132</th>\n",
       "      <td>11.050</td>\n",
       "      <td>10.156461</td>\n",
       "    </tr>\n",
       "    <tr>\n",
       "      <th>133</th>\n",
       "      <td>4.425</td>\n",
       "      <td>6.953027</td>\n",
       "    </tr>\n",
       "    <tr>\n",
       "      <th>134</th>\n",
       "      <td>10.750</td>\n",
       "      <td>9.834327</td>\n",
       "    </tr>\n",
       "    <tr>\n",
       "      <th>135</th>\n",
       "      <td>8.900</td>\n",
       "      <td>8.145261</td>\n",
       "    </tr>\n",
       "    <tr>\n",
       "      <th>136</th>\n",
       "      <td>8.450</td>\n",
       "      <td>8.302838</td>\n",
       "    </tr>\n",
       "    <tr>\n",
       "      <th>137</th>\n",
       "      <td>10.600</td>\n",
       "      <td>10.484426</td>\n",
       "    </tr>\n",
       "    <tr>\n",
       "      <th>138</th>\n",
       "      <td>11.350</td>\n",
       "      <td>9.859697</td>\n",
       "    </tr>\n",
       "    <tr>\n",
       "      <th>139</th>\n",
       "      <td>8.900</td>\n",
       "      <td>8.249379</td>\n",
       "    </tr>\n",
       "    <tr>\n",
       "      <th>140</th>\n",
       "      <td>11.025</td>\n",
       "      <td>10.052343</td>\n",
       "    </tr>\n",
       "    <tr>\n",
       "      <th>141</th>\n",
       "      <td>9.675</td>\n",
       "      <td>9.587432</td>\n",
       "    </tr>\n",
       "    <tr>\n",
       "      <th>142</th>\n",
       "      <td>4.950</td>\n",
       "      <td>6.763516</td>\n",
       "    </tr>\n",
       "    <tr>\n",
       "      <th>143</th>\n",
       "      <td>4.325</td>\n",
       "      <td>5.513736</td>\n",
       "    </tr>\n",
       "    <tr>\n",
       "      <th>144</th>\n",
       "      <td>8.725</td>\n",
       "      <td>8.516531</td>\n",
       "    </tr>\n",
       "  </tbody>\n",
       "</table>\n",
       "<p>145 rows × 2 columns</p>\n",
       "</div>"
      ],
      "text/plain": [
       "     Actual  Predicted\n",
       "0     7.950   7.547669\n",
       "1     8.775   5.682045\n",
       "2     7.350   6.325580\n",
       "3    11.675  10.791586\n",
       "4     3.700   3.472369\n",
       "5     5.875   5.631305\n",
       "6     5.500   7.278751\n",
       "7     4.200   4.711417\n",
       "8     8.025   8.915808\n",
       "9     4.450   4.958312\n",
       "10   14.550  11.723474\n",
       "11    7.825   7.564628\n",
       "12    6.000   5.919658\n",
       "13    8.975  10.373501\n",
       "14    3.400   4.210820\n",
       "15    7.925   7.829459\n",
       "16    5.875   5.419062\n",
       "17    8.025   7.882277\n",
       "18    6.175   4.657958\n",
       "19    8.625   8.004331\n",
       "20   10.100  11.061375\n",
       "21    7.250   7.675391\n",
       "22    9.050   8.579029\n",
       "23    8.200   8.429688\n",
       "24    7.725   8.201357\n",
       "25    6.500   6.058509\n",
       "26    7.175   9.840729\n",
       "27    8.600   9.434969\n",
       "28    8.625   8.039855\n",
       "29    9.925  11.476579\n",
       "..      ...        ...\n",
       "115   8.500   9.647212\n",
       "116  12.375  10.572537\n",
       "117   7.800   8.002484\n",
       "118   7.850   9.451057\n",
       "119   9.900  10.332205\n",
       "120   3.650   5.811210\n",
       "121  11.075   9.802151\n",
       "122   3.100   1.940879\n",
       "123   8.500   7.744695\n",
       "124  11.400  11.086745\n",
       "125  10.275   9.123335\n",
       "126  10.025  10.987741\n",
       "127   9.050  10.232410\n",
       "128  12.125  10.141245\n",
       "129   8.500   7.815611\n",
       "130   1.675   3.085253\n",
       "131   5.250   4.971520\n",
       "132  11.050  10.156461\n",
       "133   4.425   6.953027\n",
       "134  10.750   9.834327\n",
       "135   8.900   8.145261\n",
       "136   8.450   8.302838\n",
       "137  10.600  10.484426\n",
       "138  11.350   9.859697\n",
       "139   8.900   8.249379\n",
       "140  11.025  10.052343\n",
       "141   9.675   9.587432\n",
       "142   4.950   6.763516\n",
       "143   4.325   5.513736\n",
       "144   8.725   8.516531\n",
       "\n",
       "[145 rows x 2 columns]"
      ]
     },
     "execution_count": 99,
     "metadata": {},
     "output_type": "execute_result"
    }
   ],
   "source": [
    "## compare actual and predicted values\n",
    "final = pd.concat({\"Actual\" : X,\"Predicted\": pred_val}, axis=1,join='outer')\n",
    "final"
   ]
  },
  {
   "cell_type": "markdown",
   "metadata": {},
   "source": [
    "# PICKLE"
   ]
  },
  {
   "cell_type": "code",
   "execution_count": 92,
   "metadata": {},
   "outputs": [],
   "source": [
    "### SAVE the model\n",
    "import pickle\n",
    "\n",
    "with open('reg_cr', 'wb') as f:   ###write format\n",
    "    pickle.dump(reg, f)\n",
    "\n",
    "###LOAD the model\n",
    "\n",
    "with open('reg_cr', 'rb')as f:   ##read format\n",
    "    reg_cr1 = pickle.load(f)"
   ]
  },
  {
   "cell_type": "code",
   "execution_count": 93,
   "metadata": {},
   "outputs": [
    {
     "data": {
      "text/plain": [
       "array([ 7.54766894,  5.68204508,  6.32558014, 10.79158567,  3.47236857,\n",
       "        5.63130484,  7.27875094,  4.71141679,  8.91580848,  4.95831192,\n",
       "       11.72347409,  7.56462836,  5.91965819, 10.37350125,  4.21082044,\n",
       "        7.82945863,  5.41906185,  7.88227746,  4.6579582 ,  8.00433113,\n",
       "       11.06137499,  7.67539087,  8.5790287 ,  8.42968843,  8.20135733,\n",
       "        6.05850917,  9.8407287 ,  9.43496886,  8.03985459, 11.47657896,\n",
       "        7.90740517,  6.75959055, 10.03728811,  4.85683143, 10.93884735,\n",
       "        9.04513502,  3.28821404,  8.88635062,  4.40425698,  7.48579965,\n",
       "        5.69404545,  8.71988882,  7.64073873,  8.61160225,  7.08915972,\n",
       "        5.98920489,  6.82617649,  8.01569174,  8.52597463,  6.22001192,\n",
       "        4.28668839,  8.39503629,  6.52173503,  5.43474542,  9.92900154,\n",
       "       10.49515758, 13.22031126,  4.10005794,  1.03436096,  3.05035852,\n",
       "       10.78230365, 11.30307584, 10.46074067,  4.86363752,  6.48708289,\n",
       "        7.91052805, 11.23896584,  2.01698961,  4.45499722,  9.76230451,\n",
       "        9.77678081, 10.73812708,  9.97045976,  7.11869788, 10.02528774,\n",
       "        9.20416183,  7.3006117 ,  8.28139332,  8.57135848,  3.92367436,\n",
       "        5.85963593,  9.36838293,  9.55253745,  3.84883265, 11.05577618,\n",
       "        7.26675057,  4.88628929,  7.09844174,  7.70484872,  7.99839636,\n",
       "       10.93452438,  7.90100361,  4.40425698, 10.55125421, 10.21400765,\n",
       "        4.81017893,  8.72212952,  8.28572348,  8.02104814, 11.61391886,\n",
       "        3.30798536,  7.29483904, 12.06256769,  7.16798843,  7.97487328,\n",
       "        7.55101619,  5.02514027,  4.78192834,  7.37503714,  6.18783571,\n",
       "       10.3755104 ,  2.12775212,  9.50572283,  8.02785422, 11.15789643,\n",
       "        9.64721185, 10.5725366 ,  8.0024841 ,  9.45105696, 10.33220514,\n",
       "        5.81120951,  9.80215093,  1.94087925,  7.74469515, 11.08674511,\n",
       "        9.12333483, 10.98774056, 10.23240957, 10.14124453,  7.81561123,\n",
       "        3.08525307,  4.97151956, 10.15646132,  6.95302709,  9.83432714,\n",
       "        8.1452607 ,  8.30283782, 10.48442587,  9.85969726,  8.24937923,\n",
       "       10.05234279,  9.58743201,  6.76351618,  5.51373625,  8.5165305 ])"
      ]
     },
     "execution_count": 93,
     "metadata": {},
     "output_type": "execute_result"
    }
   ],
   "source": [
    "reg_cr1.predict(lc_x_test)"
   ]
  },
  {
   "cell_type": "code",
   "execution_count": 27,
   "metadata": {},
   "outputs": [
    {
     "data": {
      "text/plain": [
       "array([ 0.18687287,  0.25370122, -0.60703588,  0.37646409, -0.1482951 ])"
      ]
     },
     "execution_count": 27,
     "metadata": {},
     "output_type": "execute_result"
    }
   ],
   "source": [
    "reg.coef_    ###Previous model"
   ]
  },
  {
   "cell_type": "code",
   "execution_count": 26,
   "metadata": {},
   "outputs": [
    {
     "data": {
      "text/plain": [
       "array([ 0.18687287,  0.25370122, -0.60703588,  0.37646409, -0.1482951 ])"
      ]
     },
     "execution_count": 26,
     "metadata": {},
     "output_type": "execute_result"
    }
   ],
   "source": [
    "reg_cr1.coef_   ###New loaded model"
   ]
  },
  {
   "cell_type": "code",
   "execution_count": null,
   "metadata": {},
   "outputs": [],
   "source": []
  }
 ],
 "metadata": {
  "kernelspec": {
   "display_name": "Python 3",
   "language": "python",
   "name": "python3"
  },
  "language_info": {
   "codemirror_mode": {
    "name": "ipython",
    "version": 3
   },
   "file_extension": ".py",
   "mimetype": "text/x-python",
   "name": "python",
   "nbconvert_exporter": "python",
   "pygments_lexer": "ipython3",
   "version": "3.7.1"
  }
 },
 "nbformat": 4,
 "nbformat_minor": 2
}
