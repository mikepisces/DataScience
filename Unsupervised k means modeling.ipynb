{
 "cells": [
  {
   "cell_type": "code",
   "execution_count": 2,
   "metadata": {},
   "outputs": [],
   "source": [
    "import pandas as pd\n",
    "\n",
    "cr= pd.read_csv(r\"C:\\Users\\Khushi\\Desktop\\snsdata.csv\")"
   ]
  },
  {
   "cell_type": "code",
   "execution_count": 3,
   "metadata": {},
   "outputs": [
    {
     "data": {
      "text/html": [
       "<div>\n",
       "<style scoped>\n",
       "    .dataframe tbody tr th:only-of-type {\n",
       "        vertical-align: middle;\n",
       "    }\n",
       "\n",
       "    .dataframe tbody tr th {\n",
       "        vertical-align: top;\n",
       "    }\n",
       "\n",
       "    .dataframe thead th {\n",
       "        text-align: right;\n",
       "    }\n",
       "</style>\n",
       "<table border=\"1\" class=\"dataframe\">\n",
       "  <thead>\n",
       "    <tr style=\"text-align: right;\">\n",
       "      <th></th>\n",
       "      <th>gradyear</th>\n",
       "      <th>gender</th>\n",
       "      <th>age</th>\n",
       "      <th>friends</th>\n",
       "      <th>basketball</th>\n",
       "      <th>football</th>\n",
       "      <th>soccer</th>\n",
       "      <th>softball</th>\n",
       "      <th>volleyball</th>\n",
       "      <th>swimming</th>\n",
       "      <th>...</th>\n",
       "      <th>blonde</th>\n",
       "      <th>mall</th>\n",
       "      <th>shopping</th>\n",
       "      <th>clothes</th>\n",
       "      <th>hollister</th>\n",
       "      <th>abercrombie</th>\n",
       "      <th>die</th>\n",
       "      <th>death</th>\n",
       "      <th>drunk</th>\n",
       "      <th>drugs</th>\n",
       "    </tr>\n",
       "  </thead>\n",
       "  <tbody>\n",
       "    <tr>\n",
       "      <th>0</th>\n",
       "      <td>2006</td>\n",
       "      <td>M</td>\n",
       "      <td>18.982</td>\n",
       "      <td>7</td>\n",
       "      <td>0</td>\n",
       "      <td>0</td>\n",
       "      <td>0</td>\n",
       "      <td>0</td>\n",
       "      <td>0</td>\n",
       "      <td>0</td>\n",
       "      <td>...</td>\n",
       "      <td>0</td>\n",
       "      <td>0</td>\n",
       "      <td>0</td>\n",
       "      <td>0</td>\n",
       "      <td>0</td>\n",
       "      <td>0</td>\n",
       "      <td>0</td>\n",
       "      <td>0</td>\n",
       "      <td>0</td>\n",
       "      <td>0</td>\n",
       "    </tr>\n",
       "    <tr>\n",
       "      <th>1</th>\n",
       "      <td>2006</td>\n",
       "      <td>F</td>\n",
       "      <td>18.801</td>\n",
       "      <td>0</td>\n",
       "      <td>0</td>\n",
       "      <td>1</td>\n",
       "      <td>0</td>\n",
       "      <td>0</td>\n",
       "      <td>0</td>\n",
       "      <td>0</td>\n",
       "      <td>...</td>\n",
       "      <td>0</td>\n",
       "      <td>1</td>\n",
       "      <td>0</td>\n",
       "      <td>0</td>\n",
       "      <td>0</td>\n",
       "      <td>0</td>\n",
       "      <td>0</td>\n",
       "      <td>0</td>\n",
       "      <td>0</td>\n",
       "      <td>0</td>\n",
       "    </tr>\n",
       "    <tr>\n",
       "      <th>2</th>\n",
       "      <td>2006</td>\n",
       "      <td>M</td>\n",
       "      <td>18.335</td>\n",
       "      <td>69</td>\n",
       "      <td>0</td>\n",
       "      <td>1</td>\n",
       "      <td>0</td>\n",
       "      <td>0</td>\n",
       "      <td>0</td>\n",
       "      <td>0</td>\n",
       "      <td>...</td>\n",
       "      <td>0</td>\n",
       "      <td>0</td>\n",
       "      <td>0</td>\n",
       "      <td>0</td>\n",
       "      <td>0</td>\n",
       "      <td>0</td>\n",
       "      <td>0</td>\n",
       "      <td>1</td>\n",
       "      <td>0</td>\n",
       "      <td>0</td>\n",
       "    </tr>\n",
       "    <tr>\n",
       "      <th>3</th>\n",
       "      <td>2006</td>\n",
       "      <td>F</td>\n",
       "      <td>18.875</td>\n",
       "      <td>0</td>\n",
       "      <td>0</td>\n",
       "      <td>0</td>\n",
       "      <td>0</td>\n",
       "      <td>0</td>\n",
       "      <td>0</td>\n",
       "      <td>0</td>\n",
       "      <td>...</td>\n",
       "      <td>0</td>\n",
       "      <td>0</td>\n",
       "      <td>0</td>\n",
       "      <td>0</td>\n",
       "      <td>0</td>\n",
       "      <td>0</td>\n",
       "      <td>0</td>\n",
       "      <td>0</td>\n",
       "      <td>0</td>\n",
       "      <td>0</td>\n",
       "    </tr>\n",
       "    <tr>\n",
       "      <th>4</th>\n",
       "      <td>2006</td>\n",
       "      <td>NaN</td>\n",
       "      <td>18.995</td>\n",
       "      <td>10</td>\n",
       "      <td>0</td>\n",
       "      <td>0</td>\n",
       "      <td>0</td>\n",
       "      <td>0</td>\n",
       "      <td>0</td>\n",
       "      <td>0</td>\n",
       "      <td>...</td>\n",
       "      <td>0</td>\n",
       "      <td>0</td>\n",
       "      <td>2</td>\n",
       "      <td>0</td>\n",
       "      <td>0</td>\n",
       "      <td>0</td>\n",
       "      <td>0</td>\n",
       "      <td>0</td>\n",
       "      <td>1</td>\n",
       "      <td>1</td>\n",
       "    </tr>\n",
       "  </tbody>\n",
       "</table>\n",
       "<p>5 rows × 40 columns</p>\n",
       "</div>"
      ],
      "text/plain": [
       "   gradyear gender     age  friends  basketball  football  soccer  softball  \\\n",
       "0      2006      M  18.982        7           0         0       0         0   \n",
       "1      2006      F  18.801        0           0         1       0         0   \n",
       "2      2006      M  18.335       69           0         1       0         0   \n",
       "3      2006      F  18.875        0           0         0       0         0   \n",
       "4      2006    NaN  18.995       10           0         0       0         0   \n",
       "\n",
       "   volleyball  swimming  ...  blonde  mall  shopping  clothes  hollister  \\\n",
       "0           0         0  ...       0     0         0        0          0   \n",
       "1           0         0  ...       0     1         0        0          0   \n",
       "2           0         0  ...       0     0         0        0          0   \n",
       "3           0         0  ...       0     0         0        0          0   \n",
       "4           0         0  ...       0     0         2        0          0   \n",
       "\n",
       "   abercrombie  die  death  drunk  drugs  \n",
       "0            0    0      0      0      0  \n",
       "1            0    0      0      0      0  \n",
       "2            0    0      1      0      0  \n",
       "3            0    0      0      0      0  \n",
       "4            0    0      0      1      1  \n",
       "\n",
       "[5 rows x 40 columns]"
      ]
     },
     "execution_count": 3,
     "metadata": {},
     "output_type": "execute_result"
    }
   ],
   "source": [
    "cr.head()"
   ]
  },
  {
   "cell_type": "code",
   "execution_count": 4,
   "metadata": {},
   "outputs": [
    {
     "data": {
      "text/plain": [
       "<bound method NDFrame.describe of        gradyear gender     age  friends  basketball  football  soccer  \\\n",
       "0          2006      M  18.982        7           0         0       0   \n",
       "1          2006      F  18.801        0           0         1       0   \n",
       "2          2006      M  18.335       69           0         1       0   \n",
       "3          2006      F  18.875        0           0         0       0   \n",
       "4          2006    NaN  18.995       10           0         0       0   \n",
       "5          2006      F     NaN      142           0         0       0   \n",
       "6          2006      F  18.930       72           0         0       0   \n",
       "7          2006      M  18.322       17           0         0       0   \n",
       "8          2006      F  19.055       52           0         0       0   \n",
       "9          2006      F  18.708       39           0         0       0   \n",
       "10         2006      F  18.543        8           0         0       0   \n",
       "11         2006      F  19.463       21           0         1       0   \n",
       "12         2006      F  18.097       87           0         0       0   \n",
       "13         2006    NaN     NaN        0           0         0       0   \n",
       "14         2006      F  18.398        0           0         0       0   \n",
       "15         2006    NaN     NaN        0           0         0       0   \n",
       "16         2006    NaN     NaN      135           0         0       0   \n",
       "17         2006      F  18.987       26           0         0       2   \n",
       "18         2006      F  17.158       27           1         1       0   \n",
       "19         2006      F  18.497      123           0         0       0   \n",
       "20         2006      F  18.738       35           0         0       0   \n",
       "21         2006      M  19.296        0           0         0       0   \n",
       "22         2006      F  18.752        8           1         0       1   \n",
       "23         2006      F  19.036       74           1         0       0   \n",
       "24         2006      F  19.039        0           0         0       1   \n",
       "25         2006      M  19.020       33           0         0       0   \n",
       "26         2006      F     NaN        0           0         0       0   \n",
       "27         2006      M  18.426        0           0         0       0   \n",
       "28         2006      F  19.266       14           0         0       1   \n",
       "29         2006      F  18.278        7           0         0       0   \n",
       "...         ...    ...     ...      ...         ...       ...     ...   \n",
       "29970      2009    NaN     NaN        0           0         0       0   \n",
       "29971      2009    NaN  15.811       13           0         0       0   \n",
       "29972      2009      F  15.885       73           0         0       0   \n",
       "29973      2009      M  16.148        8           0         0       0   \n",
       "29974      2009      F  16.063        2           0         1       1   \n",
       "29975      2009      F  15.647        0           0         0       0   \n",
       "29976      2009      F  16.172       16           0         0       0   \n",
       "29977      2009      F  16.238       39           0         0       0   \n",
       "29978      2009      F  15.929       28           0         0       1   \n",
       "29979      2009      F  15.387       13           0         3       0   \n",
       "29980      2009      F     NaN        3           3         0       0   \n",
       "29981      2009      F  15.674        0           0         0       0   \n",
       "29982      2009      F  16.227       13           0         0       0   \n",
       "29983      2009      M  16.835        0           1         1       0   \n",
       "29984      2009      F  15.644       11           2         0       4   \n",
       "29985      2009      M  16.249        0           0         0       0   \n",
       "29986      2009      M  16.214       51           0         1       0   \n",
       "29987      2009      M  16.400       13           0         0       0   \n",
       "29988      2009      F  16.230        2           0         0       0   \n",
       "29989      2009      F     NaN        0           6         0       0   \n",
       "29990      2009      M  15.699        0           1         1       0   \n",
       "29991      2009      F     NaN      229           3         0       0   \n",
       "29992      2009      M     NaN        7           0         0       0   \n",
       "29993      2009      F     NaN        0           0         0       0   \n",
       "29994      2009      M  15.195       33           1         0       0   \n",
       "29995      2009      M  16.115        0           0         0       0   \n",
       "29996      2009      M  15.792        1           0         1       0   \n",
       "29997      2009      M  15.784        0           0         1       0   \n",
       "29998      2009      M  16.378        0           0         0       0   \n",
       "29999      2009      F  18.724        3           2         0       0   \n",
       "\n",
       "       softball  volleyball  swimming  ...  blonde  mall  shopping  clothes  \\\n",
       "0             0           0         0  ...       0     0         0        0   \n",
       "1             0           0         0  ...       0     1         0        0   \n",
       "2             0           0         0  ...       0     0         0        0   \n",
       "3             0           0         0  ...       0     0         0        0   \n",
       "4             0           0         0  ...       0     0         2        0   \n",
       "5             0           0         0  ...       0     0         1        0   \n",
       "6             0           0         0  ...       0     2         0        0   \n",
       "7             1           0         0  ...       0     0         0        0   \n",
       "8             0           0         0  ...       0     0         0        0   \n",
       "9             0           0         0  ...       0     0         1        0   \n",
       "10            0           0         0  ...       0     0         0        0   \n",
       "11            0           0         0  ...       0     0         0        0   \n",
       "12            0           0         0  ...       0     0         0        0   \n",
       "13            0           0         0  ...       0     0         0        0   \n",
       "14            0           0         0  ...       0     0         0        1   \n",
       "15            0           0         0  ...       0     0         0        0   \n",
       "16            0           0         0  ...       0     0         0        0   \n",
       "17            0           0         0  ...       0     0         0        0   \n",
       "18            0           0         0  ...       0     0         0        0   \n",
       "19            0           0         0  ...       0     1         2        0   \n",
       "20            0           0         0  ...       0     0         0        0   \n",
       "21            0           0         0  ...       0     0         0        0   \n",
       "22            0           0         0  ...       0     0         0        0   \n",
       "23            0           1         0  ...       0     0         0        0   \n",
       "24            0           0         0  ...       0     0         1        0   \n",
       "25            0           0         0  ...       0     1         0        0   \n",
       "26            0           0         0  ...       0     0         0        0   \n",
       "27            0           0         0  ...       0     0         0        0   \n",
       "28            0           0         0  ...       0     0         1        0   \n",
       "29            0           0         0  ...       0     0         0        0   \n",
       "...         ...         ...       ...  ...     ...   ...       ...      ...   \n",
       "29970         0           0         0  ...       0     0         0        0   \n",
       "29971         0           0         0  ...       0     0         0        0   \n",
       "29972         0           1         1  ...       0     1         3        1   \n",
       "29973         0           0         0  ...       0     0         0        0   \n",
       "29974         0           0         0  ...       0     1         1        0   \n",
       "29975         0           0         0  ...       0     0         0        0   \n",
       "29976         0           0         0  ...       0     0         0        0   \n",
       "29977         0           0         0  ...       0     0         0        0   \n",
       "29978         0           0         0  ...       0     1         1        0   \n",
       "29979         0           0         0  ...       0     1         1        0   \n",
       "29980         0           0         0  ...       0     1         0        0   \n",
       "29981         0           0         0  ...       0     0         0        0   \n",
       "29982         0           0         0  ...       0     0         0        0   \n",
       "29983         0           0         0  ...       0     0         0        0   \n",
       "29984         0           0         0  ...       0     0         1        0   \n",
       "29985         0           0         0  ...       0     0         0        0   \n",
       "29986         0           0         1  ...       0     0         1        0   \n",
       "29987         0           0         0  ...       0     0         0        0   \n",
       "29988         0           0         0  ...       0     0         0        0   \n",
       "29989         0           1         0  ...       1     0         1        0   \n",
       "29990         0           0         0  ...       0     0         0        0   \n",
       "29991         0           0         2  ...       0     1         1        0   \n",
       "29992         0           0         0  ...       0     0         0        0   \n",
       "29993         0           0         0  ...       0     0         1        0   \n",
       "29994         0           0         0  ...       0     1         0        0   \n",
       "29995         0           0         0  ...       0     0         0        0   \n",
       "29996         0           0         0  ...       0     0         0        0   \n",
       "29997         0           0         0  ...       0     0         0        0   \n",
       "29998         0           0         0  ...       0     0         0        0   \n",
       "29999         1           0         0  ...       0     0         0        0   \n",
       "\n",
       "       hollister  abercrombie  die  death  drunk  drugs  \n",
       "0              0            0    0      0      0      0  \n",
       "1              0            0    0      0      0      0  \n",
       "2              0            0    0      1      0      0  \n",
       "3              0            0    0      0      0      0  \n",
       "4              0            0    0      0      1      1  \n",
       "5              0            0    0      0      1      0  \n",
       "6              2            0    0      0      0      0  \n",
       "7              0            0    0      0      0      0  \n",
       "8              0            0    0      0      0      0  \n",
       "9              0            0    0      0      0      0  \n",
       "10             0            0    0      0      0      0  \n",
       "11             0            0    0      0      0      0  \n",
       "12             0            0    0      0      0      0  \n",
       "13             0            0    0      0      0      0  \n",
       "14             0            0    0      0      0      0  \n",
       "15             0            0    0      0      0      0  \n",
       "16             0            0    0      0      0      0  \n",
       "17             0            0    0      0      0      0  \n",
       "18             0            0    0      0      0      0  \n",
       "19             1            1    0      0      0      0  \n",
       "20             1            2    0      0      0      0  \n",
       "21             0            1    0      0      0      0  \n",
       "22             0            0    0      0      0      0  \n",
       "23             0            0    0      0      0      0  \n",
       "24             0            0    0      0      0      0  \n",
       "25             0            0    0      0      0      0  \n",
       "26             0            0    0      0      0      0  \n",
       "27             0            0    2      0      1      0  \n",
       "28             0            0    1      0      0      0  \n",
       "29             0            0    0      0      0      0  \n",
       "...          ...          ...  ...    ...    ...    ...  \n",
       "29970          0            0    0      0      0      0  \n",
       "29971          0            0    0      0      0      0  \n",
       "29972          2            0    0      0      0      0  \n",
       "29973          0            0    0      0      0      0  \n",
       "29974          0            0    0      0      0      0  \n",
       "29975          0            0    0      0      0      0  \n",
       "29976          0            0    0      0      0      0  \n",
       "29977          0            0    0      0      0      0  \n",
       "29978          0            0    2      0      0      0  \n",
       "29979          0            0    1      1      1      1  \n",
       "29980          0            0    0      0      0      0  \n",
       "29981          0            0    0      0      0      0  \n",
       "29982          0            0    0      0      0      0  \n",
       "29983          0            0    0      0      0      0  \n",
       "29984          0            0    0      0      0      0  \n",
       "29985          0            0    0      0      0      0  \n",
       "29986          2            2    0      0      2      0  \n",
       "29987          1            0    1      0      0      0  \n",
       "29988          0            0    0      0      0      0  \n",
       "29989          0            0    0      0      0      0  \n",
       "29990          0            0    0      0      0      0  \n",
       "29991          0            0    1      1      0      0  \n",
       "29992          0            0    0      0      0      0  \n",
       "29993          0            0    0      0      0      0  \n",
       "29994          0            0    0      0      0      0  \n",
       "29995          0            0    0      0      0      0  \n",
       "29996          0            0    0      0      0      0  \n",
       "29997          0            0    0      0      0      0  \n",
       "29998          0            0    0      0      0      0  \n",
       "29999          0            0    0      0      0      0  \n",
       "\n",
       "[30000 rows x 40 columns]>"
      ]
     },
     "execution_count": 4,
     "metadata": {},
     "output_type": "execute_result"
    }
   ],
   "source": [
    "cr.describe"
   ]
  },
  {
   "cell_type": "code",
   "execution_count": 5,
   "metadata": {},
   "outputs": [
    {
     "data": {
      "text/plain": [
       "(30000, 40)"
      ]
     },
     "execution_count": 5,
     "metadata": {},
     "output_type": "execute_result"
    }
   ],
   "source": [
    "cr.shape"
   ]
  },
  {
   "cell_type": "code",
   "execution_count": 6,
   "metadata": {},
   "outputs": [],
   "source": [
    "cr.gender = cr.gender.replace({\"M\":1,\"F\":0})"
   ]
  },
  {
   "cell_type": "code",
   "execution_count": 7,
   "metadata": {},
   "outputs": [
    {
     "data": {
      "text/plain": [
       "gradyear           0\n",
       "gender          2724\n",
       "age             5086\n",
       "friends            0\n",
       "basketball         0\n",
       "football           0\n",
       "soccer             0\n",
       "softball           0\n",
       "volleyball         0\n",
       "swimming           0\n",
       "cheerleading       0\n",
       "baseball           0\n",
       "tennis             0\n",
       "sports             0\n",
       "cute               0\n",
       "sex                0\n",
       "sexy               0\n",
       "hot                0\n",
       "kissed             0\n",
       "dance              0\n",
       "band               0\n",
       "marching           0\n",
       "music              0\n",
       "rock               0\n",
       "god                0\n",
       "church             0\n",
       "jesus              0\n",
       "bible              0\n",
       "hair               0\n",
       "dress              0\n",
       "blonde             0\n",
       "mall               0\n",
       "shopping           0\n",
       "clothes            0\n",
       "hollister          0\n",
       "abercrombie        0\n",
       "die                0\n",
       "death              0\n",
       "drunk              0\n",
       "drugs              0\n",
       "dtype: int64"
      ]
     },
     "execution_count": 7,
     "metadata": {},
     "output_type": "execute_result"
    }
   ],
   "source": [
    "cr.isnull().sum()       ###how many nulls for each columns"
   ]
  },
  {
   "cell_type": "code",
   "execution_count": null,
   "metadata": {},
   "outputs": [],
   "source": []
  },
  {
   "cell_type": "code",
   "execution_count": null,
   "metadata": {},
   "outputs": [],
   "source": []
  },
  {
   "cell_type": "code",
   "execution_count": 8,
   "metadata": {},
   "outputs": [
    {
     "data": {
      "text/plain": [
       "0.0    22054\n",
       "1.0     5222\n",
       "Name: gender, dtype: int64"
      ]
     },
     "execution_count": 8,
     "metadata": {},
     "output_type": "execute_result"
    }
   ],
   "source": [
    "cr.gender.value_counts()"
   ]
  },
  {
   "cell_type": "code",
   "execution_count": 9,
   "metadata": {},
   "outputs": [],
   "source": [
    "cr.gender = cr.gender.fillna(1)  ##deal with gendr =male"
   ]
  },
  {
   "cell_type": "code",
   "execution_count": 10,
   "metadata": {},
   "outputs": [
    {
     "data": {
      "text/plain": [
       "gradyear           0\n",
       "gender             0\n",
       "age             5086\n",
       "friends            0\n",
       "basketball         0\n",
       "football           0\n",
       "soccer             0\n",
       "softball           0\n",
       "volleyball         0\n",
       "swimming           0\n",
       "cheerleading       0\n",
       "baseball           0\n",
       "tennis             0\n",
       "sports             0\n",
       "cute               0\n",
       "sex                0\n",
       "sexy               0\n",
       "hot                0\n",
       "kissed             0\n",
       "dance              0\n",
       "band               0\n",
       "marching           0\n",
       "music              0\n",
       "rock               0\n",
       "god                0\n",
       "church             0\n",
       "jesus              0\n",
       "bible              0\n",
       "hair               0\n",
       "dress              0\n",
       "blonde             0\n",
       "mall               0\n",
       "shopping           0\n",
       "clothes            0\n",
       "hollister          0\n",
       "abercrombie        0\n",
       "die                0\n",
       "death              0\n",
       "drunk              0\n",
       "drugs              0\n",
       "dtype: int64"
      ]
     },
     "execution_count": 10,
     "metadata": {},
     "output_type": "execute_result"
    }
   ],
   "source": [
    "cr.isnull().sum()"
   ]
  },
  {
   "cell_type": "code",
   "execution_count": 11,
   "metadata": {},
   "outputs": [
    {
     "data": {
      "text/plain": [
       "0        18.982\n",
       "1        18.801\n",
       "2        18.335\n",
       "3        18.875\n",
       "4        18.995\n",
       "5           NaN\n",
       "6        18.930\n",
       "7        18.322\n",
       "8        19.055\n",
       "9        18.708\n",
       "10       18.543\n",
       "11       19.463\n",
       "12       18.097\n",
       "13          NaN\n",
       "14       18.398\n",
       "15          NaN\n",
       "16          NaN\n",
       "17       18.987\n",
       "18       17.158\n",
       "19       18.497\n",
       "20       18.738\n",
       "21       19.296\n",
       "22       18.752\n",
       "23       19.036\n",
       "24       19.039\n",
       "25       19.020\n",
       "26          NaN\n",
       "27       18.426\n",
       "28       19.266\n",
       "29       18.278\n",
       "          ...  \n",
       "29970       NaN\n",
       "29971    15.811\n",
       "29972    15.885\n",
       "29973    16.148\n",
       "29974    16.063\n",
       "29975    15.647\n",
       "29976    16.172\n",
       "29977    16.238\n",
       "29978    15.929\n",
       "29979    15.387\n",
       "29980       NaN\n",
       "29981    15.674\n",
       "29982    16.227\n",
       "29983    16.835\n",
       "29984    15.644\n",
       "29985    16.249\n",
       "29986    16.214\n",
       "29987    16.400\n",
       "29988    16.230\n",
       "29989       NaN\n",
       "29990    15.699\n",
       "29991       NaN\n",
       "29992       NaN\n",
       "29993       NaN\n",
       "29994    15.195\n",
       "29995    16.115\n",
       "29996    15.792\n",
       "29997    15.784\n",
       "29998    16.378\n",
       "29999    18.724\n",
       "Name: age, Length: 30000, dtype: float64"
      ]
     },
     "execution_count": 11,
     "metadata": {},
     "output_type": "execute_result"
    }
   ],
   "source": [
    "cr.age  ## IMPUTE WITH MEDIAN"
   ]
  },
  {
   "cell_type": "code",
   "execution_count": 12,
   "metadata": {},
   "outputs": [
    {
     "data": {
      "text/plain": [
       "17.287"
      ]
     },
     "execution_count": 12,
     "metadata": {},
     "output_type": "execute_result"
    }
   ],
   "source": [
    "med_value = cr.age.median()\n",
    "med_value"
   ]
  },
  {
   "cell_type": "code",
   "execution_count": 13,
   "metadata": {},
   "outputs": [],
   "source": [
    "cr.age = cr.age.fillna(cr.age.median())  ##Impute with median"
   ]
  },
  {
   "cell_type": "code",
   "execution_count": 14,
   "metadata": {},
   "outputs": [
    {
     "data": {
      "text/plain": [
       "gradyear        0\n",
       "gender          0\n",
       "age             0\n",
       "friends         0\n",
       "basketball      0\n",
       "football        0\n",
       "soccer          0\n",
       "softball        0\n",
       "volleyball      0\n",
       "swimming        0\n",
       "cheerleading    0\n",
       "baseball        0\n",
       "tennis          0\n",
       "sports          0\n",
       "cute            0\n",
       "sex             0\n",
       "sexy            0\n",
       "hot             0\n",
       "kissed          0\n",
       "dance           0\n",
       "band            0\n",
       "marching        0\n",
       "music           0\n",
       "rock            0\n",
       "god             0\n",
       "church          0\n",
       "jesus           0\n",
       "bible           0\n",
       "hair            0\n",
       "dress           0\n",
       "blonde          0\n",
       "mall            0\n",
       "shopping        0\n",
       "clothes         0\n",
       "hollister       0\n",
       "abercrombie     0\n",
       "die             0\n",
       "death           0\n",
       "drunk           0\n",
       "drugs           0\n",
       "dtype: int64"
      ]
     },
     "execution_count": 14,
     "metadata": {},
     "output_type": "execute_result"
    }
   ],
   "source": [
    "cr.isnull().sum()"
   ]
  },
  {
   "cell_type": "code",
   "execution_count": null,
   "metadata": {},
   "outputs": [],
   "source": []
  },
  {
   "cell_type": "code",
   "execution_count": null,
   "metadata": {},
   "outputs": [],
   "source": []
  },
  {
   "cell_type": "code",
   "execution_count": 15,
   "metadata": {},
   "outputs": [
    {
     "data": {
      "text/plain": [
       "gradyear        0\n",
       "gender          0\n",
       "age             0\n",
       "friends         0\n",
       "basketball      0\n",
       "football        0\n",
       "soccer          0\n",
       "softball        0\n",
       "volleyball      0\n",
       "swimming        0\n",
       "cheerleading    0\n",
       "baseball        0\n",
       "tennis          0\n",
       "sports          0\n",
       "cute            0\n",
       "sex             0\n",
       "sexy            0\n",
       "hot             0\n",
       "kissed          0\n",
       "dance           0\n",
       "band            0\n",
       "marching        0\n",
       "music           0\n",
       "rock            0\n",
       "god             0\n",
       "church          0\n",
       "jesus           0\n",
       "bible           0\n",
       "hair            0\n",
       "dress           0\n",
       "blonde          0\n",
       "mall            0\n",
       "shopping        0\n",
       "clothes         0\n",
       "hollister       0\n",
       "abercrombie     0\n",
       "die             0\n",
       "death           0\n",
       "drunk           0\n",
       "drugs           0\n",
       "dtype: int64"
      ]
     },
     "execution_count": 15,
     "metadata": {},
     "output_type": "execute_result"
    }
   ],
   "source": [
    "cr.isnull().sum()"
   ]
  },
  {
   "cell_type": "code",
   "execution_count": 16,
   "metadata": {},
   "outputs": [],
   "source": [
    "cr = cr.dropna()  ### make sure no nulls - timepass"
   ]
  },
  {
   "cell_type": "markdown",
   "metadata": {},
   "source": [
    "# MODEL BUILDING"
   ]
  },
  {
   "cell_type": "code",
   "execution_count": 17,
   "metadata": {},
   "outputs": [],
   "source": [
    "from sklearn.cluster import KMeans"
   ]
  },
  {
   "cell_type": "code",
   "execution_count": 18,
   "metadata": {},
   "outputs": [],
   "source": [
    "sns_kmeans = KMeans(n_clusters = 3)    ##create an instance "
   ]
  },
  {
   "cell_type": "code",
   "execution_count": 19,
   "metadata": {},
   "outputs": [
    {
     "data": {
      "text/plain": [
       "KMeans(algorithm='auto', copy_x=True, init='k-means++', max_iter=300,\n",
       "       n_clusters=3, n_init=10, n_jobs=None, precompute_distances='auto',\n",
       "       random_state=None, tol=0.0001, verbose=0)"
      ]
     },
     "execution_count": 19,
     "metadata": {},
     "output_type": "execute_result"
    }
   ],
   "source": [
    "sns_kmeans.fit(cr)"
   ]
  },
  {
   "cell_type": "code",
   "execution_count": 20,
   "metadata": {},
   "outputs": [
    {
     "data": {
      "text/plain": [
       "array([[2.00757605e+03, 2.25552421e-01, 1.78286563e+01, 5.73368594e+01,\n",
       "        3.13704748e-01, 2.82087447e-01, 2.60695816e-01, 2.20733427e-01,\n",
       "        1.77362482e-01, 1.55383169e-01, 1.24706159e-01, 1.19417019e-01,\n",
       "        9.48519041e-02, 1.55500705e-01, 3.80112835e-01, 2.10037612e-01,\n",
       "        1.53737659e-01, 1.42924307e-01, 1.11189469e-01, 4.96826516e-01,\n",
       "        3.33333333e-01, 4.87776211e-02, 7.76680771e-01, 2.68335684e-01,\n",
       "        5.37611660e-01, 3.06770099e-01, 1.39868359e-01, 2.28020686e-02,\n",
       "        4.48401504e-01, 1.30230371e-01, 1.35637047e-01, 2.99952985e-01,\n",
       "        4.23483780e-01, 1.61612600e-01, 9.07381288e-02, 6.55853315e-02,\n",
       "        1.92054537e-01, 1.29877762e-01, 9.03855195e-02, 6.00611189e-02],\n",
       "       [2.00745551e+03, 2.87343781e-01, 1.79075078e+01, 1.11776929e+01,\n",
       "        2.40527673e-01, 2.37304106e-01, 2.05415592e-01, 1.29934537e-01,\n",
       "        1.24380083e-01, 1.24231303e-01, 9.29875025e-02, 9.67070026e-02,\n",
       "        8.34655822e-02, 1.33306884e-01, 2.88881174e-01, 2.07895259e-01,\n",
       "        1.32215830e-01, 1.14957350e-01, 9.83435826e-02, 3.86381670e-01,\n",
       "        2.85310454e-01, 3.68478476e-02, 7.19202539e-01, 2.32642333e-01,\n",
       "        4.23923825e-01, 2.15582226e-01, 9.81452093e-02, 2.02836739e-02,\n",
       "        4.04086491e-01, 9.95338227e-02, 8.09363222e-02, 2.29071613e-01,\n",
       "        3.13231502e-01, 1.41390597e-01, 5.64372148e-02, 4.16088078e-02,\n",
       "        1.79230311e-01, 1.05782583e-01, 8.47550089e-02, 6.11485816e-02],\n",
       "       [2.00768825e+03, 1.75451807e-01, 1.76579405e+01, 1.44710090e+02,\n",
       "        3.77259036e-01, 2.89156627e-01, 2.43222892e-01, 2.54518072e-01,\n",
       "        2.08584337e-01, 1.54367470e-01, 1.98042169e-01, 1.37048193e-01,\n",
       "        9.78915663e-02, 1.41566265e-01, 4.72138554e-01, 2.28162651e-01,\n",
       "        1.97289157e-01, 1.98795181e-01, 1.25753012e-01, 5.54969880e-01,\n",
       "        3.00451807e-01, 4.51807229e-02, 7.71837349e-01, 2.45481928e-01,\n",
       "        6.30271084e-01, 3.67469880e-01, 1.45331325e-01, 2.78614458e-02,\n",
       "        5.37650602e-01, 1.61144578e-01, 1.37048193e-01, 4.14156627e-01,\n",
       "        5.05271084e-01, 1.72439759e-01, 1.40060241e-01, 1.03915663e-01,\n",
       "        2.07078313e-01, 1.42319277e-01, 1.21234940e-01, 5.19578313e-02]])"
      ]
     },
     "execution_count": 20,
     "metadata": {},
     "output_type": "execute_result"
    }
   ],
   "source": [
    "sns_kmeans.cluster_centers_"
   ]
  },
  {
   "cell_type": "code",
   "execution_count": 21,
   "metadata": {},
   "outputs": [],
   "source": [
    "import numpy as  np"
   ]
  },
  {
   "cell_type": "code",
   "execution_count": 22,
   "metadata": {},
   "outputs": [
    {
     "data": {
      "text/plain": [
       "array([0, 1, 2])"
      ]
     },
     "execution_count": 22,
     "metadata": {},
     "output_type": "execute_result"
    }
   ],
   "source": [
    "np.unique(sns_kmeans.labels_)"
   ]
  },
  {
   "cell_type": "code",
   "execution_count": 23,
   "metadata": {},
   "outputs": [
    {
     "data": {
      "text/plain": [
       "-11302300.535812203"
      ]
     },
     "execution_count": 23,
     "metadata": {},
     "output_type": "execute_result"
    }
   ],
   "source": [
    "sns_kmeans.score(cr)   ### because of error is denoted as negatives"
   ]
  },
  {
   "cell_type": "code",
   "execution_count": 24,
   "metadata": {},
   "outputs": [],
   "source": [
    "import matplotlib.pyplot as plt"
   ]
  },
  {
   "cell_type": "code",
   "execution_count": 25,
   "metadata": {},
   "outputs": [],
   "source": [
    "aa =list()\n",
    "for i in range (1,10):\n",
    "    sns_k = KMeans(n_clusters = i)\n",
    "    sns_k.fit(cr)\n",
    "    a= sns_kmeans.score(cr)\n",
    "    aa.append(-1*a)\n",
    "    "
   ]
  },
  {
   "cell_type": "code",
   "execution_count": 26,
   "metadata": {},
   "outputs": [
    {
     "data": {
      "text/plain": [
       "[11302300.535812203,\n",
       " 11302300.535812203,\n",
       " 11302300.535812203,\n",
       " 11302300.535812203,\n",
       " 11302300.535812203,\n",
       " 11302300.535812203,\n",
       " 11302300.535812203,\n",
       " 11302300.535812203,\n",
       " 11302300.535812203]"
      ]
     },
     "execution_count": 26,
     "metadata": {},
     "output_type": "execute_result"
    }
   ],
   "source": [
    "aa"
   ]
  },
  {
   "cell_type": "code",
   "execution_count": 27,
   "metadata": {},
   "outputs": [
    {
     "data": {
      "text/plain": [
       "[<matplotlib.lines.Line2D at 0x18aaedf2208>]"
      ]
     },
     "execution_count": 27,
     "metadata": {},
     "output_type": "execute_result"
    },
    {
     "data": {
      "image/png": "[encoded data removed]",
      "text/plain": [
       "<Figure size 432x288 with 1 Axes>"
      ]
     },
     "metadata": {
      "needs_background": "light"
     },
     "output_type": "display_data"
    }
   ],
   "source": [
    "plt.plot(aa)"
   ]
  },
  {
   "cell_type": "code",
   "execution_count": 28,
   "metadata": {},
   "outputs": [
    {
     "data": {
      "text/plain": [
       "range(1, 8)"
      ]
     },
     "execution_count": 28,
     "metadata": {},
     "output_type": "execute_result"
    }
   ],
   "source": [
    "nc= range(1,8)\n",
    "nc"
   ]
  },
  {
   "cell_type": "code",
   "execution_count": 29,
   "metadata": {},
   "outputs": [
    {
     "data": {
      "text/plain": [
       "[KMeans(algorithm='auto', copy_x=True, init='k-means++', max_iter=300,\n",
       "        n_clusters=1, n_init=10, n_jobs=None, precompute_distances='auto',\n",
       "        random_state=None, tol=0.0001, verbose=0),\n",
       " KMeans(algorithm='auto', copy_x=True, init='k-means++', max_iter=300,\n",
       "        n_clusters=2, n_init=10, n_jobs=None, precompute_distances='auto',\n",
       "        random_state=None, tol=0.0001, verbose=0),\n",
       " KMeans(algorithm='auto', copy_x=True, init='k-means++', max_iter=300,\n",
       "        n_clusters=3, n_init=10, n_jobs=None, precompute_distances='auto',\n",
       "        random_state=None, tol=0.0001, verbose=0),\n",
       " KMeans(algorithm='auto', copy_x=True, init='k-means++', max_iter=300,\n",
       "        n_clusters=4, n_init=10, n_jobs=None, precompute_distances='auto',\n",
       "        random_state=None, tol=0.0001, verbose=0),\n",
       " KMeans(algorithm='auto', copy_x=True, init='k-means++', max_iter=300,\n",
       "        n_clusters=5, n_init=10, n_jobs=None, precompute_distances='auto',\n",
       "        random_state=None, tol=0.0001, verbose=0),\n",
       " KMeans(algorithm='auto', copy_x=True, init='k-means++', max_iter=300,\n",
       "        n_clusters=6, n_init=10, n_jobs=None, precompute_distances='auto',\n",
       "        random_state=None, tol=0.0001, verbose=0),\n",
       " KMeans(algorithm='auto', copy_x=True, init='k-means++', max_iter=300,\n",
       "        n_clusters=7, n_init=10, n_jobs=None, precompute_distances='auto',\n",
       "        random_state=None, tol=0.0001, verbose=0)]"
      ]
     },
     "execution_count": 29,
     "metadata": {},
     "output_type": "execute_result"
    }
   ],
   "source": [
    "kmeans = [KMeans(n_clusters = i) for i in nc]\n",
    "kmeans"
   ]
  },
  {
   "cell_type": "code",
   "execution_count": 30,
   "metadata": {},
   "outputs": [],
   "source": [
    "score = [kmeans[i].fit(cr).score(cr) for i in range (len(kmeans))]"
   ]
  },
  {
   "cell_type": "code",
   "execution_count": 31,
   "metadata": {},
   "outputs": [
    {
     "name": "stdout",
     "output_type": "stream",
     "text": [
      "[-42278614.20605914, -18615005.37725691, -11302300.535812203, -8115159.450998377, -6335123.743899818, -5054618.316050492, -4010402.6043988597]\n"
     ]
    }
   ],
   "source": [
    "print(score)"
   ]
  },
  {
   "cell_type": "code",
   "execution_count": 32,
   "metadata": {},
   "outputs": [
    {
     "data": {
      "text/plain": [
       "[<matplotlib.lines.Line2D at 0x18aaeea0a20>]"
      ]
     },
     "execution_count": 32,
     "metadata": {},
     "output_type": "execute_result"
    },
    {
     "data": {
      "image/png": "[encoded data removed]",
      "text/plain": [
       "<Figure size 432x288 with 1 Axes>"
      ]
     },
     "metadata": {
      "needs_background": "light"
     },
     "output_type": "display_data"
    }
   ],
   "source": [
    "plt.plot(nc, score)"
   ]
  },
  {
   "cell_type": "code",
   "execution_count": 33,
   "metadata": {},
   "outputs": [
    {
     "data": {
      "text/plain": [
       "array([42278614.20605914, 18615005.37725691, 11302300.5358122 ,\n",
       "        8115159.45099838,  6335123.74389982,  5054618.31605049,\n",
       "        4010402.60439886])"
      ]
     },
     "execution_count": 33,
     "metadata": {},
     "output_type": "execute_result"
    }
   ],
   "source": [
    "score = np.absolute(score)\n",
    "score"
   ]
  },
  {
   "cell_type": "code",
   "execution_count": 34,
   "metadata": {},
   "outputs": [
    {
     "data": {
      "text/plain": [
       "[<matplotlib.lines.Line2D at 0x18aaef162e8>]"
      ]
     },
     "execution_count": 34,
     "metadata": {},
     "output_type": "execute_result"
    },
    {
     "data": {
      "image/png": "[encoded data removed]",
      "text/plain": [
       "<Figure size 432x288 with 1 Axes>"
      ]
     },
     "metadata": {
      "needs_background": "light"
     },
     "output_type": "display_data"
    }
   ],
   "source": [
    "plt.plot(nc, score, marker ='*')"
   ]
  },
  {
   "cell_type": "markdown",
   "metadata": {},
   "source": [
    "# !!--------------------DBSCAN ----------------------------!!"
   ]
  },
  {
   "cell_type": "code",
   "execution_count": 35,
   "metadata": {},
   "outputs": [],
   "source": [
    "from sklearn.cluster import DBSCAN"
   ]
  },
  {
   "cell_type": "code",
   "execution_count": 36,
   "metadata": {},
   "outputs": [],
   "source": [
    "cr1=cr"
   ]
  },
  {
   "cell_type": "code",
   "execution_count": 37,
   "metadata": {},
   "outputs": [],
   "source": [
    "from sklearn.preprocessing import StandardScaler"
   ]
  },
  {
   "cell_type": "code",
   "execution_count": 38,
   "metadata": {},
   "outputs": [],
   "source": [
    "scaler = StandardScaler()  ##instance create"
   ]
  },
  {
   "cell_type": "code",
   "execution_count": 39,
   "metadata": {},
   "outputs": [
    {
     "data": {
      "text/plain": [
       "array([[-1.34164079,  1.66597855,  0.15460949, ..., -0.26153016,\n",
       "        -0.22040264, -0.1749076 ],\n",
       "       [-1.34164079, -0.60024783,  0.12935065, ..., -0.26153016,\n",
       "        -0.22040264, -0.1749076 ],\n",
       "       [-1.34164079,  1.66597855,  0.06431961, ...,  2.02790809,\n",
       "        -0.22040264, -0.1749076 ],\n",
       "       ...,\n",
       "       [ 1.34164079,  1.66597855, -0.29167652, ..., -0.26153016,\n",
       "        -0.22040264, -0.1749076 ],\n",
       "       [ 1.34164079,  1.66597855, -0.20878287, ..., -0.26153016,\n",
       "        -0.22040264, -0.1749076 ],\n",
       "       [ 1.34164079, -0.60024783,  0.11860518, ..., -0.26153016,\n",
       "        -0.22040264, -0.1749076 ]])"
      ]
     },
     "execution_count": 39,
     "metadata": {},
     "output_type": "execute_result"
    }
   ],
   "source": [
    "scaled_sn1 = scaler.fit_transform(cr1)\n",
    "scaled_sn1"
   ]
  },
  {
   "cell_type": "code",
   "execution_count": 40,
   "metadata": {},
   "outputs": [],
   "source": [
    "dbscan = DBSCAN (eps = 0.5, min_samples= 7)"
   ]
  },
  {
   "cell_type": "code",
   "execution_count": 41,
   "metadata": {},
   "outputs": [],
   "source": [
    "model_db = dbscan.fit(scaled_sn1)"
   ]
  },
  {
   "cell_type": "code",
   "execution_count": 42,
   "metadata": {},
   "outputs": [
    {
     "data": {
      "text/plain": [
       "DBSCAN(algorithm='auto', eps=0.5, leaf_size=30, metric='euclidean',\n",
       "       metric_params=None, min_samples=7, n_jobs=None, p=None)"
      ]
     },
     "execution_count": 42,
     "metadata": {},
     "output_type": "execute_result"
    }
   ],
   "source": [
    "model_db"
   ]
  },
  {
   "cell_type": "code",
   "execution_count": 43,
   "metadata": {},
   "outputs": [],
   "source": [
    "cc = set(model_db.labels_)"
   ]
  },
  {
   "cell_type": "code",
   "execution_count": 44,
   "metadata": {},
   "outputs": [
    {
     "name": "stdout",
     "output_type": "stream",
     "text": [
      "{0, 1, 2, 3, 4, 5, 6, 7, 8, 9, 10, 11, 12, 13, 14, 15, 16, 17, 18, 19, 20, 21, 22, 23, 24, 25, 26, 27, 28, 29, 30, 31, 32, 33, 34, 35, 36, 37, 38, 39, 40, 41, 42, 43, 44, 45, 46, 47, 48, 49, 50, 51, 52, 53, 54, 55, 56, 57, 58, 59, 60, 61, 62, 63, 64, 65, 66, 67, 68, 69, 70, 71, 72, 73, 74, 75, 76, 77, 78, 79, 80, 81, 82, 83, 84, 85, 86, 87, 88, 89, 90, 91, 92, 93, 94, 95, 96, 97, 98, 99, 100, 101, 102, 103, 104, 105, 106, 107, 108, 109, 110, 111, 112, 113, 114, 115, 116, 117, 118, 119, 120, 121, 122, -1}\n"
     ]
    }
   ],
   "source": [
    "print(cc)   ## gives cluster number"
   ]
  },
  {
   "cell_type": "code",
   "execution_count": 45,
   "metadata": {},
   "outputs": [
    {
     "name": "stdout",
     "output_type": "stream",
     "text": [
      "124\n"
     ]
    }
   ],
   "source": [
    "print(len(cc))  ## to get how many cluster"
   ]
  },
  {
   "cell_type": "code",
   "execution_count": 46,
   "metadata": {},
   "outputs": [],
   "source": [
    "ab = list(model_db.labels_)"
   ]
  },
  {
   "cell_type": "code",
   "execution_count": 47,
   "metadata": {},
   "outputs": [
    {
     "data": {
      "text/plain": [
       "25826"
      ]
     },
     "execution_count": 47,
     "metadata": {},
     "output_type": "execute_result"
    }
   ],
   "source": [
    "ab.count(-1)"
   ]
  },
  {
   "cell_type": "code",
   "execution_count": 48,
   "metadata": {},
   "outputs": [
    {
     "data": {
      "text/plain": [
       "(30000, 40)"
      ]
     },
     "execution_count": 48,
     "metadata": {},
     "output_type": "execute_result"
    }
   ],
   "source": [
    "cr1.shape"
   ]
  },
  {
   "cell_type": "code",
   "execution_count": null,
   "metadata": {},
   "outputs": [],
   "source": []
  },
  {
   "cell_type": "code",
   "execution_count": null,
   "metadata": {},
   "outputs": [],
   "source": []
  },
  {
   "cell_type": "code",
   "execution_count": null,
   "metadata": {},
   "outputs": [],
   "source": []
  }
 ],
 "metadata": {
  "kernelspec": {
   "display_name": "Python 3",
   "language": "python",
   "name": "python3"
  },
  "language_info": {
   "codemirror_mode": {
    "name": "ipython",
    "version": 3
   },
   "file_extension": ".py",
   "mimetype": "text/x-python",
   "name": "python",
   "nbconvert_exporter": "python",
   "pygments_lexer": "ipython3",
   "version": "3.7.3"
  }
 },
 "nbformat": 4,
 "nbformat_minor": 2
}
