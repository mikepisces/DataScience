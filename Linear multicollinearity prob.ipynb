{
 "cells": [
  {
   "cell_type": "markdown",
   "metadata": {},
   "source": [
    "#  MULTICOLLINEARITY IN THIS DATA #######"
   ]
  },
  {
   "cell_type": "code",
   "execution_count": 25,
   "metadata": {},
   "outputs": [],
   "source": [
    "import pandas as pd\n",
    "\n",
    "bf =  pd.read_csv(r\"C:\\Users\\Khushi\\Desktop\\sep14\\bodyfat.csv\")"
   ]
  },
  {
   "cell_type": "code",
   "execution_count": 26,
   "metadata": {},
   "outputs": [
    {
     "data": {
      "text/html": [
       "<div>\n",
       "<style scoped>\n",
       "    .dataframe tbody tr th:only-of-type {\n",
       "        vertical-align: middle;\n",
       "    }\n",
       "\n",
       "    .dataframe tbody tr th {\n",
       "        vertical-align: top;\n",
       "    }\n",
       "\n",
       "    .dataframe thead th {\n",
       "        text-align: right;\n",
       "    }\n",
       "</style>\n",
       "<table border=\"1\" class=\"dataframe\">\n",
       "  <thead>\n",
       "    <tr style=\"text-align: right;\">\n",
       "      <th></th>\n",
       "      <th>Bodyfat</th>\n",
       "      <th>Age</th>\n",
       "      <th>Weight</th>\n",
       "      <th>Height</th>\n",
       "      <th>Neck</th>\n",
       "      <th>Chest</th>\n",
       "      <th>Abdomen</th>\n",
       "      <th>Ankle</th>\n",
       "      <th>Biceps</th>\n",
       "      <th>Wrist</th>\n",
       "    </tr>\n",
       "  </thead>\n",
       "  <tbody>\n",
       "    <tr>\n",
       "      <th>0</th>\n",
       "      <td>32.3</td>\n",
       "      <td>41</td>\n",
       "      <td>247.25</td>\n",
       "      <td>73.50</td>\n",
       "      <td>42.1</td>\n",
       "      <td>117.0</td>\n",
       "      <td>115.6</td>\n",
       "      <td>26.3</td>\n",
       "      <td>37.3</td>\n",
       "      <td>19.7</td>\n",
       "    </tr>\n",
       "    <tr>\n",
       "      <th>1</th>\n",
       "      <td>22.5</td>\n",
       "      <td>31</td>\n",
       "      <td>177.25</td>\n",
       "      <td>71.50</td>\n",
       "      <td>36.2</td>\n",
       "      <td>101.1</td>\n",
       "      <td>92.4</td>\n",
       "      <td>24.6</td>\n",
       "      <td>30.1</td>\n",
       "      <td>18.2</td>\n",
       "    </tr>\n",
       "    <tr>\n",
       "      <th>2</th>\n",
       "      <td>22.0</td>\n",
       "      <td>42</td>\n",
       "      <td>156.25</td>\n",
       "      <td>69.00</td>\n",
       "      <td>35.5</td>\n",
       "      <td>97.8</td>\n",
       "      <td>86.0</td>\n",
       "      <td>24.0</td>\n",
       "      <td>31.2</td>\n",
       "      <td>17.4</td>\n",
       "    </tr>\n",
       "    <tr>\n",
       "      <th>3</th>\n",
       "      <td>12.3</td>\n",
       "      <td>23</td>\n",
       "      <td>154.25</td>\n",
       "      <td>67.75</td>\n",
       "      <td>36.2</td>\n",
       "      <td>93.1</td>\n",
       "      <td>85.2</td>\n",
       "      <td>21.9</td>\n",
       "      <td>32.0</td>\n",
       "      <td>17.1</td>\n",
       "    </tr>\n",
       "    <tr>\n",
       "      <th>4</th>\n",
       "      <td>20.5</td>\n",
       "      <td>46</td>\n",
       "      <td>177.00</td>\n",
       "      <td>70.00</td>\n",
       "      <td>37.2</td>\n",
       "      <td>99.7</td>\n",
       "      <td>95.6</td>\n",
       "      <td>22.5</td>\n",
       "      <td>29.1</td>\n",
       "      <td>17.7</td>\n",
       "    </tr>\n",
       "  </tbody>\n",
       "</table>\n",
       "</div>"
      ],
      "text/plain": [
       "   Bodyfat  Age  Weight  Height  Neck  Chest  Abdomen  Ankle  Biceps  Wrist\n",
       "0     32.3   41  247.25   73.50  42.1  117.0    115.6   26.3    37.3   19.7\n",
       "1     22.5   31  177.25   71.50  36.2  101.1     92.4   24.6    30.1   18.2\n",
       "2     22.0   42  156.25   69.00  35.5   97.8     86.0   24.0    31.2   17.4\n",
       "3     12.3   23  154.25   67.75  36.2   93.1     85.2   21.9    32.0   17.1\n",
       "4     20.5   46  177.00   70.00  37.2   99.7     95.6   22.5    29.1   17.7"
      ]
     },
     "execution_count": 26,
     "metadata": {},
     "output_type": "execute_result"
    }
   ],
   "source": [
    "bf.head()"
   ]
  },
  {
   "cell_type": "code",
   "execution_count": 27,
   "metadata": {},
   "outputs": [],
   "source": [
    "bf_x = bf.iloc[:,1:10]"
   ]
  },
  {
   "cell_type": "code",
   "execution_count": 28,
   "metadata": {},
   "outputs": [
    {
     "data": {
      "text/html": [
       "<div>\n",
       "<style scoped>\n",
       "    .dataframe tbody tr th:only-of-type {\n",
       "        vertical-align: middle;\n",
       "    }\n",
       "\n",
       "    .dataframe tbody tr th {\n",
       "        vertical-align: top;\n",
       "    }\n",
       "\n",
       "    .dataframe thead th {\n",
       "        text-align: right;\n",
       "    }\n",
       "</style>\n",
       "<table border=\"1\" class=\"dataframe\">\n",
       "  <thead>\n",
       "    <tr style=\"text-align: right;\">\n",
       "      <th></th>\n",
       "      <th>Age</th>\n",
       "      <th>Weight</th>\n",
       "      <th>Height</th>\n",
       "      <th>Neck</th>\n",
       "      <th>Chest</th>\n",
       "      <th>Abdomen</th>\n",
       "      <th>Ankle</th>\n",
       "      <th>Biceps</th>\n",
       "      <th>Wrist</th>\n",
       "    </tr>\n",
       "  </thead>\n",
       "  <tbody>\n",
       "    <tr>\n",
       "      <th>Age</th>\n",
       "      <td>1.000000</td>\n",
       "      <td>-0.097905</td>\n",
       "      <td>-0.268673</td>\n",
       "      <td>0.038501</td>\n",
       "      <td>0.072908</td>\n",
       "      <td>0.141339</td>\n",
       "      <td>-0.073522</td>\n",
       "      <td>-0.079398</td>\n",
       "      <td>0.216315</td>\n",
       "    </tr>\n",
       "    <tr>\n",
       "      <th>Weight</th>\n",
       "      <td>-0.097905</td>\n",
       "      <td>1.000000</td>\n",
       "      <td>0.568433</td>\n",
       "      <td>0.838977</td>\n",
       "      <td>0.916047</td>\n",
       "      <td>0.888317</td>\n",
       "      <td>0.790388</td>\n",
       "      <td>0.786266</td>\n",
       "      <td>0.755123</td>\n",
       "    </tr>\n",
       "    <tr>\n",
       "      <th>Height</th>\n",
       "      <td>-0.268673</td>\n",
       "      <td>0.568433</td>\n",
       "      <td>1.000000</td>\n",
       "      <td>0.370396</td>\n",
       "      <td>0.345312</td>\n",
       "      <td>0.265403</td>\n",
       "      <td>0.454985</td>\n",
       "      <td>0.435460</td>\n",
       "      <td>0.420928</td>\n",
       "    </tr>\n",
       "    <tr>\n",
       "      <th>Neck</th>\n",
       "      <td>0.038501</td>\n",
       "      <td>0.838977</td>\n",
       "      <td>0.370396</td>\n",
       "      <td>1.000000</td>\n",
       "      <td>0.789799</td>\n",
       "      <td>0.769086</td>\n",
       "      <td>0.664068</td>\n",
       "      <td>0.701067</td>\n",
       "      <td>0.777259</td>\n",
       "    </tr>\n",
       "    <tr>\n",
       "      <th>Chest</th>\n",
       "      <td>0.072908</td>\n",
       "      <td>0.916047</td>\n",
       "      <td>0.345312</td>\n",
       "      <td>0.789799</td>\n",
       "      <td>1.000000</td>\n",
       "      <td>0.922728</td>\n",
       "      <td>0.700092</td>\n",
       "      <td>0.730124</td>\n",
       "      <td>0.695795</td>\n",
       "    </tr>\n",
       "    <tr>\n",
       "      <th>Abdomen</th>\n",
       "      <td>0.141339</td>\n",
       "      <td>0.888317</td>\n",
       "      <td>0.265403</td>\n",
       "      <td>0.769086</td>\n",
       "      <td>0.922728</td>\n",
       "      <td>1.000000</td>\n",
       "      <td>0.643211</td>\n",
       "      <td>0.652148</td>\n",
       "      <td>0.672061</td>\n",
       "    </tr>\n",
       "    <tr>\n",
       "      <th>Ankle</th>\n",
       "      <td>-0.073522</td>\n",
       "      <td>0.790388</td>\n",
       "      <td>0.454985</td>\n",
       "      <td>0.664068</td>\n",
       "      <td>0.700092</td>\n",
       "      <td>0.643211</td>\n",
       "      <td>1.000000</td>\n",
       "      <td>0.650841</td>\n",
       "      <td>0.688320</td>\n",
       "    </tr>\n",
       "    <tr>\n",
       "      <th>Biceps</th>\n",
       "      <td>-0.079398</td>\n",
       "      <td>0.786266</td>\n",
       "      <td>0.435460</td>\n",
       "      <td>0.701067</td>\n",
       "      <td>0.730124</td>\n",
       "      <td>0.652148</td>\n",
       "      <td>0.650841</td>\n",
       "      <td>1.000000</td>\n",
       "      <td>0.630473</td>\n",
       "    </tr>\n",
       "    <tr>\n",
       "      <th>Wrist</th>\n",
       "      <td>0.216315</td>\n",
       "      <td>0.755123</td>\n",
       "      <td>0.420928</td>\n",
       "      <td>0.777259</td>\n",
       "      <td>0.695795</td>\n",
       "      <td>0.672061</td>\n",
       "      <td>0.688320</td>\n",
       "      <td>0.630473</td>\n",
       "      <td>1.000000</td>\n",
       "    </tr>\n",
       "  </tbody>\n",
       "</table>\n",
       "</div>"
      ],
      "text/plain": [
       "              Age    Weight    Height      Neck     Chest   Abdomen     Ankle  \\\n",
       "Age      1.000000 -0.097905 -0.268673  0.038501  0.072908  0.141339 -0.073522   \n",
       "Weight  -0.097905  1.000000  0.568433  0.838977  0.916047  0.888317  0.790388   \n",
       "Height  -0.268673  0.568433  1.000000  0.370396  0.345312  0.265403  0.454985   \n",
       "Neck     0.038501  0.838977  0.370396  1.000000  0.789799  0.769086  0.664068   \n",
       "Chest    0.072908  0.916047  0.345312  0.789799  1.000000  0.922728  0.700092   \n",
       "Abdomen  0.141339  0.888317  0.265403  0.769086  0.922728  1.000000  0.643211   \n",
       "Ankle   -0.073522  0.790388  0.454985  0.664068  0.700092  0.643211  1.000000   \n",
       "Biceps  -0.079398  0.786266  0.435460  0.701067  0.730124  0.652148  0.650841   \n",
       "Wrist    0.216315  0.755123  0.420928  0.777259  0.695795  0.672061  0.688320   \n",
       "\n",
       "           Biceps     Wrist  \n",
       "Age     -0.079398  0.216315  \n",
       "Weight   0.786266  0.755123  \n",
       "Height   0.435460  0.420928  \n",
       "Neck     0.701067  0.777259  \n",
       "Chest    0.730124  0.695795  \n",
       "Abdomen  0.652148  0.672061  \n",
       "Ankle    0.650841  0.688320  \n",
       "Biceps   1.000000  0.630473  \n",
       "Wrist    0.630473  1.000000  "
      ]
     },
     "execution_count": 28,
     "metadata": {},
     "output_type": "execute_result"
    }
   ],
   "source": [
    "bf_x.corr()"
   ]
  },
  {
   "cell_type": "code",
   "execution_count": 29,
   "metadata": {},
   "outputs": [
    {
     "data": {
      "text/html": [
       "<div>\n",
       "<style scoped>\n",
       "    .dataframe tbody tr th:only-of-type {\n",
       "        vertical-align: middle;\n",
       "    }\n",
       "\n",
       "    .dataframe tbody tr th {\n",
       "        vertical-align: top;\n",
       "    }\n",
       "\n",
       "    .dataframe thead th {\n",
       "        text-align: right;\n",
       "    }\n",
       "</style>\n",
       "<table border=\"1\" class=\"dataframe\">\n",
       "  <thead>\n",
       "    <tr style=\"text-align: right;\">\n",
       "      <th></th>\n",
       "      <th>Bodyfat</th>\n",
       "      <th>Age</th>\n",
       "      <th>Weight</th>\n",
       "      <th>Height</th>\n",
       "      <th>Neck</th>\n",
       "      <th>Chest</th>\n",
       "      <th>Abdomen</th>\n",
       "      <th>Ankle</th>\n",
       "      <th>Biceps</th>\n",
       "      <th>Wrist</th>\n",
       "    </tr>\n",
       "  </thead>\n",
       "  <tbody>\n",
       "    <tr>\n",
       "      <th>0</th>\n",
       "      <td>32.3</td>\n",
       "      <td>41</td>\n",
       "      <td>247.25</td>\n",
       "      <td>73.50</td>\n",
       "      <td>42.1</td>\n",
       "      <td>117.0</td>\n",
       "      <td>115.6</td>\n",
       "      <td>26.3</td>\n",
       "      <td>37.3</td>\n",
       "      <td>19.7</td>\n",
       "    </tr>\n",
       "    <tr>\n",
       "      <th>1</th>\n",
       "      <td>22.5</td>\n",
       "      <td>31</td>\n",
       "      <td>177.25</td>\n",
       "      <td>71.50</td>\n",
       "      <td>36.2</td>\n",
       "      <td>101.1</td>\n",
       "      <td>92.4</td>\n",
       "      <td>24.6</td>\n",
       "      <td>30.1</td>\n",
       "      <td>18.2</td>\n",
       "    </tr>\n",
       "    <tr>\n",
       "      <th>2</th>\n",
       "      <td>22.0</td>\n",
       "      <td>42</td>\n",
       "      <td>156.25</td>\n",
       "      <td>69.00</td>\n",
       "      <td>35.5</td>\n",
       "      <td>97.8</td>\n",
       "      <td>86.0</td>\n",
       "      <td>24.0</td>\n",
       "      <td>31.2</td>\n",
       "      <td>17.4</td>\n",
       "    </tr>\n",
       "    <tr>\n",
       "      <th>3</th>\n",
       "      <td>12.3</td>\n",
       "      <td>23</td>\n",
       "      <td>154.25</td>\n",
       "      <td>67.75</td>\n",
       "      <td>36.2</td>\n",
       "      <td>93.1</td>\n",
       "      <td>85.2</td>\n",
       "      <td>21.9</td>\n",
       "      <td>32.0</td>\n",
       "      <td>17.1</td>\n",
       "    </tr>\n",
       "    <tr>\n",
       "      <th>4</th>\n",
       "      <td>20.5</td>\n",
       "      <td>46</td>\n",
       "      <td>177.00</td>\n",
       "      <td>70.00</td>\n",
       "      <td>37.2</td>\n",
       "      <td>99.7</td>\n",
       "      <td>95.6</td>\n",
       "      <td>22.5</td>\n",
       "      <td>29.1</td>\n",
       "      <td>17.7</td>\n",
       "    </tr>\n",
       "  </tbody>\n",
       "</table>\n",
       "</div>"
      ],
      "text/plain": [
       "   Bodyfat  Age  Weight  Height  Neck  Chest  Abdomen  Ankle  Biceps  Wrist\n",
       "0     32.3   41  247.25   73.50  42.1  117.0    115.6   26.3    37.3   19.7\n",
       "1     22.5   31  177.25   71.50  36.2  101.1     92.4   24.6    30.1   18.2\n",
       "2     22.0   42  156.25   69.00  35.5   97.8     86.0   24.0    31.2   17.4\n",
       "3     12.3   23  154.25   67.75  36.2   93.1     85.2   21.9    32.0   17.1\n",
       "4     20.5   46  177.00   70.00  37.2   99.7     95.6   22.5    29.1   17.7"
      ]
     },
     "execution_count": 29,
     "metadata": {},
     "output_type": "execute_result"
    }
   ],
   "source": [
    "bf.head()"
   ]
  },
  {
   "cell_type": "code",
   "execution_count": 30,
   "metadata": {},
   "outputs": [
    {
     "data": {
      "text/plain": [
       "(100, 10)"
      ]
     },
     "execution_count": 30,
     "metadata": {},
     "output_type": "execute_result"
    }
   ],
   "source": [
    "bf.shape  ## 725 records"
   ]
  },
  {
   "cell_type": "code",
   "execution_count": 31,
   "metadata": {},
   "outputs": [
    {
     "data": {
      "text/plain": [
       "Bodyfat    0\n",
       "Age        0\n",
       "Weight     0\n",
       "Height     0\n",
       "Neck       0\n",
       "Chest      0\n",
       "Abdomen    0\n",
       "Ankle      0\n",
       "Biceps     0\n",
       "Wrist      0\n",
       "dtype: int64"
      ]
     },
     "execution_count": 31,
     "metadata": {},
     "output_type": "execute_result"
    }
   ],
   "source": [
    "bf.isnull().sum()"
   ]
  },
  {
   "cell_type": "code",
   "execution_count": 32,
   "metadata": {},
   "outputs": [
    {
     "data": {
      "text/plain": [
       "0     32.3\n",
       "1     22.5\n",
       "2     22.0\n",
       "3     12.3\n",
       "4     20.5\n",
       "5     22.6\n",
       "6     28.7\n",
       "7     21.3\n",
       "8     29.9\n",
       "9     21.3\n",
       "10    29.9\n",
       "11    20.4\n",
       "12    16.9\n",
       "13    14.7\n",
       "14    10.8\n",
       "15    26.7\n",
       "16    11.3\n",
       "17    18.1\n",
       "18     8.8\n",
       "19    11.8\n",
       "20    11.0\n",
       "21    14.9\n",
       "22    31.9\n",
       "23    17.3\n",
       "24    30.7\n",
       "25    40.1\n",
       "26    34.5\n",
       "27    23.3\n",
       "28     6.0\n",
       "29    24.5\n",
       "      ... \n",
       "70    10.6\n",
       "71     6.3\n",
       "72     5.2\n",
       "73    20.4\n",
       "74    24.8\n",
       "75    25.3\n",
       "76    18.2\n",
       "77    26.8\n",
       "78    26.0\n",
       "79     9.4\n",
       "80    17.0\n",
       "81    14.1\n",
       "82    16.6\n",
       "83    18.8\n",
       "84    16.0\n",
       "85    16.5\n",
       "86    20.8\n",
       "87     7.8\n",
       "88    13.8\n",
       "89    17.4\n",
       "90    22.1\n",
       "91    27.2\n",
       "92    28.4\n",
       "93     3.7\n",
       "94    10.3\n",
       "95    20.1\n",
       "96    29.4\n",
       "97    13.0\n",
       "98    25.2\n",
       "99     4.0\n",
       "Name: Bodyfat, Length: 100, dtype: float64"
      ]
     },
     "execution_count": 32,
     "metadata": {},
     "output_type": "execute_result"
    }
   ],
   "source": [
    "bf_y = bf.iloc[ :,0]\n",
    "bf_y"
   ]
  },
  {
   "cell_type": "markdown",
   "metadata": {},
   "source": [
    "# SAMPLING"
   ]
  },
  {
   "cell_type": "code",
   "execution_count": 33,
   "metadata": {},
   "outputs": [],
   "source": [
    "import sklearn\n",
    "\n",
    "from sklearn.model_selection import train_test_split"
   ]
  },
  {
   "cell_type": "code",
   "execution_count": 34,
   "metadata": {},
   "outputs": [
    {
     "ename": "NameError",
     "evalue": "name 'lc_x' is not defined",
     "output_type": "error",
     "traceback": [
      "\u001b[1;31m---------------------------------------------------------------------------\u001b[0m",
      "\u001b[1;31mNameError\u001b[0m                                 Traceback (most recent call last)",
      "\u001b[1;32m<ipython-input-34-fbcc2e638bd5>\u001b[0m in \u001b[0;36m<module>\u001b[1;34m\u001b[0m\n\u001b[1;32m----> 1\u001b[1;33m \u001b[0mlc_x_train\u001b[0m\u001b[1;33m,\u001b[0m \u001b[0mlc_x_test\u001b[0m\u001b[1;33m,\u001b[0m\u001b[0mlc_y_train\u001b[0m\u001b[1;33m,\u001b[0m \u001b[0mlc_y_test\u001b[0m \u001b[1;33m=\u001b[0m \u001b[0mtrain_test_split\u001b[0m\u001b[1;33m(\u001b[0m\u001b[0mlc_x\u001b[0m\u001b[1;33m,\u001b[0m \u001b[0mlc_y\u001b[0m\u001b[1;33m,\u001b[0m \u001b[0mtest_size\u001b[0m\u001b[1;33m=\u001b[0m \u001b[1;36m0.2\u001b[0m \u001b[1;33m,\u001b[0m \u001b[0mrandom_state\u001b[0m \u001b[1;33m=\u001b[0m \u001b[1;36m101\u001b[0m\u001b[1;33m)\u001b[0m\u001b[1;33m\u001b[0m\u001b[1;33m\u001b[0m\u001b[0m\n\u001b[0m\u001b[0;32m      2\u001b[0m \u001b[1;31m## seed in R is similar to random_state in Python\u001b[0m\u001b[1;33m\u001b[0m\u001b[1;33m\u001b[0m\u001b[1;33m\u001b[0m\u001b[0m\n",
      "\u001b[1;31mNameError\u001b[0m: name 'lc_x' is not defined"
     ]
    }
   ],
   "source": [
    "lc_x_train, lc_x_test,lc_y_train, lc_y_test = train_test_split(lc_x, lc_y, test_size= 0.2 , random_state = 101)\n",
    "## seed in R is similar to random_state in Python"
   ]
  },
  {
   "cell_type": "markdown",
   "metadata": {},
   "source": [
    "# LINEAR MODELLING"
   ]
  },
  {
   "cell_type": "code",
   "execution_count": 35,
   "metadata": {},
   "outputs": [],
   "source": [
    "\n",
    "from sklearn import linear_model"
   ]
  },
  {
   "cell_type": "code",
   "execution_count": 36,
   "metadata": {},
   "outputs": [],
   "source": [
    "reg = linear_model.LinearRegression()"
   ]
  },
  {
   "cell_type": "code",
   "execution_count": 37,
   "metadata": {},
   "outputs": [
    {
     "data": {
      "text/plain": [
       "LinearRegression(copy_X=True, fit_intercept=True, n_jobs=None, normalize=False)"
      ]
     },
     "execution_count": 37,
     "metadata": {},
     "output_type": "execute_result"
    }
   ],
   "source": [
    "reg.fit(bf_x, bf_y)\n"
   ]
  },
  {
   "cell_type": "code",
   "execution_count": 38,
   "metadata": {},
   "outputs": [
    {
     "data": {
      "text/plain": [
       "array([33.07576492, 18.0918425 , 16.31112744, 14.97288931, 23.29454055,\n",
       "       23.98913666, 26.35737188, 19.55923188, 29.48546109, 22.50432415,\n",
       "       26.06861731, 20.72101129, 17.35243672, 12.52384121,  6.00443618,\n",
       "       25.10109166, 14.86544856, 13.91298058, 13.51318573, 17.0680793 ,\n",
       "       15.31315485, 15.8376429 , 28.76909167, 11.36121537, 26.2448241 ,\n",
       "       39.44000243, 37.517775  , 19.26791739, 15.18279467, 23.33154731,\n",
       "       27.45812261, 20.52488275, 23.26735709, 24.34133662, 10.32877093,\n",
       "       24.02090608,  9.98326858, 14.7693591 , 17.03022846, 22.1812068 ,\n",
       "       18.47267149, 16.32173622, 20.53132466, 27.20739395, 14.76117054,\n",
       "       21.12971998, 20.23187325, 34.50257462, 11.87644873, 17.06402782,\n",
       "       10.8063184 , 22.03903916,  7.38477586, 12.17491606, 12.65621994,\n",
       "       16.55450634, 24.93984374, 26.1063145 , 17.92221596, 13.42287184,\n",
       "       18.77764653, 17.62719522,  7.01831269, 15.04946703,  6.85499377,\n",
       "       26.69766708, 15.93177179,  9.25044756,  9.06317213, 15.87432041,\n",
       "       18.88809357,  9.70761059, 16.18191044, 21.51176725, 23.36756138,\n",
       "       25.83188751, 18.15117828, 20.48392197, 30.32673826,  5.673202  ,\n",
       "       15.37711538, 12.85234789, 18.33051659, 25.46320473, 16.71808466,\n",
       "       16.29004166, 17.64151139, 12.38108207, 15.37723621, 16.82333501,\n",
       "       16.82528027, 25.56538845, 21.77209   ,  8.33324624,  9.73829763,\n",
       "       17.57467207, 26.71837395, 14.52829908, 27.3455554 ,  5.12526913])"
      ]
     },
     "execution_count": 38,
     "metadata": {},
     "output_type": "execute_result"
    }
   ],
   "source": [
    "pred_val = reg.predict(bf_x)\n",
    "pred_val"
   ]
  },
  {
   "cell_type": "code",
   "execution_count": 39,
   "metadata": {},
   "outputs": [
    {
     "data": {
      "text/plain": [
       "-23.664199886469792"
      ]
     },
     "execution_count": 39,
     "metadata": {},
     "output_type": "execute_result"
    }
   ],
   "source": [
    "reg.coef_   ### b1,b2,b3,b4,b5\n",
    "reg.intercept_  ## B0\n",
    "## y= b0+ b1x1 +b2x2 + b3x3 +b4x4 +b5x5 + epsilon"
   ]
  },
  {
   "cell_type": "code",
   "execution_count": 40,
   "metadata": {},
   "outputs": [
    {
     "data": {
      "text/plain": [
       "array([ 8.37793344e-02, -8.33221931e-02,  3.59322556e-02,  1.12299488e-03,\n",
       "       -1.38741586e-01,  1.03274094e+00,  2.25942608e-01,  1.48276392e-01,\n",
       "       -2.20339906e+00])"
      ]
     },
     "execution_count": 40,
     "metadata": {},
     "output_type": "execute_result"
    }
   ],
   "source": [
    "reg.coef_"
   ]
  },
  {
   "cell_type": "code",
   "execution_count": 41,
   "metadata": {},
   "outputs": [
    {
     "data": {
      "text/plain": [
       "0.7574718145674211"
      ]
     },
     "execution_count": 41,
     "metadata": {},
     "output_type": "execute_result"
    }
   ],
   "source": [
    "reg.score(bf_x, bf_y)  ### R-square"
   ]
  },
  {
   "cell_type": "code",
   "execution_count": 42,
   "metadata": {},
   "outputs": [
    {
     "ename": "NameError",
     "evalue": "name 'lc_x_train' is not defined",
     "output_type": "error",
     "traceback": [
      "\u001b[1;31m---------------------------------------------------------------------------\u001b[0m",
      "\u001b[1;31mNameError\u001b[0m                                 Traceback (most recent call last)",
      "\u001b[1;32m<ipython-input-42-c9ff48e75e6a>\u001b[0m in \u001b[0;36m<module>\u001b[1;34m\u001b[0m\n\u001b[1;32m----> 1\u001b[1;33m \u001b[0madjusted_r_square\u001b[0m \u001b[1;33m=\u001b[0m \u001b[0mfloat\u001b[0m\u001b[1;33m(\u001b[0m\u001b[1;36m1\u001b[0m \u001b[1;33m-\u001b[0m \u001b[1;33m(\u001b[0m\u001b[1;33m(\u001b[0m\u001b[1;36m1\u001b[0m\u001b[1;33m-\u001b[0m\u001b[0mreg\u001b[0m\u001b[1;33m.\u001b[0m\u001b[0mscore\u001b[0m\u001b[1;33m(\u001b[0m\u001b[0mlc_x_train\u001b[0m\u001b[1;33m,\u001b[0m \u001b[0mlc_y_train\u001b[0m\u001b[1;33m)\u001b[0m\u001b[1;33m)\u001b[0m\u001b[1;33m(\u001b[0m\u001b[1;36m580\u001b[0m\u001b[1;33m-\u001b[0m\u001b[1;36m1\u001b[0m\u001b[1;33m)\u001b[0m\u001b[1;33m/\u001b[0m\u001b[1;36m580\u001b[0m\u001b[1;33m-\u001b[0m\u001b[1;36m5\u001b[0m\u001b[1;33m-\u001b[0m\u001b[1;36m1\u001b[0m\u001b[1;33m)\u001b[0m\u001b[1;33m)\u001b[0m  \u001b[1;31m##adjusted r square\u001b[0m\u001b[1;33m\u001b[0m\u001b[1;33m\u001b[0m\u001b[0m\n\u001b[0m",
      "\u001b[1;31mNameError\u001b[0m: name 'lc_x_train' is not defined"
     ]
    }
   ],
   "source": [
    "adjusted_r_square = float(1 - ((1-reg.score(lc_x_train, lc_y_train))(580-1)/580-5-1))  ##adjusted r square"
   ]
  },
  {
   "cell_type": "markdown",
   "metadata": {},
   "source": [
    "# LASSOS"
   ]
  },
  {
   "cell_type": "code",
   "execution_count": null,
   "metadata": {},
   "outputs": [],
   "source": [
    "from sklearn.linear_model import Lasso"
   ]
  },
  {
   "cell_type": "code",
   "execution_count": 43,
   "metadata": {},
   "outputs": [],
   "source": [
    "lasso=Lasso()"
   ]
  },
  {
   "cell_type": "code",
   "execution_count": 44,
   "metadata": {},
   "outputs": [
    {
     "data": {
      "text/plain": [
       "Lasso(alpha=1.0, copy_X=True, fit_intercept=True, max_iter=1000,\n",
       "      normalize=False, positive=False, precompute=False, random_state=None,\n",
       "      selection='cyclic', tol=0.0001, warm_start=False)"
      ]
     },
     "execution_count": 44,
     "metadata": {},
     "output_type": "execute_result"
    }
   ],
   "source": [
    "lasso.fit(bf_x, bf_y)"
   ]
  },
  {
   "cell_type": "code",
   "execution_count": 45,
   "metadata": {},
   "outputs": [
    {
     "data": {
      "text/plain": [
       "array([ 0.01459462, -0.13525194, -0.        , -0.        , -0.        ,\n",
       "        0.96688777, -0.        ,  0.        , -0.        ])"
      ]
     },
     "execution_count": 45,
     "metadata": {},
     "output_type": "execute_result"
    }
   ],
   "source": [
    "lasso.coef_"
   ]
  },
  {
   "cell_type": "markdown",
   "metadata": {},
   "source": [
    "# RIDGE"
   ]
  },
  {
   "cell_type": "code",
   "execution_count": 46,
   "metadata": {},
   "outputs": [],
   "source": [
    "from sklearn.linear_model import Ridge"
   ]
  },
  {
   "cell_type": "code",
   "execution_count": 47,
   "metadata": {},
   "outputs": [],
   "source": [
    "ridge = Ridge()"
   ]
  },
  {
   "cell_type": "code",
   "execution_count": 48,
   "metadata": {},
   "outputs": [
    {
     "data": {
      "text/plain": [
       "Ridge(alpha=1.0, copy_X=True, fit_intercept=True, max_iter=None,\n",
       "      normalize=False, random_state=None, solver='auto', tol=0.001)"
      ]
     },
     "execution_count": 48,
     "metadata": {},
     "output_type": "execute_result"
    }
   ],
   "source": [
    "ridge.fit(bf_x,bf_y)"
   ]
  },
  {
   "cell_type": "code",
   "execution_count": 49,
   "metadata": {},
   "outputs": [
    {
     "data": {
      "text/plain": [
       "array([33.04237661, 18.11710727, 16.28443645, 14.9822037 , 23.27043719,\n",
       "       23.99671372, 26.37691585, 19.55353224, 29.39784443, 22.46145545,\n",
       "       26.04556605, 20.75576154, 17.34140886, 12.51603363,  6.0367129 ,\n",
       "       25.11225082, 14.85858425, 13.85646209, 13.51936712, 17.00356878,\n",
       "       15.38447391, 15.81161178, 28.85236984, 11.38983526, 26.28372917,\n",
       "       39.37761555, 37.61790321, 19.26333749, 15.16413386, 23.35871454,\n",
       "       27.41475949, 20.54006645, 23.32433365, 24.3161525 , 10.36469678,\n",
       "       23.96026026, 10.01573622, 14.77654274, 17.04972773, 22.18734693,\n",
       "       18.44740226, 16.30956655, 20.52922887, 27.15370802, 14.79151911,\n",
       "       21.04740924, 20.28890595, 34.46814816, 11.90922216, 17.0432843 ,\n",
       "       10.77911208, 21.99582252,  7.4481802 , 12.14902921, 12.64788924,\n",
       "       16.48869553, 24.98662264, 26.14593228, 17.97635632, 13.40503078,\n",
       "       18.75809689, 17.61154127,  7.01342734, 15.06962637,  6.85979798,\n",
       "       26.73008376, 15.90294844,  9.30792062,  9.0538404 , 15.82331146,\n",
       "       18.85661235,  9.75596617, 16.13392754, 21.42805853, 23.34274672,\n",
       "       25.9115627 , 18.18276614, 20.44170861, 30.26234446,  5.76826529,\n",
       "       15.33273937, 12.86868056, 18.31857469, 25.50831718, 16.71286034,\n",
       "       16.3204589 , 17.64409532, 12.35984102, 15.43849372, 16.89478156,\n",
       "       16.82885849, 25.55016054, 21.76487438,  8.3618755 ,  9.74828744,\n",
       "       17.56349399, 26.63968962, 14.61854128, 27.31224376,  5.10542756])"
      ]
     },
     "execution_count": 49,
     "metadata": {},
     "output_type": "execute_result"
    }
   ],
   "source": [
    "ridge.predict(bf_x)"
   ]
  },
  {
   "cell_type": "markdown",
   "metadata": {},
   "source": [
    "# ridge coeff"
   ]
  },
  {
   "cell_type": "code",
   "execution_count": 50,
   "metadata": {},
   "outputs": [
    {
     "name": "stdout",
     "output_type": "stream",
     "text": [
      "[0.08163351848683262, -0.0842158757028082, 0.03312491732399934, -0.013235660629592381, -0.1368397117054755, 1.0327911018226676, 0.20932576276169368, 0.14674991467517504, -2.1210462103146055]\n"
     ]
    }
   ],
   "source": [
    "print(list(ridge.coef_))  ## values of coefficients are  a bit lower than linear"
   ]
  },
  {
   "cell_type": "markdown",
   "metadata": {},
   "source": [
    "# linear reg coeff"
   ]
  },
  {
   "cell_type": "code",
   "execution_count": 51,
   "metadata": {},
   "outputs": [
    {
     "name": "stdout",
     "output_type": "stream",
     "text": [
      "[0.08377933438604604, -0.08332219313213331, 0.03593225564143872, 0.0011229948790046176, -0.13874158595231734, 1.0327409379140948, 0.22594260805452301, 0.14827639214847504, -2.2033990564504498]\n"
     ]
    }
   ],
   "source": [
    "print(list(reg.coef_))\n"
   ]
  },
  {
   "cell_type": "markdown",
   "metadata": {},
   "source": [
    "# lasso coeff"
   ]
  },
  {
   "cell_type": "code",
   "execution_count": 55,
   "metadata": {},
   "outputs": [
    {
     "name": "stdout",
     "output_type": "stream",
     "text": [
      "[0.014594621279991022, -0.1352519356100266, -0.0, -0.0, -0.0, 0.9668877689527671, -0.0, 0.0, -0.0]\n"
     ]
    }
   ],
   "source": [
    "print(list(lasso.coef_))  ## can be used for feature selection "
   ]
  },
  {
   "cell_type": "markdown",
   "metadata": {},
   "source": [
    "# RFE"
   ]
  },
  {
   "cell_type": "code",
   "execution_count": 78,
   "metadata": {},
   "outputs": [],
   "source": [
    "from sklearn.feature_selection import RFE \n",
    "rfe = RFE(reg, 5)\n"
   ]
  },
  {
   "cell_type": "code",
   "execution_count": 79,
   "metadata": {},
   "outputs": [
    {
     "data": {
      "text/plain": [
       "RFE(estimator=LinearRegression(copy_X=True, fit_intercept=True, n_jobs=None,\n",
       "                               normalize=False),\n",
       "    n_features_to_select=5, step=1, verbose=0)"
      ]
     },
     "execution_count": 79,
     "metadata": {},
     "output_type": "execute_result"
    }
   ],
   "source": [
    "rfe.fit(bf_x, bf_y)"
   ]
  },
  {
   "cell_type": "code",
   "execution_count": 80,
   "metadata": {},
   "outputs": [
    {
     "name": "stdout",
     "output_type": "stream",
     "text": [
      "[ True False False False  True  True False  True  True]\n"
     ]
    }
   ],
   "source": [
    "print(rfe.support_)"
   ]
  },
  {
   "cell_type": "code",
   "execution_count": 81,
   "metadata": {},
   "outputs": [
    {
     "data": {
      "text/html": [
       "<div>\n",
       "<style scoped>\n",
       "    .dataframe tbody tr th:only-of-type {\n",
       "        vertical-align: middle;\n",
       "    }\n",
       "\n",
       "    .dataframe tbody tr th {\n",
       "        vertical-align: top;\n",
       "    }\n",
       "\n",
       "    .dataframe thead th {\n",
       "        text-align: right;\n",
       "    }\n",
       "</style>\n",
       "<table border=\"1\" class=\"dataframe\">\n",
       "  <thead>\n",
       "    <tr style=\"text-align: right;\">\n",
       "      <th></th>\n",
       "      <th>Feature Names</th>\n",
       "      <th>Importance</th>\n",
       "    </tr>\n",
       "  </thead>\n",
       "  <tbody>\n",
       "    <tr>\n",
       "      <th>0</th>\n",
       "      <td>Age</td>\n",
       "      <td>True</td>\n",
       "    </tr>\n",
       "    <tr>\n",
       "      <th>4</th>\n",
       "      <td>Chest</td>\n",
       "      <td>True</td>\n",
       "    </tr>\n",
       "    <tr>\n",
       "      <th>5</th>\n",
       "      <td>Abdomen</td>\n",
       "      <td>True</td>\n",
       "    </tr>\n",
       "    <tr>\n",
       "      <th>7</th>\n",
       "      <td>Biceps</td>\n",
       "      <td>True</td>\n",
       "    </tr>\n",
       "    <tr>\n",
       "      <th>8</th>\n",
       "      <td>Wrist</td>\n",
       "      <td>True</td>\n",
       "    </tr>\n",
       "    <tr>\n",
       "      <th>1</th>\n",
       "      <td>Weight</td>\n",
       "      <td>False</td>\n",
       "    </tr>\n",
       "    <tr>\n",
       "      <th>2</th>\n",
       "      <td>Height</td>\n",
       "      <td>False</td>\n",
       "    </tr>\n",
       "    <tr>\n",
       "      <th>3</th>\n",
       "      <td>Neck</td>\n",
       "      <td>False</td>\n",
       "    </tr>\n",
       "    <tr>\n",
       "      <th>6</th>\n",
       "      <td>Ankle</td>\n",
       "      <td>False</td>\n",
       "    </tr>\n",
       "  </tbody>\n",
       "</table>\n",
       "</div>"
      ],
      "text/plain": [
       "  Feature Names  Importance\n",
       "0           Age        True\n",
       "4         Chest        True\n",
       "5       Abdomen        True\n",
       "7        Biceps        True\n",
       "8         Wrist        True\n",
       "1        Weight       False\n",
       "2        Height       False\n",
       "3          Neck       False\n",
       "6         Ankle       False"
      ]
     },
     "execution_count": 81,
     "metadata": {},
     "output_type": "execute_result"
    }
   ],
   "source": [
    "df = pd.DataFrame( { \"Feature Names\": list(bf_x.columns) , \"Importance\" : list(rfe.support_)})\n",
    "df.sort_values(['Importance'], ascending = False )"
   ]
  },
  {
   "cell_type": "code",
   "execution_count": null,
   "metadata": {},
   "outputs": [],
   "source": [
    "## wrist, abdoment, chest, age , biceps"
   ]
  }
 ],
 "metadata": {
  "kernelspec": {
   "display_name": "Python 3",
   "language": "python",
   "name": "python3"
  },
  "language_info": {
   "codemirror_mode": {
    "name": "ipython",
    "version": 3
   },
   "file_extension": ".py",
   "mimetype": "text/x-python",
   "name": "python",
   "nbconvert_exporter": "python",
   "pygments_lexer": "ipython3",
   "version": "3.7.3"
  }
 },
 "nbformat": 4,
 "nbformat_minor": 2
}
