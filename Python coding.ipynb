{
 "cells": [
  {
   "cell_type": "code",
   "execution_count": 1,
   "metadata": {},
   "outputs": [],
   "source": [
    "# colon and indentation"
   ]
  },
  {
   "cell_type": "code",
   "execution_count": 5,
   "metadata": {},
   "outputs": [
    {
     "name": "stdout",
     "output_type": "stream",
     "text": [
      "Valueof i is greater than 20\n"
     ]
    }
   ],
   "source": [
    "i=20\n",
    "\n",
    "##if - else\n",
    "#-------------------------\n",
    "if i<=10:\n",
    "    print(\"inside the if loop\")\n",
    "    print(\"Value of i is\", i)\n",
    "else :\n",
    "    print(\"Valueof i is greater than\", i)"
   ]
  },
  {
   "cell_type": "code",
   "execution_count": 12,
   "metadata": {},
   "outputs": [
    {
     "name": "stdout",
     "output_type": "stream",
     "text": [
      "Valueof i is greater than ten 20\n"
     ]
    }
   ],
   "source": [
    "## multiple if else\n",
    "i=20\n",
    "\n",
    "if i<5:\n",
    "    print(\"inside the if loop\")\n",
    "    print(\"Value of i is\", i)\n",
    "elif i==10 :\n",
    "    print(\"Valueof i is equal to ten\",i)\n",
    "elif i==8 :\n",
    "    print(\"Valueof i is equal to eight\",i)\n",
    "else:\n",
    "    print(\"Valueof i is greater than ten\",i)"
   ]
  },
  {
   "cell_type": "code",
   "execution_count": 15,
   "metadata": {},
   "outputs": [
    {
     "name": "stdout",
     "output_type": "stream",
     "text": [
      "1\n",
      "4\n",
      "9\n",
      "16\n",
      "25\n",
      "36\n",
      "49\n",
      "119025\n"
     ]
    }
   ],
   "source": [
    "## for loop\n",
    "list = [1,2,3,4,5,6,7, 345]\n",
    "\n",
    "for i in list:\n",
    "    print(i*i)"
   ]
  },
  {
   "cell_type": "code",
   "execution_count": 2,
   "metadata": {},
   "outputs": [
    {
     "name": "stdout",
     "output_type": "stream",
     "text": [
      "1  is Odd\n",
      "2  is Even 2 lkjlk\n",
      "3  is Odd\n",
      "4  is Even 4 lkjlk\n",
      "5  is Odd\n",
      "6  is Even 6 lkjlk\n",
      "7  is Odd\n",
      "8  is Even 8 lkjlk\n"
     ]
    }
   ],
   "source": [
    "## create a for loop1 to 20 and print odd and even\n",
    "list1= range(1,9) \n",
    "\n",
    "for i in list1 :\n",
    "    if i%2 == 0 :\n",
    "        print(i ,\" is Even\",i,\"lkjlk\")\n",
    "    else :\n",
    "        print (i ,\" is Odd\")\n",
    "        "
   ]
  },
  {
   "cell_type": "code",
   "execution_count": null,
   "metadata": {},
   "outputs": [],
   "source": []
  },
  {
   "cell_type": "code",
   "execution_count": null,
   "metadata": {},
   "outputs": [],
   "source": []
  },
  {
   "cell_type": "code",
   "execution_count": 80,
   "metadata": {},
   "outputs": [
    {
     "name": "stdout",
     "output_type": "stream",
     "text": [
      "0\n",
      "1\n",
      "2\n",
      "3\n",
      "4\n",
      "5\n"
     ]
    }
   ],
   "source": [
    "## while loop\n",
    "\n",
    "i=0\n",
    "\n",
    "while i <10:\n",
    "    print(i)\n",
    "    i = i+1\n",
    "    if i >5:\n",
    "        break\n",
    "    "
   ]
  },
  {
   "cell_type": "markdown",
   "metadata": {},
   "source": [
    "# function -def"
   ]
  },
  {
   "cell_type": "code",
   "execution_count": 81,
   "metadata": {},
   "outputs": [
    {
     "name": "stdout",
     "output_type": "stream",
     "text": [
      "123\n",
      "123\n"
     ]
    }
   ],
   "source": [
    "def add_num (a,b):\n",
    "    '''This function is to add the numbers\n",
    "        a and b are arguments\n",
    "        siyappa\n",
    "    '''\n",
    "    global d\n",
    "    d= a+b\n",
    "    print(d)\n",
    "    \n",
    "add_num(0,123) \n",
    "print(d)"
   ]
  },
  {
   "cell_type": "code",
   "execution_count": null,
   "metadata": {},
   "outputs": [],
   "source": [
    "#User Defined Function"
   ]
  },
  {
   "cell_type": "code",
   "execution_count": null,
   "metadata": {},
   "outputs": [],
   "source": []
  },
  {
   "cell_type": "code",
   "execution_count": null,
   "metadata": {},
   "outputs": [],
   "source": []
  },
  {
   "cell_type": "code",
   "execution_count": null,
   "metadata": {},
   "outputs": [],
   "source": []
  }
 ],
 "metadata": {
  "kernelspec": {
   "display_name": "Python 3",
   "language": "python",
   "name": "python3"
  },
  "language_info": {
   "codemirror_mode": {
    "name": "ipython",
    "version": 3
   },
   "file_extension": ".py",
   "mimetype": "text/x-python",
   "name": "python",
   "nbconvert_exporter": "python",
   "pygments_lexer": "ipython3",
   "version": "3.7.3"
  }
 },
 "nbformat": 4,
 "nbformat_minor": 2
}
